{
 "cells": [
  {
   "cell_type": "markdown",
   "metadata": {
    "id": "bDYb4uuwZ2xh"
   },
   "source": [
    "# 1.&nbsp;Set Up"
   ]
  },
  {
   "cell_type": "code",
   "execution_count": 1,
   "metadata": {
    "id": "_NXz7PBlN_KU"
   },
   "outputs": [],
   "source": [
    "# Import Libraries\n",
    "import os\n",
    "import glob\n",
    "import shutil\n",
    "import sys\n",
    "from pathlib import Path\n",
    "import pandas as pd"
   ]
  },
  {
   "cell_type": "code",
   "execution_count": 2,
   "metadata": {
    "id": "8GkeyXnRAA_-"
   },
   "outputs": [
    {
     "data": {
      "text/plain": [
       "\"\\nfrom google.colab import drive \\ndrive.mount('/content/gdrive')\\n\""
      ]
     },
     "execution_count": 2,
     "metadata": {},
     "output_type": "execute_result"
    }
   ],
   "source": [
    "# Accessing Google Drive from Google Colab\n",
    "\n",
    "'''\n",
    "from google.colab import drive \n",
    "drive.mount('/content/gdrive')\n",
    "'''"
   ]
  },
  {
   "cell_type": "markdown",
   "metadata": {
    "id": "u1Ow-Eg4YHZA"
   },
   "source": [
    "# 2.&nbsp;Paths : CWD, Absolute vs Relative paths"
   ]
  },
  {
   "cell_type": "markdown",
   "metadata": {
    "id": "lqaHbSJVl6_p"
   },
   "source": [
    "## CWD: current working directory"
   ]
  },
  {
   "cell_type": "code",
   "execution_count": 3,
   "metadata": {
    "id": "bbKBUTlTYHZB"
   },
   "outputs": [
    {
     "name": "stdout",
     "output_type": "stream",
     "text": [
      "The current working directory is : \n"
     ]
    },
    {
     "data": {
      "text/plain": [
       "'/home/e57658/workspace/Excel_Automation_Python'"
      ]
     },
     "execution_count": 3,
     "metadata": {},
     "output_type": "execute_result"
    }
   ],
   "source": [
    "# get absolute path to current working directory\n",
    "\n",
    "os.chdir('/home/e57658/workspace/Excel_Automation_Python')\n",
    "print('The current working directory is : ')\n",
    "os.getcwd() "
   ]
  },
  {
   "cell_type": "code",
   "execution_count": 4,
   "metadata": {
    "id": "HOSQo6ofYZIi"
   },
   "outputs": [
    {
     "data": {
      "text/plain": [
       "'/home/e57658/workspace/Excel_Automation_Python'"
      ]
     },
     "execution_count": 4,
     "metadata": {},
     "output_type": "execute_result"
    }
   ],
   "source": [
    "# save current working directory as cwd\n",
    "cwd = os.getcwd()\n",
    "cwd"
   ]
  },
  {
   "cell_type": "code",
   "execution_count": 5,
   "metadata": {
    "id": "YAud5pWJjR7D"
   },
   "outputs": [
    {
     "data": {
      "text/plain": [
       "['.ipynb_checkpoints',\n",
       " 'Files_Manipulation.ipynb',\n",
       " 'config.yaml',\n",
       " 'Module_1',\n",
       " 'Module_2',\n",
       " 'Module_3',\n",
       " 'Module_4']"
      ]
     },
     "execution_count": 5,
     "metadata": {},
     "output_type": "execute_result"
    }
   ],
   "source": [
    "# List all files and directories in current directory\n",
    "\n",
    "os.listdir('.') #  ==> we have 3 directories : config, gdrive, sample_data and other files"
   ]
  },
  {
   "cell_type": "code",
   "execution_count": 6,
   "metadata": {
    "id": "aRUp1uLfjgcx"
   },
   "outputs": [
    {
     "name": "stdout",
     "output_type": "stream",
     "text": [
      "['HR.xlsx', '.ipynb_checkpoints', 'Files_Manipulation_Collab.ipynb', 'Files_Manipulation_Collab-v2.ipynb', 'Files_Manipulation_Collab-Sparrow.ipynb', 'HR_DE.xlsx', 'Files_Manipulation_Collab-Sparrow-v2.ipynb', 'Excels', 'HR_UK.xlsx']\n"
     ]
    }
   ],
   "source": [
    "# check conaining in sample_data directory\n",
    "\n",
    "print(os.listdir('Module_2'))"
   ]
  },
  {
   "cell_type": "markdown",
   "metadata": {
    "id": "1NeODryrmHWC"
   },
   "source": [
    "## Paths: Absolute & Relative"
   ]
  },
  {
   "cell_type": "markdown",
   "metadata": {
    "id": "JSOoWIiOk4Jw"
   },
   "source": [
    "**Absolute file paths** are notated by a leading forward slash or drive label. For example, /home/example_user/example_directory or C:/system32/cmd.exe. An absolute file path describes how to access a given file or directory, starting from the root of the file system. A file path is also called a pathname.\n"
   ]
  },
  {
   "cell_type": "code",
   "execution_count": 7,
   "metadata": {
    "id": "W1nieMycjfI6"
   },
   "outputs": [
    {
     "name": "stdout",
     "output_type": "stream",
     "text": [
      "['.ipynb_checkpoints', 'Files_Manipulation.ipynb', 'config.yaml', 'Module_1', 'Module_2', 'Module_3', 'Module_4']\n",
      "\n",
      "['HR.xlsx', '.ipynb_checkpoints', 'Files_Manipulation_Collab.ipynb', 'Files_Manipulation_Collab-v2.ipynb', 'Files_Manipulation_Collab-Sparrow.ipynb', 'HR_DE.xlsx', 'Files_Manipulation_Collab-Sparrow-v2.ipynb', 'Excels', 'HR_UK.xlsx']\n",
      "\n",
      "['UK_old.xlsx', 'DE.xlsx', 'UK.xlsx', 'FR.xlsx']\n"
     ]
    }
   ],
   "source": [
    "# check conaining in gdrive directory with aboslute path\n",
    "\n",
    "# in COLAB\n",
    "# -----------\n",
    "'''\n",
    "print(os.listdir('/content/gdrive')) \n",
    "print(os.listdir('/content/gdrive/MyDrive'))\n",
    "print(os.listdir('/content/gdrive/MyDrive/Colab Notebooks'))\n",
    "\n",
    "'''\n",
    "# -----\n",
    "\n",
    "print(os.listdir('/home/e57658/workspace/Excel_Automation_Python')) \n",
    "print('')\n",
    "print(os.listdir('/home/e57658/workspace/Excel_Automation_Python/Module_2'))\n",
    "print('')\n",
    "print(os.listdir('/home/e57658/workspace/Excel_Automation_Python/Module_2/Excels'))\n"
   ]
  },
  {
   "cell_type": "code",
   "execution_count": null,
   "metadata": {},
   "outputs": [],
   "source": []
  },
  {
   "cell_type": "markdown",
   "metadata": {
    "id": "ZkNB-oRjlG7U"
   },
   "source": [
    "**Relative file paths** are notated by a lack of a leading forward slash. For example, example_directory. A relative file path is interpreted from the perspective your current working directory. If you use a relative file path from the wrong directory, then the path will refer to a different file than you intend, or it will refer to no file at all."
   ]
  },
  {
   "cell_type": "code",
   "execution_count": 8,
   "metadata": {
    "id": "ZfOiSUfmkiKT"
   },
   "outputs": [
    {
     "name": "stdout",
     "output_type": "stream",
     "text": [
      "['.ipynb_checkpoints', 'Files_Manipulation.ipynb', 'config.yaml', 'Module_1', 'Module_2', 'Module_3', 'Module_4']\n",
      "\n",
      "['HR.xlsx', '.ipynb_checkpoints', 'Files_Manipulation_Collab.ipynb', 'Files_Manipulation_Collab-v2.ipynb', 'Files_Manipulation_Collab-Sparrow.ipynb', 'HR_DE.xlsx', 'Files_Manipulation_Collab-Sparrow-v2.ipynb', 'Excels', 'HR_UK.xlsx']\n",
      "\n",
      "['UK_old.xlsx', 'DE.xlsx', 'UK.xlsx', 'FR.xlsx']\n"
     ]
    }
   ],
   "source": [
    "# check conaining in gdrive directory with relative path\n",
    "\n",
    "print(os.listdir('.')) \n",
    "print('')\n",
    "print(os.listdir('Module_2'))\n",
    "print('')\n",
    "print(os.listdir('Module_2/Excels'))"
   ]
  },
  {
   "cell_type": "code",
   "execution_count": 9,
   "metadata": {
    "id": "PmCZ28V6jz21"
   },
   "outputs": [],
   "source": [
    "# delete a notebook from Colab Notebook ==> Name_Notebook.ipynb after '/content/gdrive/MyDrive/Colab Notebooks/ + Name_Notebook.ipynb'\n",
    "\n",
    "# os.unlink('/content/gdrive/MyDrive/Colab Notebooks/Copy of Fille_Manipulation_Module_2_Practice.ipynb') # relative path as UK_old in the working directory\n"
   ]
  },
  {
   "cell_type": "markdown",
   "metadata": {
    "id": "YMsZrwvkmRWB"
   },
   "source": [
    "## Import files"
   ]
  },
  {
   "cell_type": "code",
   "execution_count": 10,
   "metadata": {
    "id": "vMtWKHrYDYdH"
   },
   "outputs": [
    {
     "data": {
      "text/plain": [
       "'\\n# import files into google Colab\\nfrom google.colab import files\\n'"
      ]
     },
     "execution_count": 10,
     "metadata": {},
     "output_type": "execute_result"
    }
   ],
   "source": [
    "'''\n",
    "# import files into google Colab\n",
    "from google.colab import files\n",
    "'''"
   ]
  },
  {
   "cell_type": "code",
   "execution_count": 11,
   "metadata": {
    "id": "_H0qa3TEP5n7"
   },
   "outputs": [
    {
     "data": {
      "text/plain": [
       "'\\nuploaded = files.upload()\\n'"
      ]
     },
     "execution_count": 11,
     "metadata": {},
     "output_type": "execute_result"
    }
   ],
   "source": [
    "# upload from your local : excel files \"DE.xlsx\", 'UK.xlsx\", 'FR.xlsx' and 'UK_old.xlsx'\n",
    "'''\n",
    "uploaded = files.upload()\n",
    "'''"
   ]
  },
  {
   "cell_type": "code",
   "execution_count": 12,
   "metadata": {
    "id": "G-CfZN5wYvew"
   },
   "outputs": [
    {
     "data": {
      "text/plain": [
       "['.ipynb_checkpoints',\n",
       " 'Files_Manipulation.ipynb',\n",
       " 'config.yaml',\n",
       " 'Module_1',\n",
       " 'Module_2',\n",
       " 'Module_3',\n",
       " 'Module_4']"
      ]
     },
     "execution_count": 12,
     "metadata": {},
     "output_type": "execute_result"
    }
   ],
   "source": [
    "# List all files and directories in current directory\n",
    "os.listdir('.')"
   ]
  },
  {
   "cell_type": "markdown",
   "metadata": {
    "id": "bPlad8w9_dfJ"
   },
   "source": [
    "# 3.&nbsp;Folder hierarchy tree"
   ]
  },
  {
   "cell_type": "code",
   "execution_count": 13,
   "metadata": {
    "id": "AF9Mu1YK7v-z"
   },
   "outputs": [],
   "source": [
    "# delete files\n",
    "#os.unlink('New_Folder')"
   ]
  },
  {
   "cell_type": "code",
   "execution_count": 14,
   "metadata": {
    "id": "74BL7BcF_dfK"
   },
   "outputs": [
    {
     "name": "stdout",
     "output_type": "stream",
     "text": [
      "| ---------- > Excel_Automation_Python :\n",
      "| ------------------------------ Files_Manipulation.ipynb\n",
      "| ------------------------------ config.yaml\n",
      "| ------------ > Module_1 :\n",
      "| ------------------------------------ Python_Basics.ipynb\n",
      "| ------------ > Module_2 :\n",
      "| ------------------------------------ HR.xlsx\n",
      "| ------------------------------------ Files_Manipulation_Collab.ipynb\n",
      "| ------------------------------------ Files_Manipulation_Collab-v2.ipynb\n",
      "| ------------------------------------ Files_Manipulation_Collab-Sparrow.ipynb\n",
      "| ------------------------------------ HR_DE.xlsx\n",
      "| ------------------------------------ Files_Manipulation_Collab-Sparrow-v2.ipynb\n",
      "| ------------------------------------ HR_UK.xlsx\n",
      "| -------------- > Excels :\n",
      "| ------------------------------------------ UK_old.xlsx\n",
      "| ------------------------------------------ DE.xlsx\n",
      "| ------------------------------------------ UK.xlsx\n",
      "| ------------------------------------------ FR.xlsx\n",
      "| ------------ > Module_3 :\n",
      "| ------------------------------------ Excel_processing_Basics.ipynb\n",
      "| ------------------------------------ conditional_formatting_2.xlsx\n",
      "| ------------------------------------ conditional_formatting_1.xlsx\n",
      "| ------------------------------------ Borders.xlsx\n",
      "| ------------------------------------ Budget_raw.xlsx\n",
      "| ------------------------------------ test.xlsx\n",
      "| ------------------------------------ Groceries_Formated.xlsx\n",
      "| ------------------------------------ conditional_formatting.xlsx\n",
      "| ------------------------------------ Groceries_1.xlsx\n",
      "| ------------------------------------ Groceries.xlsx\n",
      "| ------------ > Module_4 :\n",
      "| ------------------------------------ Budget_UseCase.ipynb\n",
      "| ------------------------------------ Budget_UseCase_Integral.ipynb\n",
      "| ------------------------------------ Budget_processed.xlsx\n",
      "| ------------------------------------ Formating_Budget_UseCase.ipynb\n",
      "| ------------------------------------ Formating_Budget.xlsx\n"
     ]
    }
   ],
   "source": [
    "# create a function << folder tree >> to display the the hierarchy of your cwd\n",
    "\n",
    "def folder_tree(folder):\n",
    "    for dirpath, dirs, files in os.walk(cwd):\t \n",
    "        if 'checkpoints' not in dirpath:\n",
    "                path = dirpath.split('/')     \n",
    "                print ('|', (len(path))*'--', '>',os.path.basename(dirpath),':')\n",
    "                for f in files:\n",
    "                    print ('|', len(path)*'------', f)\n",
    "                    \n",
    "\n",
    "# call function folder_tree on your cwd\n",
    "\n",
    "folder_tree(cwd)  "
   ]
  },
  {
   "cell_type": "code",
   "execution_count": 15,
   "metadata": {
    "id": "knqRLZQ-Zavw"
   },
   "outputs": [
    {
     "name": "stdout",
     "output_type": "stream",
     "text": [
      "Directory Path:  /home/e57658/workspace/Excel_Automation_Python\n",
      "5 Directories =  ['.ipynb_checkpoints', 'Module_1', 'Module_2', 'Module_3', 'Module_4']\n",
      "2 Files =  ['Files_Manipulation.ipynb', 'config.yaml']\n",
      "----------\n",
      "Directory Path:  /home/e57658/workspace/Excel_Automation_Python/Module_1\n",
      "1 Directories =  ['.ipynb_checkpoints']\n",
      "1 Files =  ['Python_Basics.ipynb']\n",
      "----------\n",
      "Directory Path:  /home/e57658/workspace/Excel_Automation_Python/Module_2\n",
      "2 Directories =  ['.ipynb_checkpoints', 'Excels']\n",
      "7 Files =  ['HR.xlsx', 'Files_Manipulation_Collab.ipynb', 'Files_Manipulation_Collab-v2.ipynb', 'Files_Manipulation_Collab-Sparrow.ipynb', 'HR_DE.xlsx', 'Files_Manipulation_Collab-Sparrow-v2.ipynb', 'HR_UK.xlsx']\n",
      "----------\n",
      "Directory Path:  /home/e57658/workspace/Excel_Automation_Python/Module_2/Excels\n",
      "0 Directories =  []\n",
      "4 Files =  ['UK_old.xlsx', 'DE.xlsx', 'UK.xlsx', 'FR.xlsx']\n",
      "----------\n",
      "Directory Path:  /home/e57658/workspace/Excel_Automation_Python/Module_3\n",
      "1 Directories =  ['.ipynb_checkpoints']\n",
      "10 Files =  ['Excel_processing_Basics.ipynb', 'conditional_formatting_2.xlsx', 'conditional_formatting_1.xlsx', 'Borders.xlsx', 'Budget_raw.xlsx', 'test.xlsx', 'Groceries_Formated.xlsx', 'conditional_formatting.xlsx', 'Groceries_1.xlsx', 'Groceries.xlsx']\n",
      "----------\n",
      "Directory Path:  /home/e57658/workspace/Excel_Automation_Python/Module_4\n",
      "1 Directories =  ['.ipynb_checkpoints']\n",
      "5 Files =  ['Budget_UseCase.ipynb', 'Budget_UseCase_Integral.ipynb', 'Budget_processed.xlsx', 'Formating_Budget_UseCase.ipynb', 'Formating_Budget.xlsx']\n",
      "----------\n"
     ]
    }
   ],
   "source": [
    "# another way to explore your folder/files \n",
    "# create function << folder_tree_2 >>\n",
    "\n",
    "\n",
    "def folder_tree_2(folder):\n",
    "    for dirPath, dirNames, fileNames in os.walk(cwd, topdown=True):\n",
    "        if 'checkpoints' not in dirPath:\n",
    "            print(\"Directory Path: \", dirPath) \n",
    "            print(len(dirNames), \"Directories = \", dirNames )\n",
    "            print(len(fileNames), \"Files = \", fileNames )\n",
    "            print('-'*10)\n",
    "\n",
    "            \n",
    "\n",
    "# call function << folder_tree_2 >> on your cwd\n",
    "# it will return all Directory Paths with contained sub_directories and files\n",
    "# nb of sub_directories and files\n",
    "\n",
    "folder_tree_2(cwd)"
   ]
  },
  {
   "cell_type": "markdown",
   "metadata": {
    "id": "FCmGQXHAsiwd"
   },
   "source": [
    "# 4.&nbsp;Looking for Files with extensions"
   ]
  },
  {
   "cell_type": "code",
   "execution_count": 16,
   "metadata": {
    "id": "pOhA88_hwXk7"
   },
   "outputs": [
    {
     "name": "stdout",
     "output_type": "stream",
     "text": [
      "there are 3 excel files: \n"
     ]
    },
    {
     "data": {
      "text/plain": [
       "['HR.xlsx', 'HR_DE.xlsx', 'HR_UK.xlsx']"
      ]
     },
     "execution_count": 16,
     "metadata": {},
     "output_type": "execute_result"
    }
   ],
   "source": [
    "# create a list  \"excel_files\" with all files that have the extension excel_files in the working directory\n",
    "\n",
    "excel_files=[]\n",
    "for file in os.listdir('Module_2'):\n",
    "    if file.endswith('.xlsx'): # or '.csv' if your'looinkg for csv files\n",
    "            excel_files.append(file)\n",
    "            \n",
    "# it will print out excel names present in current directory folder = 'Basics_Python\"\n",
    "print( 'there are', len(excel_files), \"excel files: \")\n",
    "excel_files"
   ]
  },
  {
   "cell_type": "code",
   "execution_count": 17,
   "metadata": {
    "id": "T9-EafJPwlNw"
   },
   "outputs": [
    {
     "name": "stdout",
     "output_type": "stream",
     "text": [
      "['Module_2/HR.xlsx', 'Module_2/HR_DE.xlsx', 'Module_2/HR_UK.xlsx']\n",
      "\n",
      "File names with their paths:\n",
      "Module_2/HR.xlsx\n",
      "Module_2/HR_DE.xlsx\n",
      "Module_2/HR_UK.xlsx\n"
     ]
    }
   ],
   "source": [
    "# check the absolute path of all excel files\n",
    "\n",
    "# we'll use \"glob\" package that works with file paths\n",
    "# glob package is usefull to return all file paths that match a specific pattern\n",
    "\n",
    "# create a list where are stored the paths of every excel file\n",
    "\n",
    "# in the working directory here stored in the variable cwd... \n",
    "# find all files that have the extension .xlsx ...\n",
    "# and then concatenate the working directory path + excel file name ...\n",
    "# we will obtain the absolute path to each excel file ...\n",
    "# and then store them all into a list called \"filespaths\"\n",
    "\n",
    "\n",
    "filespaths = glob.glob('Module_2' + \"/*.xlsx\")  # create a list that from cwd, will pick up every the ABSOLUTE PATH for files with extention .xlsx\n",
    "print(filespaths)\n",
    "print(\"\")\n",
    "\n",
    "# print out excel paths one by one\n",
    "print('File names with their paths:')\n",
    "for path in filespaths:\n",
    "    print(path)"
   ]
  },
  {
   "cell_type": "markdown",
   "metadata": {
    "id": "cVcMXwSp_dfS"
   },
   "source": [
    "# 4.&nbsp;Change working directory"
   ]
  },
  {
   "cell_type": "code",
   "execution_count": 18,
   "metadata": {},
   "outputs": [
    {
     "data": {
      "text/plain": [
       "'/home/e57658/workspace/Excel_Automation_Python'"
      ]
     },
     "execution_count": 18,
     "metadata": {},
     "output_type": "execute_result"
    }
   ],
   "source": [
    "cwd"
   ]
  },
  {
   "cell_type": "code",
   "execution_count": 19,
   "metadata": {
    "id": "XQ-pL1_8XKud"
   },
   "outputs": [
    {
     "data": {
      "text/plain": [
       "'/home/e57658/workspace/Excel_Automation_Python/Module_2'"
      ]
     },
     "execution_count": 19,
     "metadata": {},
     "output_type": "execute_result"
    }
   ],
   "source": [
    "# if you want to change the current working directory (cwd) \n",
    "\n",
    "# change cwd to folder MyDrive (that is in directory content/gdrive)\n",
    "os.chdir('Module_2')\n",
    "# check the new current working directory now\n",
    "cwd = os.getcwd()\n",
    "cwd"
   ]
  },
  {
   "cell_type": "code",
   "execution_count": 20,
   "metadata": {
    "id": "WJW-tAbOXabC"
   },
   "outputs": [
    {
     "data": {
      "text/plain": [
       "['HR.xlsx',\n",
       " '.ipynb_checkpoints',\n",
       " 'Files_Manipulation_Collab.ipynb',\n",
       " 'Files_Manipulation_Collab-v2.ipynb',\n",
       " 'Files_Manipulation_Collab-Sparrow.ipynb',\n",
       " 'HR_DE.xlsx',\n",
       " 'Files_Manipulation_Collab-Sparrow-v2.ipynb',\n",
       " 'Excels',\n",
       " 'HR_UK.xlsx']"
      ]
     },
     "execution_count": 20,
     "metadata": {},
     "output_type": "execute_result"
    }
   ],
   "source": [
    "# List all files and directories in the new current directory << MyDrive >>\n",
    "os.listdir('.')"
   ]
  },
  {
   "cell_type": "markdown",
   "metadata": {
    "id": "klW5vu46w_Kj"
   },
   "source": [
    "# 5.&nbsp;Manipulate Directories"
   ]
  },
  {
   "cell_type": "markdown",
   "metadata": {
    "id": "PVVj46wU1IDj"
   },
   "source": [
    "## Create a new folder"
   ]
  },
  {
   "cell_type": "code",
   "execution_count": 21,
   "metadata": {
    "id": "bFIMYI_UxCJ2"
   },
   "outputs": [
    {
     "name": "stdout",
     "output_type": "stream",
     "text": [
      "/home/e57658/workspace/Excel_Automation_Python/Module_2/Raw_Files\n"
     ]
    }
   ],
   "source": [
    "# create a new folder called \"Raw_Files\"\n",
    "\n",
    "# First: \n",
    "# write the path to the \"Raw_Files\" sub_directory\n",
    "folder = cwd + '/' + 'Raw_Files' # == > /content/gdrive/MyDrive/Raw_Files\n",
    "print(folder)\n",
    "\n",
    "# Second:\n",
    "# create the folder at the indicated path\n",
    "os.makedirs(folder) # create an empty folder called << Raw_Files >>"
   ]
  },
  {
   "cell_type": "code",
   "execution_count": 22,
   "metadata": {
    "id": "WYSDSulCyvEm"
   },
   "outputs": [
    {
     "data": {
      "text/plain": [
       "['Raw_Files',\n",
       " 'HR.xlsx',\n",
       " '.ipynb_checkpoints',\n",
       " 'Files_Manipulation_Collab.ipynb',\n",
       " 'Files_Manipulation_Collab-v2.ipynb',\n",
       " 'Files_Manipulation_Collab-Sparrow.ipynb',\n",
       " 'HR_DE.xlsx',\n",
       " 'Files_Manipulation_Collab-Sparrow-v2.ipynb',\n",
       " 'Excels',\n",
       " 'HR_UK.xlsx']"
      ]
     },
     "execution_count": 22,
     "metadata": {},
     "output_type": "execute_result"
    }
   ],
   "source": [
    "# now check the sub_directories in cwd with os.listdir()\n",
    "\n",
    "os.listdir('.')"
   ]
  },
  {
   "cell_type": "markdown",
   "metadata": {
    "id": "C1Umqr6K1P12"
   },
   "source": [
    "## Rename Folders"
   ]
  },
  {
   "cell_type": "code",
   "execution_count": 23,
   "metadata": {
    "id": "MoC3H5lP_dfI"
   },
   "outputs": [
    {
     "data": {
      "text/plain": [
       "['Raw_Excel_Files',\n",
       " 'HR.xlsx',\n",
       " '.ipynb_checkpoints',\n",
       " 'Files_Manipulation_Collab.ipynb',\n",
       " 'Files_Manipulation_Collab-v2.ipynb',\n",
       " 'Files_Manipulation_Collab-Sparrow.ipynb',\n",
       " 'HR_DE.xlsx',\n",
       " 'Files_Manipulation_Collab-Sparrow-v2.ipynb',\n",
       " 'Excels',\n",
       " 'HR_UK.xlsx']"
      ]
     },
     "execution_count": 23,
     "metadata": {},
     "output_type": "execute_result"
    }
   ],
   "source": [
    "# rename folder <<Raw_Files>> in  <<Raw_Excel_Files folder>>\n",
    "\n",
    "new_name= 'Raw_Excel_Files' # variable containing the new name value\n",
    "\n",
    "os.rename(folder, new_name) # it will rename \"Raw_Files\" into 'Raw_Excel_Files'\n",
    "\n",
    "# now check the sub_directories in cwd with os.listdir()\n",
    "\n",
    "os.listdir('.')"
   ]
  },
  {
   "cell_type": "markdown",
   "metadata": {
    "id": "DAPHBheo1VPS"
   },
   "source": [
    "## Nested Folders"
   ]
  },
  {
   "cell_type": "code",
   "execution_count": 24,
   "metadata": {
    "id": "_Oq-PpDbxE-t"
   },
   "outputs": [
    {
     "data": {
      "text/plain": [
       "'/home/e57658/workspace/Excel_Automation_Python/Module_2/New_Folder/Inner_folder'"
      ]
     },
     "execution_count": 24,
     "metadata": {},
     "output_type": "execute_result"
    }
   ],
   "source": [
    "# Create a nested folder (folder in the folder)\n",
    "\n",
    "other = cwd + '/' + 'New_Folder' + '/' +'Inner_folder' \n",
    "os.makedirs(other)\n",
    "other # the folder \"New_Folder\" will contain another empty folder \"Inner Folder\""
   ]
  },
  {
   "cell_type": "code",
   "execution_count": 25,
   "metadata": {
    "id": "08SG9wSL1eIW"
   },
   "outputs": [
    {
     "data": {
      "text/plain": [
       "['New_Folder',\n",
       " 'Raw_Excel_Files',\n",
       " 'HR.xlsx',\n",
       " '.ipynb_checkpoints',\n",
       " 'Files_Manipulation_Collab.ipynb',\n",
       " 'Files_Manipulation_Collab-v2.ipynb',\n",
       " 'Files_Manipulation_Collab-Sparrow.ipynb',\n",
       " 'HR_DE.xlsx',\n",
       " 'Files_Manipulation_Collab-Sparrow-v2.ipynb',\n",
       " 'Excels',\n",
       " 'HR_UK.xlsx']"
      ]
     },
     "execution_count": 25,
     "metadata": {},
     "output_type": "execute_result"
    }
   ],
   "source": [
    "# now check the sub_directories in cwd with os.listdir()\n",
    "\n",
    "os.listdir('.')"
   ]
  },
  {
   "cell_type": "markdown",
   "metadata": {
    "id": "pt37qb5y_dfL"
   },
   "source": [
    "## Navigate in tree hierarchy"
   ]
  },
  {
   "cell_type": "code",
   "execution_count": 26,
   "metadata": {
    "id": "tPrUfZ8d_dfM"
   },
   "outputs": [
    {
     "data": {
      "text/plain": [
       "['New_Folder',\n",
       " 'Raw_Excel_Files',\n",
       " 'HR.xlsx',\n",
       " '.ipynb_checkpoints',\n",
       " 'Files_Manipulation_Collab.ipynb',\n",
       " 'Files_Manipulation_Collab-v2.ipynb',\n",
       " 'Files_Manipulation_Collab-Sparrow.ipynb',\n",
       " 'HR_DE.xlsx',\n",
       " 'Files_Manipulation_Collab-Sparrow-v2.ipynb',\n",
       " 'Excels',\n",
       " 'HR_UK.xlsx']"
      ]
     },
     "execution_count": 26,
     "metadata": {},
     "output_type": "execute_result"
    }
   ],
   "source": [
    "# list all files in the current directoy\n",
    "\n",
    "os.listdir('.')"
   ]
  },
  {
   "cell_type": "code",
   "execution_count": 27,
   "metadata": {
    "id": "sd5ghfUK_dfM"
   },
   "outputs": [
    {
     "data": {
      "text/plain": [
       "['.ipynb_checkpoints',\n",
       " 'Files_Manipulation.ipynb',\n",
       " 'config.yaml',\n",
       " 'Module_1',\n",
       " 'Module_2',\n",
       " 'Module_3',\n",
       " 'Module_4']"
      ]
     },
     "execution_count": 27,
     "metadata": {},
     "output_type": "execute_result"
    }
   ],
   "source": [
    "# move up in the hierarchy to list the files from the upper level \n",
    "\n",
    "os.listdir('..')"
   ]
  },
  {
   "cell_type": "code",
   "execution_count": 28,
   "metadata": {
    "id": "kw2WlP2e_dfN"
   },
   "outputs": [
    {
     "name": "stdout",
     "output_type": "stream",
     "text": [
      "['Inner_folder']\n"
     ]
    }
   ],
   "source": [
    "# list files inside a specific folder (get children)\n",
    "\n",
    "print (os.listdir('New_Folder'))\n"
   ]
  },
  {
   "cell_type": "code",
   "execution_count": 29,
   "metadata": {
    "id": "pImwa3TA_dfN"
   },
   "outputs": [
    {
     "name": "stdout",
     "output_type": "stream",
     "text": [
      "Excel_Automation_Python/Module_2\n"
     ]
    }
   ],
   "source": [
    "# get parent of a scpecific folder (go back with 1 level)\n",
    "\n",
    "# save path to New_FOlder\n",
    "new_folder = 'Excel_Automation_Python/Module_2/New_Folder' \n",
    "\n",
    "# prit parent of Inner_Folder\n",
    "print(Path(new_folder).parents[0])\n"
   ]
  },
  {
   "cell_type": "code",
   "execution_count": 30,
   "metadata": {
    "id": "yHEx2ok__dfO"
   },
   "outputs": [
    {
     "name": "stdout",
     "output_type": "stream",
     "text": [
      "Excel_Automation_Python\n"
     ]
    }
   ],
   "source": [
    "# get grand parent of a scpecific folder (go back with 2 levels)\n",
    "\n",
    "print(Path(new_folder).parents[1])\n"
   ]
  },
  {
   "cell_type": "markdown",
   "metadata": {
    "id": "bgTrGUaYFzMk"
   },
   "source": [
    "## Paths to the folders"
   ]
  },
  {
   "cell_type": "code",
   "execution_count": 31,
   "metadata": {
    "id": "P8uJTXfcCFI4"
   },
   "outputs": [
    {
     "name": "stdout",
     "output_type": "stream",
     "text": [
      "Relative path of file:      Raw_Excel_Files\n",
      "Absolute directoryname:  /home/e57658/workspace/Excel_Automation_Python/Module_2\n",
      "Absolute path of file:      /home/e57658/workspace/Excel_Automation_Python/Module_2/Raw_Excel_Files\n"
     ]
    }
   ],
   "source": [
    "# Find Paths\n",
    "\n",
    "# relative path ==> only the final file name\n",
    "print('Relative path of file:     ', os.path.relpath('Raw_Excel_Files') )\n",
    "\n",
    "# Absolute directoryname ==> upper directories (parents)\n",
    "print('Absolute directoryname: ',  os.path.dirname(os.path.abspath('Raw_Excel_Files')))\n",
    "\n",
    "# Absolute path ==> the whole path with the file name included\n",
    "print('Absolute path of file:     ',  os.path.abspath('Raw_Excel_Files'))\n"
   ]
  },
  {
   "cell_type": "markdown",
   "metadata": {
    "id": "Jgviz2daz65q"
   },
   "source": [
    "# 6.&nbsp;Copy File\n"
   ]
  },
  {
   "cell_type": "code",
   "execution_count": 32,
   "metadata": {
    "id": "IMcy5Fj_5qXR"
   },
   "outputs": [
    {
     "data": {
      "text/plain": [
       "['New_Folder',\n",
       " 'Raw_Excel_Files',\n",
       " 'HR.xlsx',\n",
       " '.ipynb_checkpoints',\n",
       " 'Files_Manipulation_Collab.ipynb',\n",
       " 'Files_Manipulation_Collab-v2.ipynb',\n",
       " 'Files_Manipulation_Collab-Sparrow.ipynb',\n",
       " 'HR_DE.xlsx',\n",
       " 'Files_Manipulation_Collab-Sparrow-v2.ipynb',\n",
       " 'Excels',\n",
       " 'HR_UK.xlsx']"
      ]
     },
     "execution_count": 32,
     "metadata": {},
     "output_type": "execute_result"
    }
   ],
   "source": [
    "# reminder of containing in cwd: MyDrive\n",
    "\n",
    "os.listdir('.')"
   ]
  },
  {
   "cell_type": "code",
   "execution_count": 33,
   "metadata": {
    "id": "AWkt3KmYJNoz"
   },
   "outputs": [
    {
     "data": {
      "text/plain": [
       "['Python_Basics.ipynb', '.ipynb_checkpoints']"
      ]
     },
     "execution_count": 33,
     "metadata": {},
     "output_type": "execute_result"
    }
   ],
   "source": [
    "# reminder of containing in content directory\n",
    "\n",
    "os.listdir('/home/e57658/workspace/Excel_Automation_Python/Module_1')"
   ]
  },
  {
   "cell_type": "markdown",
   "metadata": {
    "id": "r0RDXm1dKgH2"
   },
   "source": [
    "## Copy a single file"
   ]
  },
  {
   "cell_type": "code",
   "execution_count": 34,
   "metadata": {
    "id": "jIlgijfL_dfO"
   },
   "outputs": [],
   "source": [
    "# copy one file in another folder\n",
    "\n",
    "# we want to copy UK.xlsx file  in 'Raw_Excel_Files' folder\n",
    "\n",
    "# destination WHERE we want to copy \n",
    "dest = 'Raw_Excel_Files'\n",
    "\n",
    "# source file : WHAT we want to copy\n",
    "src=  'Excels/UK.xlsx' # source ==> the path to the file that we want to copy (we wuse absoute path as UK.xlsx is outside cwd)"
   ]
  },
  {
   "cell_type": "code",
   "execution_count": 35,
   "metadata": {
    "id": "bWw3YvhHxguf"
   },
   "outputs": [
    {
     "data": {
      "text/plain": [
       "'Raw_Excel_Files/UK.xlsx'"
      ]
     },
     "execution_count": 35,
     "metadata": {},
     "output_type": "execute_result"
    }
   ],
   "source": [
    "# work with shutil package\n",
    "''' Shutil module offers high-level operation on a file like a copy, create, move\n",
    "and remote operation on the file '''\n",
    "\n",
    "#  copy the file from the source <<src>> in the folder we want << dest >>\n",
    "shutil.copy(src, # what file we want to copy, more specifically its path\n",
    "            dest) # path to the folder we want to paste the copied file"
   ]
  },
  {
   "cell_type": "code",
   "execution_count": 36,
   "metadata": {
    "id": "wQKytxOX1SSm"
   },
   "outputs": [
    {
     "data": {
      "text/plain": [
       "'Raw_Excel_Files/FR.xlsx'"
      ]
     },
     "execution_count": 36,
     "metadata": {},
     "output_type": "execute_result"
    }
   ],
   "source": [
    "# file that we want to copy : FR.xlsx\n",
    "src='Excels/FR.xlsx'\n",
    "\n",
    "# copy the file in the folder we want\n",
    "shutil.copy(src, dest)"
   ]
  },
  {
   "cell_type": "code",
   "execution_count": 37,
   "metadata": {
    "id": "ry059DRi_dfR"
   },
   "outputs": [
    {
     "data": {
      "text/plain": [
       "'Raw_Excel_Files/DE.xlsx'"
      ]
     },
     "execution_count": 37,
     "metadata": {},
     "output_type": "execute_result"
    }
   ],
   "source": [
    "# file that we want to copy : DE.xlsx\n",
    "src='Excels/DE.xlsx'\n",
    "\n",
    "# copy the file in the folder we want\n",
    "shutil.copy(src, dest)"
   ]
  },
  {
   "cell_type": "code",
   "execution_count": 38,
   "metadata": {
    "id": "-WJNe2zk-aAS"
   },
   "outputs": [
    {
     "data": {
      "text/plain": [
       "['UK.xlsx', 'FR.xlsx', 'DE.xlsx']"
      ]
     },
     "execution_count": 38,
     "metadata": {},
     "output_type": "execute_result"
    }
   ],
   "source": [
    "# and now look at the containing of Raw_Excel_Files'\n",
    "\n",
    "os.listdir('Raw_Excel_Files')"
   ]
  },
  {
   "cell_type": "markdown",
   "metadata": {
    "id": "30Bfuo5yKlhn"
   },
   "source": [
    "## Copy multiple files at once"
   ]
  },
  {
   "cell_type": "code",
   "execution_count": 39,
   "metadata": {
    "id": "LiRv6xydD8wf"
   },
   "outputs": [
    {
     "data": {
      "text/plain": [
       "['/home/e57658/workspace/Excel_Automation_Python/Module_2/Raw_Excel_Files/UK.xlsx',\n",
       " '/home/e57658/workspace/Excel_Automation_Python/Module_2/Raw_Excel_Files/FR.xlsx',\n",
       " '/home/e57658/workspace/Excel_Automation_Python/Module_2/Raw_Excel_Files/DE.xlsx']"
      ]
     },
     "execution_count": 39,
     "metadata": {},
     "output_type": "execute_result"
    }
   ],
   "source": [
    "# find all absolute paths to our xlsx files in 'Raw_Excel_Files' with glob\n",
    "\n",
    "path = 'Raw_Excel_Files'\n",
    "\n",
    "# create a list filespaths that ..\n",
    "# ... will contain the paths to all files with extension .xlsx\n",
    "filespaths = glob.glob(os.path.abspath(path) + \"/*.xlsx\")\n",
    "filespaths"
   ]
  },
  {
   "cell_type": "code",
   "execution_count": 40,
   "metadata": {
    "id": "bdsQE7Fh_dfR"
   },
   "outputs": [
    {
     "name": "stdout",
     "output_type": "stream",
     "text": [
      "['/home/e57658/workspace/Excel_Automation_Python/Module_2/Raw_Excel_Files/UK.xlsx', '/home/e57658/workspace/Excel_Automation_Python/Module_2/Raw_Excel_Files/FR.xlsx', '/home/e57658/workspace/Excel_Automation_Python/Module_2/Raw_Excel_Files/DE.xlsx']\n",
      "/home/e57658/workspace/Excel_Automation_Python/Module_2\n"
     ]
    }
   ],
   "source": [
    "# copy the multiple files in the folder we want\n",
    "\n",
    "dest = cwd # we want to copy our file in cwd MyDrive\n",
    "\n",
    "# we want to copy all excel files in Raw_Excel_Files in dest\n",
    "print(filespaths)\n",
    "print(dest)\n",
    "\n",
    "for file in filespaths:\n",
    "    shutil.copy(file, dest)"
   ]
  },
  {
   "cell_type": "code",
   "execution_count": 41,
   "metadata": {
    "id": "qCs2wZZFE9RZ"
   },
   "outputs": [
    {
     "data": {
      "text/plain": [
       "['New_Folder',\n",
       " 'Raw_Excel_Files',\n",
       " 'UK.xlsx',\n",
       " 'HR.xlsx',\n",
       " '.ipynb_checkpoints',\n",
       " 'Files_Manipulation_Collab.ipynb',\n",
       " 'Files_Manipulation_Collab-v2.ipynb',\n",
       " 'Files_Manipulation_Collab-Sparrow.ipynb',\n",
       " 'HR_DE.xlsx',\n",
       " 'Files_Manipulation_Collab-Sparrow-v2.ipynb',\n",
       " 'Excels',\n",
       " 'FR.xlsx',\n",
       " 'HR_UK.xlsx',\n",
       " 'DE.xlsx']"
      ]
     },
     "execution_count": 41,
     "metadata": {},
     "output_type": "execute_result"
    }
   ],
   "source": [
    "# check the cwd containing again to notify the presece of excel files\n",
    "os.listdir('.')\n"
   ]
  },
  {
   "cell_type": "markdown",
   "metadata": {
    "id": "ot-XcKgS0vli"
   },
   "source": [
    "# 7.&nbsp;Move File"
   ]
  },
  {
   "cell_type": "code",
   "execution_count": 42,
   "metadata": {
    "id": "MC1Fq8YA_dfT"
   },
   "outputs": [
    {
     "name": "stdout",
     "output_type": "stream",
     "text": [
      "/home/e57658/workspace/Excel_Automation_Python/Module_2/Old_Files\n"
     ]
    },
    {
     "data": {
      "text/plain": [
       "['New_Folder',\n",
       " 'Raw_Excel_Files',\n",
       " 'UK.xlsx',\n",
       " 'HR.xlsx',\n",
       " '.ipynb_checkpoints',\n",
       " 'Files_Manipulation_Collab.ipynb',\n",
       " 'Files_Manipulation_Collab-v2.ipynb',\n",
       " 'Files_Manipulation_Collab-Sparrow.ipynb',\n",
       " 'HR_DE.xlsx',\n",
       " 'Files_Manipulation_Collab-Sparrow-v2.ipynb',\n",
       " 'Excels',\n",
       " 'FR.xlsx',\n",
       " 'HR_UK.xlsx',\n",
       " 'DE.xlsx',\n",
       " 'Old_Files']"
      ]
     },
     "execution_count": 42,
     "metadata": {},
     "output_type": "execute_result"
    }
   ],
   "source": [
    "# create a folder << Old_Files >> where we would like to move files \n",
    "\n",
    "# First: write the path to folder\n",
    "folder_1 = cwd + '/' + 'Old_Files'\n",
    "print(folder_1)\n",
    "\n",
    "# Second: create the folder at the indicated path\n",
    "os.makedirs(folder_1)\n",
    "\n",
    "# check cwd\n",
    "os.listdir('.')"
   ]
  },
  {
   "cell_type": "code",
   "execution_count": 44,
   "metadata": {
    "id": "aRJI5bND0ySA"
   },
   "outputs": [
    {
     "data": {
      "text/plain": [
       "'/home/e57658/workspace/Excel_Automation_Python/Module_2/Old_Files/UK_old.xlsx'"
      ]
     },
     "execution_count": 44,
     "metadata": {},
     "output_type": "execute_result"
    }
   ],
   "source": [
    "# folder_to_move (it would be like cut/paste\n",
    "\n",
    "file_to_move = 'UK_old.xlsx' # from directory content\n",
    "\n",
    "\n",
    "shutil.move(file_to_move, # file/folder to cut\n",
    "           folder_1) # folder where to move = '/content/gdrive/MyDrive/Old_Files/UK_old.xlsx'         "
   ]
  },
  {
   "cell_type": "code",
   "execution_count": 45,
   "metadata": {},
   "outputs": [
    {
     "name": "stdout",
     "output_type": "stream",
     "text": [
      "Module_2:  ['New_Folder', 'Raw_Excel_Files', 'UK.xlsx', 'HR.xlsx', '.ipynb_checkpoints', 'Files_Manipulation_Collab.ipynb', 'Files_Manipulation_Collab-v2.ipynb', 'Files_Manipulation_Collab-Sparrow.ipynb', 'HR_DE.xlsx', 'Files_Manipulation_Collab-Sparrow-v2.ipynb', 'Excels', 'FR.xlsx', 'HR_UK.xlsx', 'DE.xlsx', 'Old_Files']\n",
      "\n",
      "Module_2/Old_Files:  ['UK_old.xlsx']\n"
     ]
    }
   ],
   "source": [
    "# check directory content\n",
    "print('Module_2: ', os.listdir('.'))  # now UK_old.xlsx has disapeared for content\n",
    "\n",
    "print('')\n",
    "# check directory Module_2/Old_Files\n",
    "print('Module_2/Old_Files: ', os.listdir('Old_Files'))  # now UK_old.xlsx has disapeared for content"
   ]
  },
  {
   "cell_type": "markdown",
   "metadata": {
    "id": "mXx48d0W2427"
   },
   "source": [
    "# 5.&nbsp;Delete Files"
   ]
  },
  {
   "cell_type": "code",
   "execution_count": 46,
   "metadata": {
    "id": "RYdN0l___dfU"
   },
   "outputs": [
    {
     "data": {
      "text/plain": [
       "'/home/e57658/workspace/Excel_Automation_Python/Module_2'"
      ]
     },
     "execution_count": 46,
     "metadata": {},
     "output_type": "execute_result"
    }
   ],
   "source": [
    "# reminder of cwd\n",
    "cwd"
   ]
  },
  {
   "cell_type": "code",
   "execution_count": 47,
   "metadata": {
    "id": "etZpw10PN-tG"
   },
   "outputs": [
    {
     "data": {
      "text/plain": [
       "['UK_old.xlsx']"
      ]
     },
     "execution_count": 47,
     "metadata": {},
     "output_type": "execute_result"
    }
   ],
   "source": [
    "# check Old_Files containing\n",
    "\n",
    "os.listdir('Old_Files')"
   ]
  },
  {
   "cell_type": "markdown",
   "metadata": {
    "id": "6GbgsaVwPd8U"
   },
   "source": [
    "## Delete file"
   ]
  },
  {
   "cell_type": "code",
   "execution_count": 48,
   "metadata": {
    "id": "rOYRvWSr2a0q"
   },
   "outputs": [
    {
     "data": {
      "text/plain": [
       "[]"
      ]
     },
     "execution_count": 48,
     "metadata": {},
     "output_type": "execute_result"
    }
   ],
   "source": [
    "# delete a file UK_old.xlsx from Old_Files with os.unlink\n",
    "\n",
    "os.unlink('Old_Files/UK_old.xlsx') # relative path as UK_old in the working directory\n",
    "\n",
    "# check again Old_Files containing\n",
    "os.listdir('Old_Files')"
   ]
  },
  {
   "cell_type": "code",
   "execution_count": 49,
   "metadata": {
    "id": "wm39NbJfOmXB"
   },
   "outputs": [
    {
     "data": {
      "text/plain": [
       "['New_Folder',\n",
       " 'Raw_Excel_Files',\n",
       " 'UK.xlsx',\n",
       " 'HR.xlsx',\n",
       " '.ipynb_checkpoints',\n",
       " 'Files_Manipulation_Collab.ipynb',\n",
       " 'Files_Manipulation_Collab-v2.ipynb',\n",
       " 'Files_Manipulation_Collab-Sparrow.ipynb',\n",
       " 'HR_DE.xlsx',\n",
       " 'Files_Manipulation_Collab-Sparrow-v2.ipynb',\n",
       " 'Excels',\n",
       " 'FR.xlsx',\n",
       " 'HR_UK.xlsx',\n",
       " 'DE.xlsx',\n",
       " 'Old_Files']"
      ]
     },
     "execution_count": 49,
     "metadata": {},
     "output_type": "execute_result"
    }
   ],
   "source": [
    "# check cwd\n",
    "os.listdir('.')"
   ]
  },
  {
   "cell_type": "markdown",
   "metadata": {
    "id": "x-R9sj0KPijH"
   },
   "source": [
    "## Delete folder"
   ]
  },
  {
   "cell_type": "markdown",
   "metadata": {
    "id": "Xjcn3nbyOy8t"
   },
   "source": [
    "There is a diference when deleting EMPTY and NOT empty folders:\n",
    "\n",
    "\n",
    "\n",
    "1.   For ***EMPTY** use .rmdir function *from package os*\n",
    "2.   For ***NOT EMPTY** use .rmtree function *from package shutil*"
   ]
  },
  {
   "cell_type": "markdown",
   "metadata": {
    "id": "LhodrGvWPoQg"
   },
   "source": [
    "**EMPTY folder**"
   ]
  },
  {
   "cell_type": "code",
   "execution_count": 50,
   "metadata": {
    "id": "DxLnN3ya3KWN"
   },
   "outputs": [],
   "source": [
    "# delete empty folder 'Old_Files' from cwd with os.rmdir\n",
    "\n",
    "folder_to_remove= 'Old_Files'\n",
    "os.rmdir(folder_to_remove)"
   ]
  },
  {
   "cell_type": "markdown",
   "metadata": {
    "id": "xMzy2OziPth0"
   },
   "source": [
    "*** NOT EMPTY folder**"
   ]
  },
  {
   "cell_type": "code",
   "execution_count": 51,
   "metadata": {
    "id": "HJXGMKc8QKsS"
   },
   "outputs": [
    {
     "name": "stdout",
     "output_type": "stream",
     "text": [
      "['Inner_folder']\n"
     ]
    }
   ],
   "source": [
    "# list files inside a specific folder (get children)\n",
    "\n",
    "print (os.listdir('New_Folder'))"
   ]
  },
  {
   "cell_type": "code",
   "execution_count": 52,
   "metadata": {
    "id": "uVBmXk4gQXGC"
   },
   "outputs": [
    {
     "name": "stdout",
     "output_type": "stream",
     "text": [
      "New_Folder\n"
     ]
    }
   ],
   "source": [
    "# save path to New_FOlder\n",
    "inner_folder = 'New_Folder/Inner_folder'\n",
    "\n",
    "# prit parent of Inner_Folder\n",
    "print(Path(inner_folder).parents[0])"
   ]
  },
  {
   "cell_type": "code",
   "execution_count": 53,
   "metadata": {
    "id": "eV1B39qb3iCB"
   },
   "outputs": [
    {
     "data": {
      "text/plain": [
       "['Raw_Excel_Files',\n",
       " 'UK.xlsx',\n",
       " 'HR.xlsx',\n",
       " '.ipynb_checkpoints',\n",
       " 'Files_Manipulation_Collab.ipynb',\n",
       " 'Files_Manipulation_Collab-v2.ipynb',\n",
       " 'Files_Manipulation_Collab-Sparrow.ipynb',\n",
       " 'HR_DE.xlsx',\n",
       " 'Files_Manipulation_Collab-Sparrow-v2.ipynb',\n",
       " 'Excels',\n",
       " 'FR.xlsx',\n",
       " 'HR_UK.xlsx',\n",
       " 'DE.xlsx']"
      ]
     },
     "execution_count": 53,
     "metadata": {},
     "output_type": "execute_result"
    }
   ],
   "source": [
    "# delete NOT empty folder\n",
    "\n",
    "# New_Folder contains another file 'Inner_folder'\n",
    "\n",
    "shutil.rmtree('New_Folder') \n",
    "\n",
    "# check again cwd containing to certify that folder has disapeared\n",
    "\n",
    "os.listdir('.')"
   ]
  },
  {
   "cell_type": "markdown",
   "metadata": {
    "id": "0fgLzMm584mg"
   },
   "source": [
    "# Work with Excel Files\n"
   ]
  },
  {
   "cell_type": "code",
   "execution_count": 54,
   "metadata": {
    "id": "Eml73ZwN9Z-V"
   },
   "outputs": [],
   "source": [
    "# Create a folder 'Processed_Files' in the cwd where we'll store all processed files \n",
    "\n",
    "des = cwd + '/' + 'Processed_Files'\n",
    "os.makedirs(des)"
   ]
  },
  {
   "cell_type": "markdown",
   "metadata": {
    "id": "7EImbUAb-oBT"
   },
   "source": [
    "\n",
    "\n",
    "1.  First read each excel files and put them into pandas dataframe\n",
    "2.  Consolidate all excel files into a single excel with separate sheet by country\n",
    "3.  Consolidate all excels into a single excel sheet\n",
    "\n"
   ]
  },
  {
   "cell_type": "markdown",
   "metadata": {
    "id": "Z1bvAVLN_dfX"
   },
   "source": [
    "## Read excels"
   ]
  },
  {
   "cell_type": "code",
   "execution_count": 55,
   "metadata": {
    "id": "5Vlm5_yr89UT"
   },
   "outputs": [],
   "source": [
    "# if the excel file has too many rows, when visualising the data, not all columns are displayed\n",
    "# to overcome this we use .set_option method\n",
    "\n",
    "# set visible all columns\n",
    "pd.set_option('display.max_columns', None)"
   ]
  },
  {
   "cell_type": "code",
   "execution_count": 56,
   "metadata": {
    "id": "7qNp7_9l9ORl"
   },
   "outputs": [
    {
     "name": "stdout",
     "output_type": "stream",
     "text": [
      "Dataframe Shape:  (673, 14)\n",
      "Index(['Date', 'Name', 'Mannschaft', 'Rohe Präsenz (min)', 'Pause (Minuten)',\n",
      "       'Nettopräsenz (Min.)', 'Behandlung (min)', 'DMT', 'Productiviy',\n",
      "       'Processed tickets', 'Closed Tickets', 'FTE (processed)',\n",
      "       'FTE (presence)', 'FTE weighted'],\n",
      "      dtype='object')\n"
     ]
    },
    {
     "data": {
      "text/html": [
       "<div>\n",
       "<style scoped>\n",
       "    .dataframe tbody tr th:only-of-type {\n",
       "        vertical-align: middle;\n",
       "    }\n",
       "\n",
       "    .dataframe tbody tr th {\n",
       "        vertical-align: top;\n",
       "    }\n",
       "\n",
       "    .dataframe thead th {\n",
       "        text-align: right;\n",
       "    }\n",
       "</style>\n",
       "<table border=\"1\" class=\"dataframe\">\n",
       "  <thead>\n",
       "    <tr style=\"text-align: right;\">\n",
       "      <th></th>\n",
       "      <th>Date</th>\n",
       "      <th>Name</th>\n",
       "      <th>Mannschaft</th>\n",
       "      <th>Rohe Präsenz (min)</th>\n",
       "      <th>Pause (Minuten)</th>\n",
       "      <th>Nettopräsenz (Min.)</th>\n",
       "      <th>Behandlung (min)</th>\n",
       "      <th>DMT</th>\n",
       "      <th>Productiviy</th>\n",
       "      <th>Processed tickets</th>\n",
       "      <th>Closed Tickets</th>\n",
       "      <th>FTE (processed)</th>\n",
       "      <th>FTE (presence)</th>\n",
       "      <th>FTE weighted</th>\n",
       "    </tr>\n",
       "  </thead>\n",
       "  <tbody>\n",
       "    <tr>\n",
       "      <th>0</th>\n",
       "      <td>2022-04-12</td>\n",
       "      <td>Employee_1</td>\n",
       "      <td>TEAM_1</td>\n",
       "      <td>102</td>\n",
       "      <td>0</td>\n",
       "      <td>102</td>\n",
       "      <td>4</td>\n",
       "      <td>00:02:08</td>\n",
       "      <td>0.6</td>\n",
       "      <td>2</td>\n",
       "      <td>1</td>\n",
       "      <td>0.00</td>\n",
       "      <td>0.25</td>\n",
       "      <td>0.00</td>\n",
       "    </tr>\n",
       "    <tr>\n",
       "      <th>1</th>\n",
       "      <td>2022-04-13</td>\n",
       "      <td>Employee_1</td>\n",
       "      <td>TEAM_1</td>\n",
       "      <td>299</td>\n",
       "      <td>0</td>\n",
       "      <td>299</td>\n",
       "      <td>168</td>\n",
       "      <td>00:42:00</td>\n",
       "      <td>0.4</td>\n",
       "      <td>4</td>\n",
       "      <td>2</td>\n",
       "      <td>0.50</td>\n",
       "      <td>0.75</td>\n",
       "      <td>0.50</td>\n",
       "    </tr>\n",
       "    <tr>\n",
       "      <th>2</th>\n",
       "      <td>2022-04-19</td>\n",
       "      <td>Employee_1</td>\n",
       "      <td>TEAM_1</td>\n",
       "      <td>478</td>\n",
       "      <td>0</td>\n",
       "      <td>478</td>\n",
       "      <td>275</td>\n",
       "      <td>00:16:12</td>\n",
       "      <td>2.0</td>\n",
       "      <td>17</td>\n",
       "      <td>16</td>\n",
       "      <td>0.75</td>\n",
       "      <td>1.00</td>\n",
       "      <td>0.75</td>\n",
       "    </tr>\n",
       "    <tr>\n",
       "      <th>3</th>\n",
       "      <td>2022-04-20</td>\n",
       "      <td>Employee_1</td>\n",
       "      <td>TEAM_1</td>\n",
       "      <td>427</td>\n",
       "      <td>0</td>\n",
       "      <td>427</td>\n",
       "      <td>142</td>\n",
       "      <td>00:12:56</td>\n",
       "      <td>1.4</td>\n",
       "      <td>11</td>\n",
       "      <td>10</td>\n",
       "      <td>0.50</td>\n",
       "      <td>1.00</td>\n",
       "      <td>0.50</td>\n",
       "    </tr>\n",
       "    <tr>\n",
       "      <th>4</th>\n",
       "      <td>2022-04-21</td>\n",
       "      <td>Employee_1</td>\n",
       "      <td>TEAM_1</td>\n",
       "      <td>482</td>\n",
       "      <td>0</td>\n",
       "      <td>482</td>\n",
       "      <td>129</td>\n",
       "      <td>00:16:12</td>\n",
       "      <td>1.0</td>\n",
       "      <td>8</td>\n",
       "      <td>8</td>\n",
       "      <td>0.50</td>\n",
       "      <td>1.00</td>\n",
       "      <td>0.50</td>\n",
       "    </tr>\n",
       "  </tbody>\n",
       "</table>\n",
       "</div>"
      ],
      "text/plain": [
       "        Date        Name Mannschaft  Rohe Präsenz (min)  Pause (Minuten)  \\\n",
       "0 2022-04-12  Employee_1     TEAM_1                 102                0   \n",
       "1 2022-04-13  Employee_1     TEAM_1                 299                0   \n",
       "2 2022-04-19  Employee_1     TEAM_1                 478                0   \n",
       "3 2022-04-20  Employee_1     TEAM_1                 427                0   \n",
       "4 2022-04-21  Employee_1     TEAM_1                 482                0   \n",
       "\n",
       "   Nettopräsenz (Min.)  Behandlung (min)       DMT  Productiviy  \\\n",
       "0                  102                 4  00:02:08          0.6   \n",
       "1                  299               168  00:42:00          0.4   \n",
       "2                  478               275  00:16:12          2.0   \n",
       "3                  427               142  00:12:56          1.4   \n",
       "4                  482               129  00:16:12          1.0   \n",
       "\n",
       "   Processed tickets  Closed Tickets  FTE (processed)  FTE (presence)  \\\n",
       "0                  2               1             0.00            0.25   \n",
       "1                  4               2             0.50            0.75   \n",
       "2                 17              16             0.75            1.00   \n",
       "3                 11              10             0.50            1.00   \n",
       "4                  8               8             0.50            1.00   \n",
       "\n",
       "   FTE weighted  \n",
       "0          0.00  \n",
       "1          0.50  \n",
       "2          0.75  \n",
       "3          0.50  \n",
       "4          0.50  "
      ]
     },
     "execution_count": 56,
     "metadata": {},
     "output_type": "execute_result"
    }
   ],
   "source": [
    "# DE.xlsx file\n",
    "\n",
    "# store the nme of the file in filename variable\n",
    "filename = 'DE.xlsx'\n",
    "# read the excel file with .read_excel method\n",
    "de = pd.read_excel(filename, # the file we want to read\n",
    "                   index_col=None, # do not add column index\n",
    "                   header=0) # the first row to be used as headers (column names)\n",
    "\n",
    "# check dataframe shape\n",
    "print('Dataframe Shape: ', de.shape)\n",
    "print(de.columns)\n",
    "de.head()"
   ]
  },
  {
   "cell_type": "code",
   "execution_count": 57,
   "metadata": {
    "id": "q-ZJeXh4_KBz"
   },
   "outputs": [
    {
     "name": "stdout",
     "output_type": "stream",
     "text": [
      "Dataframe Shape:  (673, 15)\n"
     ]
    },
    {
     "data": {
      "text/html": [
       "<div>\n",
       "<style scoped>\n",
       "    .dataframe tbody tr th:only-of-type {\n",
       "        vertical-align: middle;\n",
       "    }\n",
       "\n",
       "    .dataframe tbody tr th {\n",
       "        vertical-align: top;\n",
       "    }\n",
       "\n",
       "    .dataframe thead th {\n",
       "        text-align: right;\n",
       "    }\n",
       "</style>\n",
       "<table border=\"1\" class=\"dataframe\">\n",
       "  <thead>\n",
       "    <tr style=\"text-align: right;\">\n",
       "      <th></th>\n",
       "      <th>Date</th>\n",
       "      <th>Name</th>\n",
       "      <th>Mannschaft</th>\n",
       "      <th>Rohe Präsenz (min)</th>\n",
       "      <th>Pause (Minuten)</th>\n",
       "      <th>Nettopräsenz (Min.)</th>\n",
       "      <th>Behandlung (min)</th>\n",
       "      <th>DMT</th>\n",
       "      <th>Productiviy</th>\n",
       "      <th>Processed tickets</th>\n",
       "      <th>Closed Tickets</th>\n",
       "      <th>FTE (processed)</th>\n",
       "      <th>FTE (presence)</th>\n",
       "      <th>FTE weighted</th>\n",
       "      <th>Country</th>\n",
       "    </tr>\n",
       "  </thead>\n",
       "  <tbody>\n",
       "    <tr>\n",
       "      <th>0</th>\n",
       "      <td>2022-04-12</td>\n",
       "      <td>Employee_1</td>\n",
       "      <td>TEAM_1</td>\n",
       "      <td>102</td>\n",
       "      <td>0</td>\n",
       "      <td>102</td>\n",
       "      <td>4</td>\n",
       "      <td>00:02:08</td>\n",
       "      <td>0.6</td>\n",
       "      <td>2</td>\n",
       "      <td>1</td>\n",
       "      <td>0.00</td>\n",
       "      <td>0.25</td>\n",
       "      <td>0.00</td>\n",
       "      <td>DE</td>\n",
       "    </tr>\n",
       "    <tr>\n",
       "      <th>1</th>\n",
       "      <td>2022-04-13</td>\n",
       "      <td>Employee_1</td>\n",
       "      <td>TEAM_1</td>\n",
       "      <td>299</td>\n",
       "      <td>0</td>\n",
       "      <td>299</td>\n",
       "      <td>168</td>\n",
       "      <td>00:42:00</td>\n",
       "      <td>0.4</td>\n",
       "      <td>4</td>\n",
       "      <td>2</td>\n",
       "      <td>0.50</td>\n",
       "      <td>0.75</td>\n",
       "      <td>0.50</td>\n",
       "      <td>DE</td>\n",
       "    </tr>\n",
       "    <tr>\n",
       "      <th>2</th>\n",
       "      <td>2022-04-19</td>\n",
       "      <td>Employee_1</td>\n",
       "      <td>TEAM_1</td>\n",
       "      <td>478</td>\n",
       "      <td>0</td>\n",
       "      <td>478</td>\n",
       "      <td>275</td>\n",
       "      <td>00:16:12</td>\n",
       "      <td>2.0</td>\n",
       "      <td>17</td>\n",
       "      <td>16</td>\n",
       "      <td>0.75</td>\n",
       "      <td>1.00</td>\n",
       "      <td>0.75</td>\n",
       "      <td>DE</td>\n",
       "    </tr>\n",
       "    <tr>\n",
       "      <th>3</th>\n",
       "      <td>2022-04-20</td>\n",
       "      <td>Employee_1</td>\n",
       "      <td>TEAM_1</td>\n",
       "      <td>427</td>\n",
       "      <td>0</td>\n",
       "      <td>427</td>\n",
       "      <td>142</td>\n",
       "      <td>00:12:56</td>\n",
       "      <td>1.4</td>\n",
       "      <td>11</td>\n",
       "      <td>10</td>\n",
       "      <td>0.50</td>\n",
       "      <td>1.00</td>\n",
       "      <td>0.50</td>\n",
       "      <td>DE</td>\n",
       "    </tr>\n",
       "    <tr>\n",
       "      <th>4</th>\n",
       "      <td>2022-04-21</td>\n",
       "      <td>Employee_1</td>\n",
       "      <td>TEAM_1</td>\n",
       "      <td>482</td>\n",
       "      <td>0</td>\n",
       "      <td>482</td>\n",
       "      <td>129</td>\n",
       "      <td>00:16:12</td>\n",
       "      <td>1.0</td>\n",
       "      <td>8</td>\n",
       "      <td>8</td>\n",
       "      <td>0.50</td>\n",
       "      <td>1.00</td>\n",
       "      <td>0.50</td>\n",
       "      <td>DE</td>\n",
       "    </tr>\n",
       "  </tbody>\n",
       "</table>\n",
       "</div>"
      ],
      "text/plain": [
       "        Date        Name Mannschaft  Rohe Präsenz (min)  Pause (Minuten)  \\\n",
       "0 2022-04-12  Employee_1     TEAM_1                 102                0   \n",
       "1 2022-04-13  Employee_1     TEAM_1                 299                0   \n",
       "2 2022-04-19  Employee_1     TEAM_1                 478                0   \n",
       "3 2022-04-20  Employee_1     TEAM_1                 427                0   \n",
       "4 2022-04-21  Employee_1     TEAM_1                 482                0   \n",
       "\n",
       "   Nettopräsenz (Min.)  Behandlung (min)       DMT  Productiviy  \\\n",
       "0                  102                 4  00:02:08          0.6   \n",
       "1                  299               168  00:42:00          0.4   \n",
       "2                  478               275  00:16:12          2.0   \n",
       "3                  427               142  00:12:56          1.4   \n",
       "4                  482               129  00:16:12          1.0   \n",
       "\n",
       "   Processed tickets  Closed Tickets  FTE (processed)  FTE (presence)  \\\n",
       "0                  2               1             0.00            0.25   \n",
       "1                  4               2             0.50            0.75   \n",
       "2                 17              16             0.75            1.00   \n",
       "3                 11              10             0.50            1.00   \n",
       "4                  8               8             0.50            1.00   \n",
       "\n",
       "   FTE weighted Country  \n",
       "0          0.00      DE  \n",
       "1          0.50      DE  \n",
       "2          0.75      DE  \n",
       "3          0.50      DE  \n",
       "4          0.50      DE  "
      ]
     },
     "execution_count": 57,
     "metadata": {},
     "output_type": "execute_result"
    }
   ],
   "source": [
    "# add a column 'Country' to diferentiate the data in the consilidated dataframe\n",
    "de['Country']= 'DE'\n",
    "\n",
    "# check dataframe shape after adding the new column\n",
    "print('Dataframe Shape: ', de.shape)\n",
    "\n",
    "# visualize first rows\n",
    "de.head()"
   ]
  },
  {
   "cell_type": "code",
   "execution_count": 58,
   "metadata": {
    "id": "EJdbhRHx-gDK"
   },
   "outputs": [
    {
     "name": "stdout",
     "output_type": "stream",
     "text": [
      "nb of columns:  15\n",
      "nb of rows:  673\n"
     ]
    },
    {
     "data": {
      "text/plain": [
       "Index(['Date', 'Name', 'Mannschaft', 'Rohe Präsenz (min)', 'Pause (Minuten)',\n",
       "       'Nettopräsenz (Min.)', 'Behandlung (min)', 'DMT', 'Productiviy',\n",
       "       'Processed tickets', 'Closed Tickets', 'FTE (processed)',\n",
       "       'FTE (presence)', 'FTE weighted', 'Country'],\n",
       "      dtype='object')"
      ]
     },
     "execution_count": 58,
     "metadata": {},
     "output_type": "execute_result"
    }
   ],
   "source": [
    "print('nb of columns: ', len(de.columns))\n",
    "print('nb of rows: ', len(de))\n",
    "de.columns"
   ]
  },
  {
   "cell_type": "code",
   "execution_count": 59,
   "metadata": {
    "id": "8epCZNIl_Put"
   },
   "outputs": [
    {
     "name": "stdout",
     "output_type": "stream",
     "text": [
      "Dataframe Shape:  (267, 15)\n",
      "nb of columns:  15\n",
      "nb of rows:  267\n",
      "column names:  Index(['Date', 'Nom/Prénom', 'EQUIPE', 'Présence brute (min)', 'Pause (min)',\n",
      "       'Présente nette (min)', 'Traitement (min)', 'DMT',\n",
      "       'Productivité horaire', 'Tickets traités', 'Tickets clos',\n",
      "       'FTE (traitement)', 'FTE (présence)', 'FTE pondéré', 'Country'],\n",
      "      dtype='object')\n"
     ]
    },
    {
     "data": {
      "text/html": [
       "<div>\n",
       "<style scoped>\n",
       "    .dataframe tbody tr th:only-of-type {\n",
       "        vertical-align: middle;\n",
       "    }\n",
       "\n",
       "    .dataframe tbody tr th {\n",
       "        vertical-align: top;\n",
       "    }\n",
       "\n",
       "    .dataframe thead th {\n",
       "        text-align: right;\n",
       "    }\n",
       "</style>\n",
       "<table border=\"1\" class=\"dataframe\">\n",
       "  <thead>\n",
       "    <tr style=\"text-align: right;\">\n",
       "      <th></th>\n",
       "      <th>Date</th>\n",
       "      <th>Nom/Prénom</th>\n",
       "      <th>EQUIPE</th>\n",
       "      <th>Présence brute (min)</th>\n",
       "      <th>Pause (min)</th>\n",
       "      <th>Présente nette (min)</th>\n",
       "      <th>Traitement (min)</th>\n",
       "      <th>DMT</th>\n",
       "      <th>Productivité horaire</th>\n",
       "      <th>Tickets traités</th>\n",
       "      <th>Tickets clos</th>\n",
       "      <th>FTE (traitement)</th>\n",
       "      <th>FTE (présence)</th>\n",
       "      <th>FTE pondéré</th>\n",
       "      <th>Country</th>\n",
       "    </tr>\n",
       "  </thead>\n",
       "  <tbody>\n",
       "    <tr>\n",
       "      <th>0</th>\n",
       "      <td>2022-04-12</td>\n",
       "      <td>Employee_1</td>\n",
       "      <td>TEAM_1</td>\n",
       "      <td>102</td>\n",
       "      <td>0</td>\n",
       "      <td>102</td>\n",
       "      <td>4</td>\n",
       "      <td>0.001481</td>\n",
       "      <td>0.6</td>\n",
       "      <td>2</td>\n",
       "      <td>1</td>\n",
       "      <td>0.00</td>\n",
       "      <td>0.25</td>\n",
       "      <td>0.00</td>\n",
       "      <td>FR</td>\n",
       "    </tr>\n",
       "    <tr>\n",
       "      <th>1</th>\n",
       "      <td>2022-04-19</td>\n",
       "      <td>Employee_1</td>\n",
       "      <td>TEAM_1</td>\n",
       "      <td>478</td>\n",
       "      <td>0</td>\n",
       "      <td>478</td>\n",
       "      <td>275</td>\n",
       "      <td>0.011250</td>\n",
       "      <td>2.0</td>\n",
       "      <td>17</td>\n",
       "      <td>16</td>\n",
       "      <td>0.75</td>\n",
       "      <td>1.00</td>\n",
       "      <td>0.75</td>\n",
       "      <td>FR</td>\n",
       "    </tr>\n",
       "    <tr>\n",
       "      <th>2</th>\n",
       "      <td>2022-04-20</td>\n",
       "      <td>Employee_1</td>\n",
       "      <td>TEAM_1</td>\n",
       "      <td>427</td>\n",
       "      <td>0</td>\n",
       "      <td>427</td>\n",
       "      <td>142</td>\n",
       "      <td>0.008981</td>\n",
       "      <td>1.4</td>\n",
       "      <td>11</td>\n",
       "      <td>10</td>\n",
       "      <td>0.50</td>\n",
       "      <td>1.00</td>\n",
       "      <td>0.50</td>\n",
       "      <td>FR</td>\n",
       "    </tr>\n",
       "    <tr>\n",
       "      <th>3</th>\n",
       "      <td>2022-04-21</td>\n",
       "      <td>Employee_1</td>\n",
       "      <td>TEAM_1</td>\n",
       "      <td>482</td>\n",
       "      <td>0</td>\n",
       "      <td>482</td>\n",
       "      <td>129</td>\n",
       "      <td>0.011250</td>\n",
       "      <td>1.0</td>\n",
       "      <td>8</td>\n",
       "      <td>8</td>\n",
       "      <td>0.50</td>\n",
       "      <td>1.00</td>\n",
       "      <td>0.50</td>\n",
       "      <td>FR</td>\n",
       "    </tr>\n",
       "    <tr>\n",
       "      <th>4</th>\n",
       "      <td>2022-04-22</td>\n",
       "      <td>Employee_1</td>\n",
       "      <td>TEAM_1</td>\n",
       "      <td>476</td>\n",
       "      <td>0</td>\n",
       "      <td>476</td>\n",
       "      <td>117</td>\n",
       "      <td>0.013634</td>\n",
       "      <td>0.8</td>\n",
       "      <td>6</td>\n",
       "      <td>6</td>\n",
       "      <td>0.25</td>\n",
       "      <td>1.00</td>\n",
       "      <td>0.25</td>\n",
       "      <td>FR</td>\n",
       "    </tr>\n",
       "  </tbody>\n",
       "</table>\n",
       "</div>"
      ],
      "text/plain": [
       "        Date  Nom/Prénom  EQUIPE  Présence brute (min)  Pause (min)  \\\n",
       "0 2022-04-12  Employee_1  TEAM_1                   102            0   \n",
       "1 2022-04-19  Employee_1  TEAM_1                   478            0   \n",
       "2 2022-04-20  Employee_1  TEAM_1                   427            0   \n",
       "3 2022-04-21  Employee_1  TEAM_1                   482            0   \n",
       "4 2022-04-22  Employee_1  TEAM_1                   476            0   \n",
       "\n",
       "   Présente nette (min)  Traitement (min)       DMT  Productivité horaire  \\\n",
       "0                   102                 4  0.001481                   0.6   \n",
       "1                   478               275  0.011250                   2.0   \n",
       "2                   427               142  0.008981                   1.4   \n",
       "3                   482               129  0.011250                   1.0   \n",
       "4                   476               117  0.013634                   0.8   \n",
       "\n",
       "   Tickets traités  Tickets clos  FTE (traitement)  FTE (présence)  \\\n",
       "0                2             1              0.00            0.25   \n",
       "1               17            16              0.75            1.00   \n",
       "2               11            10              0.50            1.00   \n",
       "3                8             8              0.50            1.00   \n",
       "4                6             6              0.25            1.00   \n",
       "\n",
       "   FTE pondéré Country  \n",
       "0         0.00      FR  \n",
       "1         0.75      FR  \n",
       "2         0.50      FR  \n",
       "3         0.50      FR  \n",
       "4         0.25      FR  "
      ]
     },
     "execution_count": 59,
     "metadata": {},
     "output_type": "execute_result"
    }
   ],
   "source": [
    "# FR\n",
    "filename = 'FR.xlsx'\n",
    "fr = pd.read_excel(filename, index_col=None, header=0)\n",
    "\n",
    "\n",
    "# add a column 'Country' to diferentiate the data in the consilidated dataframe\n",
    "fr['Country']= 'FR'\n",
    "\n",
    "# check dataframe shape, dimensions after adding the new column\n",
    "print('Dataframe Shape: ', fr.shape)\n",
    "print('nb of columns: ', len(fr.columns))\n",
    "print('nb of rows: ', len(fr))\n",
    "\n",
    "# print column names \n",
    "print('column names: ', fr.columns)\n",
    "\n",
    "# visualize first rows\n",
    "fr.head()"
   ]
  },
  {
   "cell_type": "code",
   "execution_count": 60,
   "metadata": {
    "id": "qmpsNlOW_lzx"
   },
   "outputs": [
    {
     "name": "stdout",
     "output_type": "stream",
     "text": [
      "Dataframe Shape:  (269, 15)\n",
      "nb of columns:  15\n",
      "nb of rows:  269\n",
      "column names:  Index(['Date', 'Name', 'Team', 'Presence', 'Pause (min)', 'Presence net (min)',\n",
      "       'Processed (min)', 'DMT', 'Productivity hours', 'Processed tickets',\n",
      "       'Closed tickets', 'FTE (process)', 'FTE (presence)', 'FTE weighted',\n",
      "       'Country'],\n",
      "      dtype='object')\n"
     ]
    },
    {
     "data": {
      "text/html": [
       "<div>\n",
       "<style scoped>\n",
       "    .dataframe tbody tr th:only-of-type {\n",
       "        vertical-align: middle;\n",
       "    }\n",
       "\n",
       "    .dataframe tbody tr th {\n",
       "        vertical-align: top;\n",
       "    }\n",
       "\n",
       "    .dataframe thead th {\n",
       "        text-align: right;\n",
       "    }\n",
       "</style>\n",
       "<table border=\"1\" class=\"dataframe\">\n",
       "  <thead>\n",
       "    <tr style=\"text-align: right;\">\n",
       "      <th></th>\n",
       "      <th>Date</th>\n",
       "      <th>Name</th>\n",
       "      <th>Team</th>\n",
       "      <th>Presence</th>\n",
       "      <th>Pause (min)</th>\n",
       "      <th>Presence net (min)</th>\n",
       "      <th>Processed (min)</th>\n",
       "      <th>DMT</th>\n",
       "      <th>Productivity hours</th>\n",
       "      <th>Processed tickets</th>\n",
       "      <th>Closed tickets</th>\n",
       "      <th>FTE (process)</th>\n",
       "      <th>FTE (presence)</th>\n",
       "      <th>FTE weighted</th>\n",
       "      <th>Country</th>\n",
       "    </tr>\n",
       "  </thead>\n",
       "  <tbody>\n",
       "    <tr>\n",
       "      <th>0</th>\n",
       "      <td>2022-04-12</td>\n",
       "      <td>Employee_1</td>\n",
       "      <td>TEAM_1</td>\n",
       "      <td>102.0</td>\n",
       "      <td>0.0</td>\n",
       "      <td>102</td>\n",
       "      <td>4</td>\n",
       "      <td>0.001481</td>\n",
       "      <td>0.6</td>\n",
       "      <td>2</td>\n",
       "      <td>1</td>\n",
       "      <td>0.00</td>\n",
       "      <td>0.25</td>\n",
       "      <td>0.00</td>\n",
       "      <td>UK</td>\n",
       "    </tr>\n",
       "    <tr>\n",
       "      <th>1</th>\n",
       "      <td>2022-04-19</td>\n",
       "      <td>Employee_1</td>\n",
       "      <td>TEAM_1</td>\n",
       "      <td>478.0</td>\n",
       "      <td>0.0</td>\n",
       "      <td>478</td>\n",
       "      <td>275</td>\n",
       "      <td>0.011250</td>\n",
       "      <td>2.0</td>\n",
       "      <td>17</td>\n",
       "      <td>16</td>\n",
       "      <td>0.75</td>\n",
       "      <td>1.00</td>\n",
       "      <td>0.75</td>\n",
       "      <td>UK</td>\n",
       "    </tr>\n",
       "    <tr>\n",
       "      <th>2</th>\n",
       "      <td>2022-04-20</td>\n",
       "      <td>Employee_1</td>\n",
       "      <td>TEAM_1</td>\n",
       "      <td>4.0</td>\n",
       "      <td>0.0</td>\n",
       "      <td>427</td>\n",
       "      <td>142</td>\n",
       "      <td>0.008981</td>\n",
       "      <td>1.4</td>\n",
       "      <td>11</td>\n",
       "      <td>10</td>\n",
       "      <td>0.50</td>\n",
       "      <td>1.00</td>\n",
       "      <td>0.50</td>\n",
       "      <td>UK</td>\n",
       "    </tr>\n",
       "    <tr>\n",
       "      <th>3</th>\n",
       "      <td>2022-04-21</td>\n",
       "      <td>Employee_1</td>\n",
       "      <td>TEAM_1</td>\n",
       "      <td>482.0</td>\n",
       "      <td>0.0</td>\n",
       "      <td>482</td>\n",
       "      <td>129</td>\n",
       "      <td>0.011250</td>\n",
       "      <td>1.0</td>\n",
       "      <td>8</td>\n",
       "      <td>8</td>\n",
       "      <td>0.50</td>\n",
       "      <td>1.00</td>\n",
       "      <td>0.50</td>\n",
       "      <td>UK</td>\n",
       "    </tr>\n",
       "    <tr>\n",
       "      <th>4</th>\n",
       "      <td>2022-04-22</td>\n",
       "      <td>Employee_1</td>\n",
       "      <td>TEAM_1</td>\n",
       "      <td>476.0</td>\n",
       "      <td>0.0</td>\n",
       "      <td>476</td>\n",
       "      <td>117</td>\n",
       "      <td>0.013634</td>\n",
       "      <td>0.8</td>\n",
       "      <td>6</td>\n",
       "      <td>6</td>\n",
       "      <td>0.25</td>\n",
       "      <td>1.00</td>\n",
       "      <td>0.25</td>\n",
       "      <td>UK</td>\n",
       "    </tr>\n",
       "  </tbody>\n",
       "</table>\n",
       "</div>"
      ],
      "text/plain": [
       "        Date        Name    Team  Presence  Pause (min)  Presence net (min)  \\\n",
       "0 2022-04-12  Employee_1  TEAM_1     102.0          0.0                 102   \n",
       "1 2022-04-19  Employee_1  TEAM_1     478.0          0.0                 478   \n",
       "2 2022-04-20  Employee_1  TEAM_1       4.0          0.0                 427   \n",
       "3 2022-04-21  Employee_1  TEAM_1     482.0          0.0                 482   \n",
       "4 2022-04-22  Employee_1  TEAM_1     476.0          0.0                 476   \n",
       "\n",
       "   Processed (min)       DMT  Productivity hours  Processed tickets  \\\n",
       "0                4  0.001481                 0.6                  2   \n",
       "1              275  0.011250                 2.0                 17   \n",
       "2              142  0.008981                 1.4                 11   \n",
       "3              129  0.011250                 1.0                  8   \n",
       "4              117  0.013634                 0.8                  6   \n",
       "\n",
       "   Closed tickets  FTE (process)  FTE (presence)  FTE weighted Country  \n",
       "0               1           0.00            0.25          0.00      UK  \n",
       "1              16           0.75            1.00          0.75      UK  \n",
       "2              10           0.50            1.00          0.50      UK  \n",
       "3               8           0.50            1.00          0.50      UK  \n",
       "4               6           0.25            1.00          0.25      UK  "
      ]
     },
     "execution_count": 60,
     "metadata": {},
     "output_type": "execute_result"
    }
   ],
   "source": [
    "# UK\n",
    "filename = 'UK.xlsx'\n",
    "uk = pd.read_excel(filename, index_col=None, header=0)\n",
    "\n",
    "\n",
    "# add a column 'Country' to diferentiate the data in the consilidated dataframe\n",
    "uk['Country']= 'UK'\n",
    "\n",
    "# check dataframe shape, dimensions after adding the new column\n",
    "print('Dataframe Shape: ', uk.shape)\n",
    "print('nb of columns: ', len(uk.columns))\n",
    "print('nb of rows: ', len(uk))\n",
    "\n",
    "# print column names \n",
    "print('column names: ', uk.columns)\n",
    "\n",
    "# visualize first rows\n",
    "uk.head()"
   ]
  },
  {
   "cell_type": "code",
   "execution_count": 61,
   "metadata": {},
   "outputs": [],
   "source": [
    "# save uk df as an excel\n",
    "\n",
    "uk.to_excel(\"uk_df.xlsx\",\n",
    "             sheet_name='UK') "
   ]
  },
  {
   "cell_type": "markdown",
   "metadata": {
    "id": "oVUypWR__dfa"
   },
   "source": [
    "## Single excel file with separate sheet by country"
   ]
  },
  {
   "cell_type": "markdown",
   "metadata": {
    "id": "1PfPXAglA_5-"
   },
   "source": [
    "Create an excel file where country would be on a separate sheet"
   ]
  },
  {
   "cell_type": "code",
   "execution_count": 62,
   "metadata": {
    "id": "m9lLicSB_rER"
   },
   "outputs": [
    {
     "name": "stderr",
     "output_type": "stream",
     "text": [
      "/home/e57658/.local/lib/python3.9/site-packages/xlsxwriter/workbook.py:339: UserWarning: Calling close() on already closed file.\n",
      "  warn(\"Calling close() on already closed file.\")\n"
     ]
    }
   ],
   "source": [
    "# create excel writer in the Processed_Files folder with the name 'Consolidation_by_sheet'\n",
    "writer = pd.ExcelWriter('Processed_Files/Consolidated_by_sheet.xlsx')\n",
    "# write dataframe to excel sheet named 'marks'\n",
    "uk.to_excel(writer, 'UK')\n",
    "fr.to_excel(writer, 'FR')\n",
    "de.to_excel(writer, 'DE')\n",
    "\n",
    "# - > !!!! save and close the excel file (important)\n",
    "writer.save()\n",
    "writer.close()"
   ]
  },
  {
   "cell_type": "markdown",
   "metadata": {
    "id": "RyLObXdTBH1N"
   },
   "source": [
    "## Consolidate all excels into a single excel sheet"
   ]
  },
  {
   "cell_type": "code",
   "execution_count": 63,
   "metadata": {
    "id": "qWGHukDy_dfb"
   },
   "outputs": [
    {
     "name": "stdout",
     "output_type": "stream",
     "text": [
      "(1209, 34)\n"
     ]
    },
    {
     "data": {
      "text/html": [
       "<div>\n",
       "<style scoped>\n",
       "    .dataframe tbody tr th:only-of-type {\n",
       "        vertical-align: middle;\n",
       "    }\n",
       "\n",
       "    .dataframe tbody tr th {\n",
       "        vertical-align: top;\n",
       "    }\n",
       "\n",
       "    .dataframe thead th {\n",
       "        text-align: right;\n",
       "    }\n",
       "</style>\n",
       "<table border=\"1\" class=\"dataframe\">\n",
       "  <thead>\n",
       "    <tr style=\"text-align: right;\">\n",
       "      <th></th>\n",
       "      <th>Date</th>\n",
       "      <th>Name</th>\n",
       "      <th>Mannschaft</th>\n",
       "      <th>Rohe Präsenz (min)</th>\n",
       "      <th>Pause (Minuten)</th>\n",
       "      <th>Nettopräsenz (Min.)</th>\n",
       "      <th>Behandlung (min)</th>\n",
       "      <th>DMT</th>\n",
       "      <th>Productiviy</th>\n",
       "      <th>Processed tickets</th>\n",
       "      <th>Closed Tickets</th>\n",
       "      <th>FTE (processed)</th>\n",
       "      <th>FTE (presence)</th>\n",
       "      <th>FTE weighted</th>\n",
       "      <th>Country</th>\n",
       "      <th>Nom/Prénom</th>\n",
       "      <th>EQUIPE</th>\n",
       "      <th>Présence brute (min)</th>\n",
       "      <th>Pause (min)</th>\n",
       "      <th>Présente nette (min)</th>\n",
       "      <th>Traitement (min)</th>\n",
       "      <th>Productivité horaire</th>\n",
       "      <th>Tickets traités</th>\n",
       "      <th>Tickets clos</th>\n",
       "      <th>FTE (traitement)</th>\n",
       "      <th>FTE (présence)</th>\n",
       "      <th>FTE pondéré</th>\n",
       "      <th>Team</th>\n",
       "      <th>Presence</th>\n",
       "      <th>Presence net (min)</th>\n",
       "      <th>Processed (min)</th>\n",
       "      <th>Productivity hours</th>\n",
       "      <th>Closed tickets</th>\n",
       "      <th>FTE (process)</th>\n",
       "    </tr>\n",
       "  </thead>\n",
       "  <tbody>\n",
       "    <tr>\n",
       "      <th>0</th>\n",
       "      <td>2022-04-12</td>\n",
       "      <td>Employee_1</td>\n",
       "      <td>TEAM_1</td>\n",
       "      <td>102.0</td>\n",
       "      <td>0.0</td>\n",
       "      <td>102.0</td>\n",
       "      <td>4.0</td>\n",
       "      <td>00:02:08</td>\n",
       "      <td>0.6</td>\n",
       "      <td>2.0</td>\n",
       "      <td>1.0</td>\n",
       "      <td>0.00</td>\n",
       "      <td>0.25</td>\n",
       "      <td>0.00</td>\n",
       "      <td>DE</td>\n",
       "      <td>NaN</td>\n",
       "      <td>NaN</td>\n",
       "      <td>NaN</td>\n",
       "      <td>NaN</td>\n",
       "      <td>NaN</td>\n",
       "      <td>NaN</td>\n",
       "      <td>NaN</td>\n",
       "      <td>NaN</td>\n",
       "      <td>NaN</td>\n",
       "      <td>NaN</td>\n",
       "      <td>NaN</td>\n",
       "      <td>NaN</td>\n",
       "      <td>NaN</td>\n",
       "      <td>NaN</td>\n",
       "      <td>NaN</td>\n",
       "      <td>NaN</td>\n",
       "      <td>NaN</td>\n",
       "      <td>NaN</td>\n",
       "      <td>NaN</td>\n",
       "    </tr>\n",
       "    <tr>\n",
       "      <th>1</th>\n",
       "      <td>2022-04-13</td>\n",
       "      <td>Employee_1</td>\n",
       "      <td>TEAM_1</td>\n",
       "      <td>299.0</td>\n",
       "      <td>0.0</td>\n",
       "      <td>299.0</td>\n",
       "      <td>168.0</td>\n",
       "      <td>00:42:00</td>\n",
       "      <td>0.4</td>\n",
       "      <td>4.0</td>\n",
       "      <td>2.0</td>\n",
       "      <td>0.50</td>\n",
       "      <td>0.75</td>\n",
       "      <td>0.50</td>\n",
       "      <td>DE</td>\n",
       "      <td>NaN</td>\n",
       "      <td>NaN</td>\n",
       "      <td>NaN</td>\n",
       "      <td>NaN</td>\n",
       "      <td>NaN</td>\n",
       "      <td>NaN</td>\n",
       "      <td>NaN</td>\n",
       "      <td>NaN</td>\n",
       "      <td>NaN</td>\n",
       "      <td>NaN</td>\n",
       "      <td>NaN</td>\n",
       "      <td>NaN</td>\n",
       "      <td>NaN</td>\n",
       "      <td>NaN</td>\n",
       "      <td>NaN</td>\n",
       "      <td>NaN</td>\n",
       "      <td>NaN</td>\n",
       "      <td>NaN</td>\n",
       "      <td>NaN</td>\n",
       "    </tr>\n",
       "    <tr>\n",
       "      <th>2</th>\n",
       "      <td>2022-04-19</td>\n",
       "      <td>Employee_1</td>\n",
       "      <td>TEAM_1</td>\n",
       "      <td>478.0</td>\n",
       "      <td>0.0</td>\n",
       "      <td>478.0</td>\n",
       "      <td>275.0</td>\n",
       "      <td>00:16:12</td>\n",
       "      <td>2.0</td>\n",
       "      <td>17.0</td>\n",
       "      <td>16.0</td>\n",
       "      <td>0.75</td>\n",
       "      <td>1.00</td>\n",
       "      <td>0.75</td>\n",
       "      <td>DE</td>\n",
       "      <td>NaN</td>\n",
       "      <td>NaN</td>\n",
       "      <td>NaN</td>\n",
       "      <td>NaN</td>\n",
       "      <td>NaN</td>\n",
       "      <td>NaN</td>\n",
       "      <td>NaN</td>\n",
       "      <td>NaN</td>\n",
       "      <td>NaN</td>\n",
       "      <td>NaN</td>\n",
       "      <td>NaN</td>\n",
       "      <td>NaN</td>\n",
       "      <td>NaN</td>\n",
       "      <td>NaN</td>\n",
       "      <td>NaN</td>\n",
       "      <td>NaN</td>\n",
       "      <td>NaN</td>\n",
       "      <td>NaN</td>\n",
       "      <td>NaN</td>\n",
       "    </tr>\n",
       "    <tr>\n",
       "      <th>3</th>\n",
       "      <td>2022-04-20</td>\n",
       "      <td>Employee_1</td>\n",
       "      <td>TEAM_1</td>\n",
       "      <td>427.0</td>\n",
       "      <td>0.0</td>\n",
       "      <td>427.0</td>\n",
       "      <td>142.0</td>\n",
       "      <td>00:12:56</td>\n",
       "      <td>1.4</td>\n",
       "      <td>11.0</td>\n",
       "      <td>10.0</td>\n",
       "      <td>0.50</td>\n",
       "      <td>1.00</td>\n",
       "      <td>0.50</td>\n",
       "      <td>DE</td>\n",
       "      <td>NaN</td>\n",
       "      <td>NaN</td>\n",
       "      <td>NaN</td>\n",
       "      <td>NaN</td>\n",
       "      <td>NaN</td>\n",
       "      <td>NaN</td>\n",
       "      <td>NaN</td>\n",
       "      <td>NaN</td>\n",
       "      <td>NaN</td>\n",
       "      <td>NaN</td>\n",
       "      <td>NaN</td>\n",
       "      <td>NaN</td>\n",
       "      <td>NaN</td>\n",
       "      <td>NaN</td>\n",
       "      <td>NaN</td>\n",
       "      <td>NaN</td>\n",
       "      <td>NaN</td>\n",
       "      <td>NaN</td>\n",
       "      <td>NaN</td>\n",
       "    </tr>\n",
       "    <tr>\n",
       "      <th>4</th>\n",
       "      <td>2022-04-21</td>\n",
       "      <td>Employee_1</td>\n",
       "      <td>TEAM_1</td>\n",
       "      <td>482.0</td>\n",
       "      <td>0.0</td>\n",
       "      <td>482.0</td>\n",
       "      <td>129.0</td>\n",
       "      <td>00:16:12</td>\n",
       "      <td>1.0</td>\n",
       "      <td>8.0</td>\n",
       "      <td>8.0</td>\n",
       "      <td>0.50</td>\n",
       "      <td>1.00</td>\n",
       "      <td>0.50</td>\n",
       "      <td>DE</td>\n",
       "      <td>NaN</td>\n",
       "      <td>NaN</td>\n",
       "      <td>NaN</td>\n",
       "      <td>NaN</td>\n",
       "      <td>NaN</td>\n",
       "      <td>NaN</td>\n",
       "      <td>NaN</td>\n",
       "      <td>NaN</td>\n",
       "      <td>NaN</td>\n",
       "      <td>NaN</td>\n",
       "      <td>NaN</td>\n",
       "      <td>NaN</td>\n",
       "      <td>NaN</td>\n",
       "      <td>NaN</td>\n",
       "      <td>NaN</td>\n",
       "      <td>NaN</td>\n",
       "      <td>NaN</td>\n",
       "      <td>NaN</td>\n",
       "      <td>NaN</td>\n",
       "    </tr>\n",
       "  </tbody>\n",
       "</table>\n",
       "</div>"
      ],
      "text/plain": [
       "        Date        Name Mannschaft  Rohe Präsenz (min)  Pause (Minuten)  \\\n",
       "0 2022-04-12  Employee_1     TEAM_1               102.0              0.0   \n",
       "1 2022-04-13  Employee_1     TEAM_1               299.0              0.0   \n",
       "2 2022-04-19  Employee_1     TEAM_1               478.0              0.0   \n",
       "3 2022-04-20  Employee_1     TEAM_1               427.0              0.0   \n",
       "4 2022-04-21  Employee_1     TEAM_1               482.0              0.0   \n",
       "\n",
       "   Nettopräsenz (Min.)  Behandlung (min)       DMT  Productiviy  \\\n",
       "0                102.0               4.0  00:02:08          0.6   \n",
       "1                299.0             168.0  00:42:00          0.4   \n",
       "2                478.0             275.0  00:16:12          2.0   \n",
       "3                427.0             142.0  00:12:56          1.4   \n",
       "4                482.0             129.0  00:16:12          1.0   \n",
       "\n",
       "   Processed tickets  Closed Tickets  FTE (processed)  FTE (presence)  \\\n",
       "0                2.0             1.0             0.00            0.25   \n",
       "1                4.0             2.0             0.50            0.75   \n",
       "2               17.0            16.0             0.75            1.00   \n",
       "3               11.0            10.0             0.50            1.00   \n",
       "4                8.0             8.0             0.50            1.00   \n",
       "\n",
       "   FTE weighted Country Nom/Prénom EQUIPE  Présence brute (min)  Pause (min)  \\\n",
       "0          0.00      DE        NaN    NaN                   NaN          NaN   \n",
       "1          0.50      DE        NaN    NaN                   NaN          NaN   \n",
       "2          0.75      DE        NaN    NaN                   NaN          NaN   \n",
       "3          0.50      DE        NaN    NaN                   NaN          NaN   \n",
       "4          0.50      DE        NaN    NaN                   NaN          NaN   \n",
       "\n",
       "   Présente nette (min)  Traitement (min)  Productivité horaire  \\\n",
       "0                   NaN               NaN                   NaN   \n",
       "1                   NaN               NaN                   NaN   \n",
       "2                   NaN               NaN                   NaN   \n",
       "3                   NaN               NaN                   NaN   \n",
       "4                   NaN               NaN                   NaN   \n",
       "\n",
       "   Tickets traités  Tickets clos  FTE (traitement)  FTE (présence)  \\\n",
       "0              NaN           NaN               NaN             NaN   \n",
       "1              NaN           NaN               NaN             NaN   \n",
       "2              NaN           NaN               NaN             NaN   \n",
       "3              NaN           NaN               NaN             NaN   \n",
       "4              NaN           NaN               NaN             NaN   \n",
       "\n",
       "   FTE pondéré Team  Presence  Presence net (min)  Processed (min)  \\\n",
       "0          NaN  NaN       NaN                 NaN              NaN   \n",
       "1          NaN  NaN       NaN                 NaN              NaN   \n",
       "2          NaN  NaN       NaN                 NaN              NaN   \n",
       "3          NaN  NaN       NaN                 NaN              NaN   \n",
       "4          NaN  NaN       NaN                 NaN              NaN   \n",
       "\n",
       "   Productivity hours  Closed tickets  FTE (process)  \n",
       "0                 NaN             NaN            NaN  \n",
       "1                 NaN             NaN            NaN  \n",
       "2                 NaN             NaN            NaN  \n",
       "3                 NaN             NaN            NaN  \n",
       "4                 NaN             NaN            NaN  "
      ]
     },
     "execution_count": 63,
     "metadata": {},
     "output_type": "execute_result"
    }
   ],
   "source": [
    "frames = [de, fr, uk]\n",
    "\n",
    "df_concat = pd.concat(frames)\n",
    "\n",
    "print(df_concat.shape)\n",
    "\n",
    "# display first rows\n",
    "df_concat.head()"
   ]
  },
  {
   "cell_type": "code",
   "execution_count": 64,
   "metadata": {
    "id": "uCKOn1kI_dfb"
   },
   "outputs": [
    {
     "data": {
      "text/html": [
       "<div>\n",
       "<style scoped>\n",
       "    .dataframe tbody tr th:only-of-type {\n",
       "        vertical-align: middle;\n",
       "    }\n",
       "\n",
       "    .dataframe tbody tr th {\n",
       "        vertical-align: top;\n",
       "    }\n",
       "\n",
       "    .dataframe thead th {\n",
       "        text-align: right;\n",
       "    }\n",
       "</style>\n",
       "<table border=\"1\" class=\"dataframe\">\n",
       "  <thead>\n",
       "    <tr style=\"text-align: right;\">\n",
       "      <th></th>\n",
       "      <th>Date</th>\n",
       "      <th>Name</th>\n",
       "      <th>Mannschaft</th>\n",
       "      <th>Rohe Präsenz (min)</th>\n",
       "      <th>Pause (Minuten)</th>\n",
       "      <th>Nettopräsenz (Min.)</th>\n",
       "      <th>Behandlung (min)</th>\n",
       "      <th>DMT</th>\n",
       "      <th>Productiviy</th>\n",
       "      <th>Processed tickets</th>\n",
       "      <th>Closed Tickets</th>\n",
       "      <th>FTE (processed)</th>\n",
       "      <th>FTE (presence)</th>\n",
       "      <th>FTE weighted</th>\n",
       "      <th>Country</th>\n",
       "      <th>Nom/Prénom</th>\n",
       "      <th>EQUIPE</th>\n",
       "      <th>Présence brute (min)</th>\n",
       "      <th>Pause (min)</th>\n",
       "      <th>Présente nette (min)</th>\n",
       "      <th>Traitement (min)</th>\n",
       "      <th>Productivité horaire</th>\n",
       "      <th>Tickets traités</th>\n",
       "      <th>Tickets clos</th>\n",
       "      <th>FTE (traitement)</th>\n",
       "      <th>FTE (présence)</th>\n",
       "      <th>FTE pondéré</th>\n",
       "      <th>Team</th>\n",
       "      <th>Presence</th>\n",
       "      <th>Presence net (min)</th>\n",
       "      <th>Processed (min)</th>\n",
       "      <th>Productivity hours</th>\n",
       "      <th>Closed tickets</th>\n",
       "      <th>FTE (process)</th>\n",
       "    </tr>\n",
       "  </thead>\n",
       "  <tbody>\n",
       "    <tr>\n",
       "      <th>264</th>\n",
       "      <td>2022-04-14</td>\n",
       "      <td>Employee_24</td>\n",
       "      <td>NaN</td>\n",
       "      <td>NaN</td>\n",
       "      <td>NaN</td>\n",
       "      <td>NaN</td>\n",
       "      <td>NaN</td>\n",
       "      <td>NaN</td>\n",
       "      <td>NaN</td>\n",
       "      <td>0.0</td>\n",
       "      <td>NaN</td>\n",
       "      <td>NaN</td>\n",
       "      <td>0.5</td>\n",
       "      <td>0.00</td>\n",
       "      <td>UK</td>\n",
       "      <td>NaN</td>\n",
       "      <td>NaN</td>\n",
       "      <td>NaN</td>\n",
       "      <td>0.0</td>\n",
       "      <td>NaN</td>\n",
       "      <td>NaN</td>\n",
       "      <td>NaN</td>\n",
       "      <td>NaN</td>\n",
       "      <td>NaN</td>\n",
       "      <td>NaN</td>\n",
       "      <td>NaN</td>\n",
       "      <td>NaN</td>\n",
       "      <td>TEAM_4</td>\n",
       "      <td>123.00</td>\n",
       "      <td>123.0</td>\n",
       "      <td>0.0</td>\n",
       "      <td>0.0</td>\n",
       "      <td>0.0</td>\n",
       "      <td>0.00</td>\n",
       "    </tr>\n",
       "    <tr>\n",
       "      <th>265</th>\n",
       "      <td>2022-04-24</td>\n",
       "      <td>Employee_24</td>\n",
       "      <td>NaN</td>\n",
       "      <td>NaN</td>\n",
       "      <td>NaN</td>\n",
       "      <td>NaN</td>\n",
       "      <td>NaN</td>\n",
       "      <td>0.008461</td>\n",
       "      <td>NaN</td>\n",
       "      <td>3.0</td>\n",
       "      <td>NaN</td>\n",
       "      <td>NaN</td>\n",
       "      <td>0.5</td>\n",
       "      <td>0.00</td>\n",
       "      <td>UK</td>\n",
       "      <td>NaN</td>\n",
       "      <td>NaN</td>\n",
       "      <td>NaN</td>\n",
       "      <td>0.0</td>\n",
       "      <td>NaN</td>\n",
       "      <td>NaN</td>\n",
       "      <td>NaN</td>\n",
       "      <td>NaN</td>\n",
       "      <td>NaN</td>\n",
       "      <td>NaN</td>\n",
       "      <td>NaN</td>\n",
       "      <td>NaN</td>\n",
       "      <td>TEAM_4</td>\n",
       "      <td>184.00</td>\n",
       "      <td>184.0</td>\n",
       "      <td>36.0</td>\n",
       "      <td>1.3</td>\n",
       "      <td>3.0</td>\n",
       "      <td>0.00</td>\n",
       "    </tr>\n",
       "    <tr>\n",
       "      <th>266</th>\n",
       "      <td>2022-04-29</td>\n",
       "      <td>Employee_24</td>\n",
       "      <td>NaN</td>\n",
       "      <td>NaN</td>\n",
       "      <td>NaN</td>\n",
       "      <td>NaN</td>\n",
       "      <td>NaN</td>\n",
       "      <td>0.003194</td>\n",
       "      <td>NaN</td>\n",
       "      <td>14.0</td>\n",
       "      <td>NaN</td>\n",
       "      <td>NaN</td>\n",
       "      <td>1.0</td>\n",
       "      <td>0.25</td>\n",
       "      <td>UK</td>\n",
       "      <td>NaN</td>\n",
       "      <td>NaN</td>\n",
       "      <td>NaN</td>\n",
       "      <td>0.0</td>\n",
       "      <td>NaN</td>\n",
       "      <td>NaN</td>\n",
       "      <td>NaN</td>\n",
       "      <td>NaN</td>\n",
       "      <td>NaN</td>\n",
       "      <td>NaN</td>\n",
       "      <td>NaN</td>\n",
       "      <td>NaN</td>\n",
       "      <td>TEAM_4</td>\n",
       "      <td>441.00</td>\n",
       "      <td>441.0</td>\n",
       "      <td>64.0</td>\n",
       "      <td>1.5</td>\n",
       "      <td>11.0</td>\n",
       "      <td>0.25</td>\n",
       "    </tr>\n",
       "    <tr>\n",
       "      <th>267</th>\n",
       "      <td>2022-04-24</td>\n",
       "      <td>Employee_25</td>\n",
       "      <td>NaN</td>\n",
       "      <td>NaN</td>\n",
       "      <td>NaN</td>\n",
       "      <td>NaN</td>\n",
       "      <td>NaN</td>\n",
       "      <td>0.008461</td>\n",
       "      <td>NaN</td>\n",
       "      <td>3.0</td>\n",
       "      <td>NaN</td>\n",
       "      <td>NaN</td>\n",
       "      <td>0.5</td>\n",
       "      <td>0.00</td>\n",
       "      <td>UK</td>\n",
       "      <td>NaN</td>\n",
       "      <td>NaN</td>\n",
       "      <td>NaN</td>\n",
       "      <td>0.0</td>\n",
       "      <td>NaN</td>\n",
       "      <td>NaN</td>\n",
       "      <td>NaN</td>\n",
       "      <td>NaN</td>\n",
       "      <td>NaN</td>\n",
       "      <td>NaN</td>\n",
       "      <td>NaN</td>\n",
       "      <td>NaN</td>\n",
       "      <td>TEAM_5</td>\n",
       "      <td>1.60</td>\n",
       "      <td>184.0</td>\n",
       "      <td>36.0</td>\n",
       "      <td>1.3</td>\n",
       "      <td>3.0</td>\n",
       "      <td>0.00</td>\n",
       "    </tr>\n",
       "    <tr>\n",
       "      <th>268</th>\n",
       "      <td>2022-04-29</td>\n",
       "      <td>Employee_26</td>\n",
       "      <td>NaN</td>\n",
       "      <td>NaN</td>\n",
       "      <td>NaN</td>\n",
       "      <td>NaN</td>\n",
       "      <td>NaN</td>\n",
       "      <td>0.003194</td>\n",
       "      <td>NaN</td>\n",
       "      <td>14.0</td>\n",
       "      <td>NaN</td>\n",
       "      <td>NaN</td>\n",
       "      <td>1.0</td>\n",
       "      <td>0.25</td>\n",
       "      <td>UK</td>\n",
       "      <td>NaN</td>\n",
       "      <td>NaN</td>\n",
       "      <td>NaN</td>\n",
       "      <td>0.0</td>\n",
       "      <td>NaN</td>\n",
       "      <td>NaN</td>\n",
       "      <td>NaN</td>\n",
       "      <td>NaN</td>\n",
       "      <td>NaN</td>\n",
       "      <td>NaN</td>\n",
       "      <td>NaN</td>\n",
       "      <td>NaN</td>\n",
       "      <td>TEAM_5</td>\n",
       "      <td>3.41</td>\n",
       "      <td>441.0</td>\n",
       "      <td>64.0</td>\n",
       "      <td>1.5</td>\n",
       "      <td>11.0</td>\n",
       "      <td>0.25</td>\n",
       "    </tr>\n",
       "  </tbody>\n",
       "</table>\n",
       "</div>"
      ],
      "text/plain": [
       "          Date         Name Mannschaft  Rohe Präsenz (min)  Pause (Minuten)  \\\n",
       "264 2022-04-14  Employee_24        NaN                 NaN              NaN   \n",
       "265 2022-04-24  Employee_24        NaN                 NaN              NaN   \n",
       "266 2022-04-29  Employee_24        NaN                 NaN              NaN   \n",
       "267 2022-04-24  Employee_25        NaN                 NaN              NaN   \n",
       "268 2022-04-29  Employee_26        NaN                 NaN              NaN   \n",
       "\n",
       "     Nettopräsenz (Min.)  Behandlung (min)       DMT  Productiviy  \\\n",
       "264                  NaN               NaN       NaN          NaN   \n",
       "265                  NaN               NaN  0.008461          NaN   \n",
       "266                  NaN               NaN  0.003194          NaN   \n",
       "267                  NaN               NaN  0.008461          NaN   \n",
       "268                  NaN               NaN  0.003194          NaN   \n",
       "\n",
       "     Processed tickets  Closed Tickets  FTE (processed)  FTE (presence)  \\\n",
       "264                0.0             NaN              NaN             0.5   \n",
       "265                3.0             NaN              NaN             0.5   \n",
       "266               14.0             NaN              NaN             1.0   \n",
       "267                3.0             NaN              NaN             0.5   \n",
       "268               14.0             NaN              NaN             1.0   \n",
       "\n",
       "     FTE weighted Country Nom/Prénom EQUIPE  Présence brute (min)  \\\n",
       "264          0.00      UK        NaN    NaN                   NaN   \n",
       "265          0.00      UK        NaN    NaN                   NaN   \n",
       "266          0.25      UK        NaN    NaN                   NaN   \n",
       "267          0.00      UK        NaN    NaN                   NaN   \n",
       "268          0.25      UK        NaN    NaN                   NaN   \n",
       "\n",
       "     Pause (min)  Présente nette (min)  Traitement (min)  \\\n",
       "264          0.0                   NaN               NaN   \n",
       "265          0.0                   NaN               NaN   \n",
       "266          0.0                   NaN               NaN   \n",
       "267          0.0                   NaN               NaN   \n",
       "268          0.0                   NaN               NaN   \n",
       "\n",
       "     Productivité horaire  Tickets traités  Tickets clos  FTE (traitement)  \\\n",
       "264                   NaN              NaN           NaN               NaN   \n",
       "265                   NaN              NaN           NaN               NaN   \n",
       "266                   NaN              NaN           NaN               NaN   \n",
       "267                   NaN              NaN           NaN               NaN   \n",
       "268                   NaN              NaN           NaN               NaN   \n",
       "\n",
       "     FTE (présence)  FTE pondéré    Team  Presence  Presence net (min)  \\\n",
       "264             NaN          NaN  TEAM_4    123.00               123.0   \n",
       "265             NaN          NaN  TEAM_4    184.00               184.0   \n",
       "266             NaN          NaN  TEAM_4    441.00               441.0   \n",
       "267             NaN          NaN  TEAM_5      1.60               184.0   \n",
       "268             NaN          NaN  TEAM_5      3.41               441.0   \n",
       "\n",
       "     Processed (min)  Productivity hours  Closed tickets  FTE (process)  \n",
       "264              0.0                 0.0             0.0           0.00  \n",
       "265             36.0                 1.3             3.0           0.00  \n",
       "266             64.0                 1.5            11.0           0.25  \n",
       "267             36.0                 1.3             3.0           0.00  \n",
       "268             64.0                 1.5            11.0           0.25  "
      ]
     },
     "execution_count": 64,
     "metadata": {},
     "output_type": "execute_result"
    }
   ],
   "source": [
    "# diplay last rows\n",
    "df_concat.tail()"
   ]
  },
  {
   "cell_type": "code",
   "execution_count": 65,
   "metadata": {
    "id": "t_eBZayU_dfc"
   },
   "outputs": [
    {
     "name": "stdout",
     "output_type": "stream",
     "text": [
      "Column nb of DE:  15 Index(['Date', 'Name', 'Mannschaft', 'Rohe Präsenz (min)', 'Pause (Minuten)',\n",
      "       'Nettopräsenz (Min.)', 'Behandlung (min)', 'DMT', 'Productiviy',\n",
      "       'Processed tickets', 'Closed Tickets', 'FTE (processed)',\n",
      "       'FTE (presence)', 'FTE weighted', 'Country'],\n",
      "      dtype='object')\n",
      "Column nb of FR:  15 Index(['Date', 'Nom/Prénom', 'EQUIPE', 'Présence brute (min)', 'Pause (min)',\n",
      "       'Présente nette (min)', 'Traitement (min)', 'DMT',\n",
      "       'Productivité horaire', 'Tickets traités', 'Tickets clos',\n",
      "       'FTE (traitement)', 'FTE (présence)', 'FTE pondéré', 'Country'],\n",
      "      dtype='object')\n",
      "Column nb of UK:  15 Index(['Date', 'Name', 'Team', 'Presence', 'Pause (min)', 'Presence net (min)',\n",
      "       'Processed (min)', 'DMT', 'Productivity hours', 'Processed tickets',\n",
      "       'Closed tickets', 'FTE (process)', 'FTE (presence)', 'FTE weighted',\n",
      "       'Country'],\n",
      "      dtype='object')\n"
     ]
    }
   ],
   "source": [
    "# to consolidate multiple dataframes, there are 3 rules:\n",
    "# they have to have the same nb of columns (here all 3 df have 15 columns)\n",
    "# to concatenate by column names, all df have to have the same column names\n",
    "# the dfs must have same column order\n",
    "\n",
    "print(\"Column nb of DE: \", len(de.columns), de.columns)\n",
    "print(\"Column nb of FR: \", len(fr.columns), fr.columns)\n",
    "print(\"Column nb of UK: \", len(uk.columns), uk.columns)"
   ]
  },
  {
   "cell_type": "code",
   "execution_count": 66,
   "metadata": {
    "id": "ncF6rqze_dfc"
   },
   "outputs": [
    {
     "name": "stdout",
     "output_type": "stream",
     "text": [
      "Column nb of DE:  15 Index(['Date', 'Name', 'Team', 'Presence', 'Pause (min)', 'Presence net (min)',\n",
      "       'Processed (min)', 'DMT', 'Productivity hours', 'Processed tickets',\n",
      "       'Closed tickets', 'FTE (process)', 'FTE (presence)', 'FTE weighted',\n",
      "       'Country'],\n",
      "      dtype='object')\n",
      "Column nb of FR:  15 Index(['Date', 'Name', 'Team', 'Presence', 'Pause (min)', 'Presence net (min)',\n",
      "       'Processed (min)', 'DMT', 'Productivity hours', 'Processed tickets',\n",
      "       'Closed tickets', 'FTE (process)', 'FTE (presence)', 'FTE weighted',\n",
      "       'Country'],\n",
      "      dtype='object')\n",
      "Column nb of UK:  15 Index(['Date', 'Name', 'Team', 'Presence', 'Pause (min)', 'Presence net (min)',\n",
      "       'Processed (min)', 'DMT', 'Productivity hours', 'Processed tickets',\n",
      "       'Closed tickets', 'FTE (process)', 'FTE (presence)', 'FTE weighted',\n",
      "       'Country'],\n",
      "      dtype='object')\n"
     ]
    }
   ],
   "source": [
    "# rename the dfs columns o they would be identical\n",
    "# we will use english column names for all dfs\n",
    "\n",
    "columns = uk.columns\n",
    "\n",
    "fr.columns = columns\n",
    "de.columns = columns\n",
    "\n",
    "print(\"Column nb of DE: \", len(de.columns), de.columns)\n",
    "print(\"Column nb of FR: \", len(fr.columns), fr.columns)\n",
    "print(\"Column nb of UK: \", len(uk.columns), uk.columns)"
   ]
  },
  {
   "cell_type": "code",
   "execution_count": 67,
   "metadata": {
    "id": "sLHprNJd_dfd"
   },
   "outputs": [
    {
     "name": "stdout",
     "output_type": "stream",
     "text": [
      "(1209, 15)\n"
     ]
    },
    {
     "data": {
      "text/html": [
       "<div>\n",
       "<style scoped>\n",
       "    .dataframe tbody tr th:only-of-type {\n",
       "        vertical-align: middle;\n",
       "    }\n",
       "\n",
       "    .dataframe tbody tr th {\n",
       "        vertical-align: top;\n",
       "    }\n",
       "\n",
       "    .dataframe thead th {\n",
       "        text-align: right;\n",
       "    }\n",
       "</style>\n",
       "<table border=\"1\" class=\"dataframe\">\n",
       "  <thead>\n",
       "    <tr style=\"text-align: right;\">\n",
       "      <th></th>\n",
       "      <th>Date</th>\n",
       "      <th>Name</th>\n",
       "      <th>Team</th>\n",
       "      <th>Presence</th>\n",
       "      <th>Pause (min)</th>\n",
       "      <th>Presence net (min)</th>\n",
       "      <th>Processed (min)</th>\n",
       "      <th>DMT</th>\n",
       "      <th>Productivity hours</th>\n",
       "      <th>Processed tickets</th>\n",
       "      <th>Closed tickets</th>\n",
       "      <th>FTE (process)</th>\n",
       "      <th>FTE (presence)</th>\n",
       "      <th>FTE weighted</th>\n",
       "      <th>Country</th>\n",
       "    </tr>\n",
       "  </thead>\n",
       "  <tbody>\n",
       "    <tr>\n",
       "      <th>0</th>\n",
       "      <td>2022-04-12</td>\n",
       "      <td>Employee_1</td>\n",
       "      <td>TEAM_1</td>\n",
       "      <td>102.0</td>\n",
       "      <td>0.0</td>\n",
       "      <td>102</td>\n",
       "      <td>4</td>\n",
       "      <td>00:02:08</td>\n",
       "      <td>0.6</td>\n",
       "      <td>2</td>\n",
       "      <td>1</td>\n",
       "      <td>0.00</td>\n",
       "      <td>0.25</td>\n",
       "      <td>0.00</td>\n",
       "      <td>DE</td>\n",
       "    </tr>\n",
       "    <tr>\n",
       "      <th>1</th>\n",
       "      <td>2022-04-13</td>\n",
       "      <td>Employee_1</td>\n",
       "      <td>TEAM_1</td>\n",
       "      <td>299.0</td>\n",
       "      <td>0.0</td>\n",
       "      <td>299</td>\n",
       "      <td>168</td>\n",
       "      <td>00:42:00</td>\n",
       "      <td>0.4</td>\n",
       "      <td>4</td>\n",
       "      <td>2</td>\n",
       "      <td>0.50</td>\n",
       "      <td>0.75</td>\n",
       "      <td>0.50</td>\n",
       "      <td>DE</td>\n",
       "    </tr>\n",
       "    <tr>\n",
       "      <th>2</th>\n",
       "      <td>2022-04-19</td>\n",
       "      <td>Employee_1</td>\n",
       "      <td>TEAM_1</td>\n",
       "      <td>478.0</td>\n",
       "      <td>0.0</td>\n",
       "      <td>478</td>\n",
       "      <td>275</td>\n",
       "      <td>00:16:12</td>\n",
       "      <td>2.0</td>\n",
       "      <td>17</td>\n",
       "      <td>16</td>\n",
       "      <td>0.75</td>\n",
       "      <td>1.00</td>\n",
       "      <td>0.75</td>\n",
       "      <td>DE</td>\n",
       "    </tr>\n",
       "    <tr>\n",
       "      <th>3</th>\n",
       "      <td>2022-04-20</td>\n",
       "      <td>Employee_1</td>\n",
       "      <td>TEAM_1</td>\n",
       "      <td>427.0</td>\n",
       "      <td>0.0</td>\n",
       "      <td>427</td>\n",
       "      <td>142</td>\n",
       "      <td>00:12:56</td>\n",
       "      <td>1.4</td>\n",
       "      <td>11</td>\n",
       "      <td>10</td>\n",
       "      <td>0.50</td>\n",
       "      <td>1.00</td>\n",
       "      <td>0.50</td>\n",
       "      <td>DE</td>\n",
       "    </tr>\n",
       "    <tr>\n",
       "      <th>4</th>\n",
       "      <td>2022-04-21</td>\n",
       "      <td>Employee_1</td>\n",
       "      <td>TEAM_1</td>\n",
       "      <td>482.0</td>\n",
       "      <td>0.0</td>\n",
       "      <td>482</td>\n",
       "      <td>129</td>\n",
       "      <td>00:16:12</td>\n",
       "      <td>1.0</td>\n",
       "      <td>8</td>\n",
       "      <td>8</td>\n",
       "      <td>0.50</td>\n",
       "      <td>1.00</td>\n",
       "      <td>0.50</td>\n",
       "      <td>DE</td>\n",
       "    </tr>\n",
       "  </tbody>\n",
       "</table>\n",
       "</div>"
      ],
      "text/plain": [
       "        Date        Name    Team  Presence  Pause (min)  Presence net (min)  \\\n",
       "0 2022-04-12  Employee_1  TEAM_1     102.0          0.0                 102   \n",
       "1 2022-04-13  Employee_1  TEAM_1     299.0          0.0                 299   \n",
       "2 2022-04-19  Employee_1  TEAM_1     478.0          0.0                 478   \n",
       "3 2022-04-20  Employee_1  TEAM_1     427.0          0.0                 427   \n",
       "4 2022-04-21  Employee_1  TEAM_1     482.0          0.0                 482   \n",
       "\n",
       "   Processed (min)       DMT  Productivity hours  Processed tickets  \\\n",
       "0                4  00:02:08                 0.6                  2   \n",
       "1              168  00:42:00                 0.4                  4   \n",
       "2              275  00:16:12                 2.0                 17   \n",
       "3              142  00:12:56                 1.4                 11   \n",
       "4              129  00:16:12                 1.0                  8   \n",
       "\n",
       "   Closed tickets  FTE (process)  FTE (presence)  FTE weighted Country  \n",
       "0               1           0.00            0.25          0.00      DE  \n",
       "1               2           0.50            0.75          0.50      DE  \n",
       "2              16           0.75            1.00          0.75      DE  \n",
       "3              10           0.50            1.00          0.50      DE  \n",
       "4               8           0.50            1.00          0.50      DE  "
      ]
     },
     "execution_count": 67,
     "metadata": {},
     "output_type": "execute_result"
    }
   ],
   "source": [
    "# this time the concatenation of dfs is correct\n",
    "\n",
    "df_concat = pd.concat(frames)\n",
    "\n",
    "print(df_concat.shape)\n",
    "df_concat.head()"
   ]
  },
  {
   "cell_type": "code",
   "execution_count": 68,
   "metadata": {
    "id": "AY7QuVbE_dfd"
   },
   "outputs": [
    {
     "data": {
      "text/html": [
       "<div>\n",
       "<style scoped>\n",
       "    .dataframe tbody tr th:only-of-type {\n",
       "        vertical-align: middle;\n",
       "    }\n",
       "\n",
       "    .dataframe tbody tr th {\n",
       "        vertical-align: top;\n",
       "    }\n",
       "\n",
       "    .dataframe thead th {\n",
       "        text-align: right;\n",
       "    }\n",
       "</style>\n",
       "<table border=\"1\" class=\"dataframe\">\n",
       "  <thead>\n",
       "    <tr style=\"text-align: right;\">\n",
       "      <th></th>\n",
       "      <th>Date</th>\n",
       "      <th>Name</th>\n",
       "      <th>Team</th>\n",
       "      <th>Presence</th>\n",
       "      <th>Pause (min)</th>\n",
       "      <th>Presence net (min)</th>\n",
       "      <th>Processed (min)</th>\n",
       "      <th>DMT</th>\n",
       "      <th>Productivity hours</th>\n",
       "      <th>Processed tickets</th>\n",
       "      <th>Closed tickets</th>\n",
       "      <th>FTE (process)</th>\n",
       "      <th>FTE (presence)</th>\n",
       "      <th>FTE weighted</th>\n",
       "      <th>Country</th>\n",
       "    </tr>\n",
       "  </thead>\n",
       "  <tbody>\n",
       "    <tr>\n",
       "      <th>264</th>\n",
       "      <td>2022-04-14</td>\n",
       "      <td>Employee_24</td>\n",
       "      <td>TEAM_4</td>\n",
       "      <td>123.00</td>\n",
       "      <td>0.0</td>\n",
       "      <td>123</td>\n",
       "      <td>0</td>\n",
       "      <td>NaN</td>\n",
       "      <td>0.0</td>\n",
       "      <td>0</td>\n",
       "      <td>0</td>\n",
       "      <td>0.00</td>\n",
       "      <td>0.5</td>\n",
       "      <td>0.00</td>\n",
       "      <td>UK</td>\n",
       "    </tr>\n",
       "    <tr>\n",
       "      <th>265</th>\n",
       "      <td>2022-04-24</td>\n",
       "      <td>Employee_24</td>\n",
       "      <td>TEAM_4</td>\n",
       "      <td>184.00</td>\n",
       "      <td>0.0</td>\n",
       "      <td>184</td>\n",
       "      <td>36</td>\n",
       "      <td>0.008461</td>\n",
       "      <td>1.3</td>\n",
       "      <td>3</td>\n",
       "      <td>3</td>\n",
       "      <td>0.00</td>\n",
       "      <td>0.5</td>\n",
       "      <td>0.00</td>\n",
       "      <td>UK</td>\n",
       "    </tr>\n",
       "    <tr>\n",
       "      <th>266</th>\n",
       "      <td>2022-04-29</td>\n",
       "      <td>Employee_24</td>\n",
       "      <td>TEAM_4</td>\n",
       "      <td>441.00</td>\n",
       "      <td>0.0</td>\n",
       "      <td>441</td>\n",
       "      <td>64</td>\n",
       "      <td>0.003194</td>\n",
       "      <td>1.5</td>\n",
       "      <td>14</td>\n",
       "      <td>11</td>\n",
       "      <td>0.25</td>\n",
       "      <td>1.0</td>\n",
       "      <td>0.25</td>\n",
       "      <td>UK</td>\n",
       "    </tr>\n",
       "    <tr>\n",
       "      <th>267</th>\n",
       "      <td>2022-04-24</td>\n",
       "      <td>Employee_25</td>\n",
       "      <td>TEAM_5</td>\n",
       "      <td>1.60</td>\n",
       "      <td>0.0</td>\n",
       "      <td>184</td>\n",
       "      <td>36</td>\n",
       "      <td>0.008461</td>\n",
       "      <td>1.3</td>\n",
       "      <td>3</td>\n",
       "      <td>3</td>\n",
       "      <td>0.00</td>\n",
       "      <td>0.5</td>\n",
       "      <td>0.00</td>\n",
       "      <td>UK</td>\n",
       "    </tr>\n",
       "    <tr>\n",
       "      <th>268</th>\n",
       "      <td>2022-04-29</td>\n",
       "      <td>Employee_26</td>\n",
       "      <td>TEAM_5</td>\n",
       "      <td>3.41</td>\n",
       "      <td>0.0</td>\n",
       "      <td>441</td>\n",
       "      <td>64</td>\n",
       "      <td>0.003194</td>\n",
       "      <td>1.5</td>\n",
       "      <td>14</td>\n",
       "      <td>11</td>\n",
       "      <td>0.25</td>\n",
       "      <td>1.0</td>\n",
       "      <td>0.25</td>\n",
       "      <td>UK</td>\n",
       "    </tr>\n",
       "  </tbody>\n",
       "</table>\n",
       "</div>"
      ],
      "text/plain": [
       "          Date         Name    Team  Presence  Pause (min)  \\\n",
       "264 2022-04-14  Employee_24  TEAM_4    123.00          0.0   \n",
       "265 2022-04-24  Employee_24  TEAM_4    184.00          0.0   \n",
       "266 2022-04-29  Employee_24  TEAM_4    441.00          0.0   \n",
       "267 2022-04-24  Employee_25  TEAM_5      1.60          0.0   \n",
       "268 2022-04-29  Employee_26  TEAM_5      3.41          0.0   \n",
       "\n",
       "     Presence net (min)  Processed (min)       DMT  Productivity hours  \\\n",
       "264                 123                0       NaN                 0.0   \n",
       "265                 184               36  0.008461                 1.3   \n",
       "266                 441               64  0.003194                 1.5   \n",
       "267                 184               36  0.008461                 1.3   \n",
       "268                 441               64  0.003194                 1.5   \n",
       "\n",
       "     Processed tickets  Closed tickets  FTE (process)  FTE (presence)  \\\n",
       "264                  0               0           0.00             0.5   \n",
       "265                  3               3           0.00             0.5   \n",
       "266                 14              11           0.25             1.0   \n",
       "267                  3               3           0.00             0.5   \n",
       "268                 14              11           0.25             1.0   \n",
       "\n",
       "     FTE weighted Country  \n",
       "264          0.00      UK  \n",
       "265          0.00      UK  \n",
       "266          0.25      UK  \n",
       "267          0.00      UK  \n",
       "268          0.25      UK  "
      ]
     },
     "execution_count": 68,
     "metadata": {},
     "output_type": "execute_result"
    }
   ],
   "source": [
    "# last rows\n",
    "df_concat.tail()"
   ]
  },
  {
   "cell_type": "code",
   "execution_count": 69,
   "metadata": {
    "id": "_lWwQnt7_dfd"
   },
   "outputs": [
    {
     "name": "stderr",
     "output_type": "stream",
     "text": [
      "/home/e57658/.local/lib/python3.9/site-packages/xlsxwriter/workbook.py:339: UserWarning: Calling close() on already closed file.\n",
      "  warn(\"Calling close() on already closed file.\")\n"
     ]
    }
   ],
   "source": [
    "# create excel writer in the Processed_Files with the name 'Consolidation'\n",
    "writer = pd.ExcelWriter('Processed_Files/Consolidation.xlsx')\n",
    "\n",
    "# write dataframe to excel sheet named 'marks'\n",
    "df_concat.to_excel(writer, 'Consolidation')\n",
    "\n",
    "# save the excel file\n",
    "writer.save()\n",
    "writer.close()"
   ]
  },
  {
   "cell_type": "markdown",
   "metadata": {
    "id": "ktm1SmGr_dfe"
   },
   "source": [
    "# Reinitiate original folder"
   ]
  },
  {
   "cell_type": "markdown",
   "metadata": {
    "id": "-p9kawthUCMf"
   },
   "source": [
    "***!!!!!    Execute this section if you are sure you want to remove files/folders !!!!***"
   ]
  },
  {
   "cell_type": "code",
   "execution_count": 70,
   "metadata": {
    "id": "lcou2vbv_dfe"
   },
   "outputs": [
    {
     "data": {
      "text/plain": [
       "['Processed_Files',\n",
       " 'Raw_Excel_Files',\n",
       " 'UK.xlsx',\n",
       " 'HR.xlsx',\n",
       " '.ipynb_checkpoints',\n",
       " 'Files_Manipulation_Collab.ipynb',\n",
       " 'Files_Manipulation_Collab-v2.ipynb',\n",
       " 'Files_Manipulation_Collab-Sparrow.ipynb',\n",
       " 'HR_DE.xlsx',\n",
       " 'Files_Manipulation_Collab-Sparrow-v2.ipynb',\n",
       " 'Excels',\n",
       " 'FR.xlsx',\n",
       " 'HR_UK.xlsx',\n",
       " 'DE.xlsx',\n",
       " 'uk_df.xlsx']"
      ]
     },
     "execution_count": 70,
     "metadata": {},
     "output_type": "execute_result"
    }
   ],
   "source": [
    "os.listdir('.')"
   ]
  },
  {
   "cell_type": "code",
   "execution_count": 73,
   "metadata": {
    "id": "TakbtTKp_dfe"
   },
   "outputs": [],
   "source": [
    "# delete Raw_Excel_Files to reinitiate the whole folder\n",
    "\n",
    "\n",
    "shutil.rmtree('Processed_Files')\n",
    "shutil.rmtree('Raw_Excel_Files') \n",
    "\n",
    "# empty file\n",
    "#os.rmdir('Old_Files')\n",
    "\n",
    "# remove files from cwd\n",
    "os.unlink('UK.xlsx')\n",
    "os.unlink('FR.xlsx')\n",
    "os.unlink('DE.xlsx')\n",
    "os.unlink('uk_df.xlsx')\n",
    "\n"
   ]
  },
  {
   "cell_type": "code",
   "execution_count": 74,
   "metadata": {
    "id": "lsnZqD0xToBn"
   },
   "outputs": [
    {
     "data": {
      "text/plain": [
       "['HR.xlsx',\n",
       " '.ipynb_checkpoints',\n",
       " 'Files_Manipulation_Collab.ipynb',\n",
       " 'Files_Manipulation_Collab-v2.ipynb',\n",
       " 'Files_Manipulation_Collab-Sparrow.ipynb',\n",
       " 'HR_DE.xlsx',\n",
       " 'Files_Manipulation_Collab-Sparrow-v2.ipynb',\n",
       " 'Excels',\n",
       " 'HR_UK.xlsx']"
      ]
     },
     "execution_count": 74,
     "metadata": {},
     "output_type": "execute_result"
    }
   ],
   "source": [
    "os.listdir('.')"
   ]
  },
  {
   "cell_type": "code",
   "execution_count": null,
   "metadata": {},
   "outputs": [],
   "source": []
  }
 ],
 "metadata": {
  "colab": {
   "provenance": [],
   "toc_visible": true
  },
  "kernelspec": {
   "display_name": "Python 3 (ipykernel)",
   "language": "python",
   "name": "python3"
  },
  "language_info": {
   "codemirror_mode": {
    "name": "ipython",
    "version": 3
   },
   "file_extension": ".py",
   "mimetype": "text/x-python",
   "name": "python",
   "nbconvert_exporter": "python",
   "pygments_lexer": "ipython3",
   "version": "3.9.7"
  },
  "toc-autonumbering": true
 },
 "nbformat": 4,
 "nbformat_minor": 4
}
