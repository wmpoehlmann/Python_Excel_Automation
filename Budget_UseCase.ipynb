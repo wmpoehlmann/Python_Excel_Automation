{
  "cells": [
    {
      "cell_type": "markdown",
      "metadata": {
        "id": "view-in-github",
        "colab_type": "text"
      },
      "source": [
        "<a href=\"https://colab.research.google.com/github/datalover2023/Module_4/blob/main/Budget_UseCase.ipynb\" target=\"_parent\"><img src=\"https://colab.research.google.com/assets/colab-badge.svg\" alt=\"Open In Colab\"/></a>"
      ]
    },
    {
      "cell_type": "raw",
      "id": "c6838cb6",
      "metadata": {
        "id": "c6838cb6"
      },
      "source": [
        "Libraries"
      ]
    },
    {
      "cell_type": "code",
      "execution_count": null,
      "id": "75ed5e8b",
      "metadata": {
        "id": "75ed5e8b"
      },
      "outputs": [],
      "source": [
        "import pandas as pd\n",
        "import numpy as np\n",
        "\n",
        "import os\n",
        "import glob\n",
        "import shutil\n",
        "import sys\n",
        "from pathlib import Path\n",
        "\n",
        "import matplotlib.pyplot as plt\n",
        "import matplotlib.image as mpimg\n",
        "\n",
        "from openpyxl import load_workbook # necesserry library\n",
        "\n",
        "# utility functions for cells locations\n",
        "# !pip install xlsxwriter  # uncomment if necessary\n",
        "import xlsxwriter\n",
        "from xlsxwriter.utility import xl_rowcol_to_cell\n",
        "from xlsxwriter.utility import xl_col_to_name\n",
        "from xlsxwriter.utility import xl_range, xl_range_abs\n",
        "from openpyxl.utils import get_column_letter, column_index_from_string\n"
      ]
    },
    {
      "cell_type": "code",
      "execution_count": null,
      "id": "bb9706df",
      "metadata": {
        "id": "bb9706df"
      },
      "outputs": [],
      "source": [
        "# set visible all columns\n",
        "pd.set_option('display.max_columns', None)"
      ]
    },
    {
      "cell_type": "markdown",
      "source": [
        "# Settings"
      ],
      "metadata": {
        "id": "wEeggyEvpjcu"
      },
      "id": "wEeggyEvpjcu"
    },
    {
      "cell_type": "markdown",
      "source": [
        "## Drive and cwd"
      ],
      "metadata": {
        "id": "P2N66YgSpeRi"
      },
      "id": "P2N66YgSpeRi"
    },
    {
      "cell_type": "code",
      "source": [
        "# Accessing Google Drive from Google Colab\n",
        "\n",
        "from google.colab import drive \n",
        "drive.mount('/content/gdrive')"
      ],
      "metadata": {
        "id": "C6pEMfEUpYgk"
      },
      "id": "C6pEMfEUpYgk",
      "execution_count": null,
      "outputs": []
    },
    {
      "cell_type": "code",
      "execution_count": null,
      "id": "a66cc482",
      "metadata": {
        "id": "a66cc482",
        "outputId": "4ae12139-fd6a-4920-c8fc-5ca45d004753",
        "colab": {
          "base_uri": "https://localhost:8080/",
          "height": 36
        }
      },
      "outputs": [
        {
          "output_type": "execute_result",
          "data": {
            "text/plain": [
              "'/content'"
            ],
            "application/vnd.google.colaboratory.intrinsic+json": {
              "type": "string"
            }
          },
          "metadata": {},
          "execution_count": 4
        }
      ],
      "source": [
        "# assing current working directory (`cwd`)\n",
        "cwd = os.getcwd()\n",
        "cwd"
      ]
    },
    {
      "cell_type": "code",
      "execution_count": null,
      "id": "fa051a39",
      "metadata": {
        "id": "fa051a39",
        "outputId": "9ee2bc2a-6783-456e-8d17-0cc605e16042",
        "colab": {
          "base_uri": "https://localhost:8080/"
        }
      },
      "outputs": [
        {
          "output_type": "execute_result",
          "data": {
            "text/plain": [
              "['.config', 'sample_data']"
            ]
          },
          "metadata": {},
          "execution_count": 7
        }
      ],
      "source": [
        "# containing of /content directory\n",
        "os.listdir()"
      ]
    },
    {
      "cell_type": "markdown",
      "source": [
        "## Import Files"
      ],
      "metadata": {
        "id": "So7LYJgEpw5U"
      },
      "id": "So7LYJgEpw5U"
    },
    {
      "cell_type": "code",
      "source": [
        "# import files\n",
        "\n",
        "# import files into google Colab\n",
        "from google.colab import files"
      ],
      "metadata": {
        "id": "HbStdxO2ptoC"
      },
      "id": "HbStdxO2ptoC",
      "execution_count": null,
      "outputs": []
    },
    {
      "cell_type": "code",
      "source": [
        "# upload from your local : images .png from your downloads\n",
        "uploaded = files.upload()"
      ],
      "metadata": {
        "id": "GeQfoaIWp1KM"
      },
      "id": "GeQfoaIWp1KM",
      "execution_count": null,
      "outputs": []
    },
    {
      "cell_type": "code",
      "source": [
        "# containing of /content directory, see if images were uploaded\n",
        "os.listdir()"
      ],
      "metadata": {
        "id": "xKavUInFp4y1"
      },
      "id": "xKavUInFp4y1",
      "execution_count": null,
      "outputs": []
    },
    {
      "cell_type": "markdown",
      "source": [
        "## Module_4 folder"
      ],
      "metadata": {
        "id": "Yr6x9tRSp_xU"
      },
      "id": "Yr6x9tRSp_xU"
    },
    {
      "cell_type": "code",
      "source": [
        "# uncoment if you want to reinitilize Module_4\n",
        "\n",
        "# delete folder Model_3 with all containing\n",
        "# shutil.rmtree('/content/gdrive/MyDrive/Module_4')"
      ],
      "metadata": {
        "id": "pexycv2JqCAc"
      },
      "id": "pexycv2JqCAc",
      "execution_count": null,
      "outputs": []
    },
    {
      "cell_type": "code",
      "source": [
        "# create a floder Module_4 where you'll store files\n",
        "\n",
        "# create a new folder called \"Module_4\"\n",
        "\n",
        "# First: \n",
        "# write the path to the \"Module_4\" sub_directory\n",
        "folder = cwd + '/' + 'gdrive/MyDrive/Module_4/images' # == > /content/gdrive/MyDrive/Module_3/images\n",
        "print(folder)\n",
        "\n",
        "# Second:\n",
        "# create the folder at the indicated path\n",
        "os.makedirs(folder) # create an empty folder"
      ],
      "metadata": {
        "id": "jMiWI-gMqEdf"
      },
      "id": "jMiWI-gMqEdf",
      "execution_count": null,
      "outputs": []
    },
    {
      "cell_type": "code",
      "source": [
        "# check files in Module_4 directory\n",
        "os.listdir('/content/gdrive/MyDrive/Module_4')"
      ],
      "metadata": {
        "id": "XYKCVNowqEgZ"
      },
      "id": "XYKCVNowqEgZ",
      "execution_count": null,
      "outputs": []
    },
    {
      "cell_type": "code",
      "source": [
        "# containing of folder images\n",
        "os.listdir('/content/gdrive/MyDrive/Module_3/images')"
      ],
      "metadata": {
        "id": "fNzHU6p0qEj7"
      },
      "id": "fNzHU6p0qEj7",
      "execution_count": null,
      "outputs": []
    },
    {
      "cell_type": "code",
      "source": [
        "# select all .png and move them to folder Module_3/Images\n",
        "\n",
        "# searchin for all files with extention .png\n",
        "# and store the into a list png_files\n",
        "\n",
        "png_files=[]\n",
        "for file in os.listdir():\n",
        "    if file.endswith('.PNG'): # or '.csv' if your'looinkg for csv files\n",
        "            png_files.append(file)\n",
        "            \n",
        "# it will print out excel names present in current directory folder = 'Basics_Python\"\n",
        "print( 'there are', len(png_files), \"png files \")\n",
        "print(png_files[:4])"
      ],
      "metadata": {
        "id": "FaBCTmGRqTtE"
      },
      "id": "FaBCTmGRqTtE",
      "execution_count": null,
      "outputs": []
    },
    {
      "cell_type": "code",
      "source": [
        "# move all images into folder MOdule_4/Images\n",
        "\n",
        "folder = '/content/gdrive/MyDrive/Module_4/images'\n",
        "\n",
        "for image in png_files:\n",
        "  shutil.move(image, # file/folder to cut\n",
        "              folder) # folder where to move "
      ],
      "metadata": {
        "id": "6BvQiRFsqYuz"
      },
      "id": "6BvQiRFsqYuz",
      "execution_count": null,
      "outputs": []
    },
    {
      "cell_type": "code",
      "source": [
        "# checl if images were moved from cwd\n",
        "os.listdir()"
      ],
      "metadata": {
        "id": "HNcrKwLrqYxp"
      },
      "id": "HNcrKwLrqYxp",
      "execution_count": null,
      "outputs": []
    },
    {
      "cell_type": "code",
      "source": [
        "# check files in Module_4\n",
        "os.listdir('gdrive/MyDrive/Module_4')"
      ],
      "metadata": {
        "id": "pc2DL7GkqY0k"
      },
      "id": "pc2DL7GkqY0k",
      "execution_count": null,
      "outputs": []
    },
    {
      "cell_type": "code",
      "source": [
        "# check files present in Module_3/Images, all the images were transfered to Module_3/images\n",
        "os.listdir('/content/gdrive/MyDrive/Module_4/images')"
      ],
      "metadata": {
        "id": "-gfH2wp5q4Dl"
      },
      "id": "-gfH2wp5q4Dl",
      "execution_count": null,
      "outputs": []
    },
    {
      "cell_type": "code",
      "source": [
        "# change cwd to Module_4\n",
        "os.chdir('gdrive/MyDrive/Module_4')\n",
        "# check the new current working directory now\n",
        "cwd = os.getcwd()\n",
        "cwd # folder MOdule_3 will be from now on our cwd"
      ],
      "metadata": {
        "id": "VM_8_tN_q7Ub"
      },
      "id": "VM_8_tN_q7Ub",
      "execution_count": null,
      "outputs": []
    },
    {
      "cell_type": "code",
      "source": [
        "# upload from your local : 'Budget_raw.xlsx'\n",
        "uploaded = files.upload()"
      ],
      "metadata": {
        "id": "Ehitv-IOrAfr"
      },
      "id": "Ehitv-IOrAfr",
      "execution_count": null,
      "outputs": []
    },
    {
      "cell_type": "code",
      "source": [
        "# check if Groceries.xlsx is on cwd ==> Module_3\n",
        "os.listdir()"
      ],
      "metadata": {
        "id": "nSXj3cOHrAxn"
      },
      "id": "nSXj3cOHrAxn",
      "execution_count": null,
      "outputs": []
    },
    {
      "cell_type": "code",
      "source": [
        "# check the notebook in your Colab Notebooks\n",
        "\n",
        "os.listdir('/content/gdrive/MyDrive/Colab Notebooks')"
      ],
      "metadata": {
        "id": "5Cg1Algsq7Xo"
      },
      "id": "5Cg1Algsq7Xo",
      "execution_count": null,
      "outputs": []
    },
    {
      "cell_type": "code",
      "source": [
        "# copy notebook \"Excel_processing_Basics_Colab_Module_3\" in your cwd MOdule_3\n",
        "\n",
        "# copy all images into folder MOdule_3/Images\n",
        "\n",
        "folder = '/content/gdrive/MyDrive/Module_4' # path to were to move\n",
        "notebook = '/content/gdrive/MyDrive/Colab Notebooks/Excel_processing_Basics_Colab_Module_3_backup_v2.ipynb' # path from the where to get the notebook\n",
        "\n",
        "# copy (or move) from google colab to module_3, if you like to move ==> .move\n",
        "shutil.copy(notebook, # file/folder to cut/copy\n",
        "            folder) # folder where to move"
      ],
      "metadata": {
        "id": "OdtpC7mtrJ6d"
      },
      "id": "OdtpC7mtrJ6d",
      "execution_count": null,
      "outputs": []
    },
    {
      "cell_type": "markdown",
      "id": "ff90bf43-6195-411c-a519-4464e3f1e354",
      "metadata": {
        "id": "ff90bf43-6195-411c-a519-4464e3f1e354"
      },
      "source": [
        "# DF, read Excel"
      ]
    },
    {
      "cell_type": "code",
      "execution_count": null,
      "id": "47818957",
      "metadata": {
        "id": "47818957",
        "outputId": "a69eb368-e6aa-48f6-932d-9c15ce16de6c"
      },
      "outputs": [
        {
          "name": "stdout",
          "output_type": "stream",
          "text": [
            "df dimensions:  (1937, 15)\n",
            "df lengh:  1937\n",
            "df columns:  Index(['Business', 'Department', 'Region', 'Jan Income', 'Feb Income',\n",
            "       'Mar Income', 'Apr Income', 'May Income', 'Jun Income',\n",
            "       'Jan Expenditure', 'Feb Expenditure', 'Mar Expenditure',\n",
            "       'Apr Expenditure', 'May Expenditure', 'Jun Expenditure'],\n",
            "      dtype='object')\n"
          ]
        },
        {
          "data": {
            "text/html": [
              "<div>\n",
              "<style scoped>\n",
              "    .dataframe tbody tr th:only-of-type {\n",
              "        vertical-align: middle;\n",
              "    }\n",
              "\n",
              "    .dataframe tbody tr th {\n",
              "        vertical-align: top;\n",
              "    }\n",
              "\n",
              "    .dataframe thead th {\n",
              "        text-align: right;\n",
              "    }\n",
              "</style>\n",
              "<table border=\"1\" class=\"dataframe\">\n",
              "  <thead>\n",
              "    <tr style=\"text-align: right;\">\n",
              "      <th></th>\n",
              "      <th>Business</th>\n",
              "      <th>Department</th>\n",
              "      <th>Region</th>\n",
              "      <th>Jan Income</th>\n",
              "      <th>Feb Income</th>\n",
              "      <th>Mar Income</th>\n",
              "      <th>Apr Income</th>\n",
              "      <th>May Income</th>\n",
              "      <th>Jun Income</th>\n",
              "      <th>Jan Expenditure</th>\n",
              "      <th>Feb Expenditure</th>\n",
              "      <th>Mar Expenditure</th>\n",
              "      <th>Apr Expenditure</th>\n",
              "      <th>May Expenditure</th>\n",
              "      <th>Jun Expenditure</th>\n",
              "    </tr>\n",
              "  </thead>\n",
              "  <tbody>\n",
              "    <tr>\n",
              "      <th>0</th>\n",
              "      <td>B2C_1</td>\n",
              "      <td>Loans</td>\n",
              "      <td>AT</td>\n",
              "      <td>5924.95</td>\n",
              "      <td>4680.71</td>\n",
              "      <td>7406.19</td>\n",
              "      <td>7169.19</td>\n",
              "      <td>7406.19</td>\n",
              "      <td>5213.96</td>\n",
              "      <td>5178.13</td>\n",
              "      <td>3883.60</td>\n",
              "      <td>3534.08</td>\n",
              "      <td>4240.90</td>\n",
              "      <td>3731.99</td>\n",
              "      <td>4217.15</td>\n",
              "    </tr>\n",
              "    <tr>\n",
              "      <th>1</th>\n",
              "      <td>B2C_1</td>\n",
              "      <td>Loans</td>\n",
              "      <td>AT</td>\n",
              "      <td>5924.95</td>\n",
              "      <td>7346.94</td>\n",
              "      <td>6872.94</td>\n",
              "      <td>4739.96</td>\n",
              "      <td>6280.45</td>\n",
              "      <td>6576.69</td>\n",
              "      <td>3913.87</td>\n",
              "      <td>3835.59</td>\n",
              "      <td>4410.93</td>\n",
              "      <td>4058.06</td>\n",
              "      <td>4220.38</td>\n",
              "      <td>5064.46</td>\n",
              "    </tr>\n",
              "    <tr>\n",
              "      <th>2</th>\n",
              "      <td>B2C_1</td>\n",
              "      <td>Loans</td>\n",
              "      <td>AT</td>\n",
              "      <td>5924.95</td>\n",
              "      <td>7406.19</td>\n",
              "      <td>6043.45</td>\n",
              "      <td>6161.95</td>\n",
              "      <td>6161.95</td>\n",
              "      <td>5924.95</td>\n",
              "      <td>4386.71</td>\n",
              "      <td>3377.77</td>\n",
              "      <td>3411.55</td>\n",
              "      <td>3206.86</td>\n",
              "      <td>3399.27</td>\n",
              "      <td>3229.31</td>\n",
              "    </tr>\n",
              "    <tr>\n",
              "      <th>3</th>\n",
              "      <td>B2C_1</td>\n",
              "      <td>Services</td>\n",
              "      <td>AT</td>\n",
              "      <td>5924.95</td>\n",
              "      <td>5865.70</td>\n",
              "      <td>7406.19</td>\n",
              "      <td>4858.46</td>\n",
              "      <td>5984.20</td>\n",
              "      <td>7169.19</td>\n",
              "      <td>4840.73</td>\n",
              "      <td>4743.92</td>\n",
              "      <td>5692.70</td>\n",
              "      <td>5123.43</td>\n",
              "      <td>4867.26</td>\n",
              "      <td>5500.00</td>\n",
              "    </tr>\n",
              "    <tr>\n",
              "      <th>4</th>\n",
              "      <td>B2C_1</td>\n",
              "      <td>Loans</td>\n",
              "      <td>AT</td>\n",
              "      <td>5924.95</td>\n",
              "      <td>6280.45</td>\n",
              "      <td>6102.70</td>\n",
              "      <td>6339.70</td>\n",
              "      <td>5865.70</td>\n",
              "      <td>6458.20</td>\n",
              "      <td>5875.00</td>\n",
              "      <td>5698.75</td>\n",
              "      <td>5983.69</td>\n",
              "      <td>6701.73</td>\n",
              "      <td>7505.94</td>\n",
              "      <td>8481.71</td>\n",
              "    </tr>\n",
              "    <tr>\n",
              "      <th>5</th>\n",
              "      <td>B2C_1</td>\n",
              "      <td>Loans</td>\n",
              "      <td>AT</td>\n",
              "      <td>5867.90</td>\n",
              "      <td>7334.88</td>\n",
              "      <td>6102.62</td>\n",
              "      <td>4987.72</td>\n",
              "      <td>6043.94</td>\n",
              "      <td>6396.01</td>\n",
              "      <td>2229.34</td>\n",
              "      <td>2162.46</td>\n",
              "      <td>2551.70</td>\n",
              "      <td>2908.94</td>\n",
              "      <td>3112.57</td>\n",
              "      <td>3237.07</td>\n",
              "    </tr>\n",
              "    <tr>\n",
              "      <th>6</th>\n",
              "      <td>B2C_1</td>\n",
              "      <td>Loans</td>\n",
              "      <td>AT</td>\n",
              "      <td>5824.70</td>\n",
              "      <td>6814.90</td>\n",
              "      <td>6989.64</td>\n",
              "      <td>4543.27</td>\n",
              "      <td>6465.42</td>\n",
              "      <td>5649.96</td>\n",
              "      <td>2199.00</td>\n",
              "      <td>1737.21</td>\n",
              "      <td>2015.16</td>\n",
              "      <td>2115.92</td>\n",
              "      <td>1883.17</td>\n",
              "      <td>1977.33</td>\n",
              "    </tr>\n",
              "    <tr>\n",
              "      <th>7</th>\n",
              "      <td>B2C_1</td>\n",
              "      <td>Loans</td>\n",
              "      <td>AT</td>\n",
              "      <td>5924.95</td>\n",
              "      <td>5391.70</td>\n",
              "      <td>4976.96</td>\n",
              "      <td>7346.94</td>\n",
              "      <td>6102.70</td>\n",
              "      <td>5806.45</td>\n",
              "      <td>3924.12</td>\n",
              "      <td>3767.16</td>\n",
              "      <td>4068.53</td>\n",
              "      <td>3987.16</td>\n",
              "      <td>4505.49</td>\n",
              "      <td>3964.83</td>\n",
              "    </tr>\n",
              "  </tbody>\n",
              "</table>\n",
              "</div>"
            ],
            "text/plain": [
              "  Business Department Region  Jan Income  Feb Income  Mar Income  Apr Income  \\\n",
              "0    B2C_1      Loans     AT     5924.95     4680.71     7406.19     7169.19   \n",
              "1    B2C_1      Loans     AT     5924.95     7346.94     6872.94     4739.96   \n",
              "2    B2C_1      Loans     AT     5924.95     7406.19     6043.45     6161.95   \n",
              "3    B2C_1   Services     AT     5924.95     5865.70     7406.19     4858.46   \n",
              "4    B2C_1      Loans     AT     5924.95     6280.45     6102.70     6339.70   \n",
              "5    B2C_1      Loans     AT     5867.90     7334.88     6102.62     4987.72   \n",
              "6    B2C_1      Loans     AT     5824.70     6814.90     6989.64     4543.27   \n",
              "7    B2C_1      Loans     AT     5924.95     5391.70     4976.96     7346.94   \n",
              "\n",
              "   May Income  Jun Income  Jan Expenditure  Feb Expenditure  Mar Expenditure  \\\n",
              "0     7406.19     5213.96          5178.13          3883.60          3534.08   \n",
              "1     6280.45     6576.69          3913.87          3835.59          4410.93   \n",
              "2     6161.95     5924.95          4386.71          3377.77          3411.55   \n",
              "3     5984.20     7169.19          4840.73          4743.92          5692.70   \n",
              "4     5865.70     6458.20          5875.00          5698.75          5983.69   \n",
              "5     6043.94     6396.01          2229.34          2162.46          2551.70   \n",
              "6     6465.42     5649.96          2199.00          1737.21          2015.16   \n",
              "7     6102.70     5806.45          3924.12          3767.16          4068.53   \n",
              "\n",
              "   Apr Expenditure  May Expenditure  Jun Expenditure  \n",
              "0          4240.90          3731.99          4217.15  \n",
              "1          4058.06          4220.38          5064.46  \n",
              "2          3206.86          3399.27          3229.31  \n",
              "3          5123.43          4867.26          5500.00  \n",
              "4          6701.73          7505.94          8481.71  \n",
              "5          2908.94          3112.57          3237.07  \n",
              "6          2115.92          1883.17          1977.33  \n",
              "7          3987.16          4505.49          3964.83  "
            ]
          },
          "execution_count": 5,
          "metadata": {},
          "output_type": "execute_result"
        }
      ],
      "source": [
        "# read excel and put it in a dataframe\n",
        "\n",
        "filename='Budget_raw.xlsx'\n",
        "df = pd.read_excel(filename, index_col=None, header=0)\n",
        "df = pd.DataFrame(df)\n",
        "# df = df.set_index(['Region', 'Business', 'Department'])\n",
        "\n",
        "print('df dimensions: ', df.shape)\n",
        "print('df lengh: ', len(df))\n",
        "print('df columns: ', df.columns)\n",
        "# display first 8 rows\n",
        "df.head(8)"
      ]
    },
    {
      "cell_type": "code",
      "execution_count": null,
      "id": "98b14cbc",
      "metadata": {
        "id": "98b14cbc",
        "outputId": "ffb9598a-6c17-4495-9412-3f827ee5d69e"
      },
      "outputs": [
        {
          "name": "stdout",
          "output_type": "stream",
          "text": [
            "<class 'pandas.core.frame.DataFrame'>\n",
            "RangeIndex: 1937 entries, 0 to 1936\n",
            "Data columns (total 15 columns):\n",
            " #   Column           Non-Null Count  Dtype  \n",
            "---  ------           --------------  -----  \n",
            " 0   Business         1937 non-null   object \n",
            " 1   Department       1937 non-null   object \n",
            " 2   Region           1937 non-null   object \n",
            " 3   Jan Income       1937 non-null   float64\n",
            " 4   Feb Income       1937 non-null   float64\n",
            " 5   Mar Income       1937 non-null   float64\n",
            " 6   Apr Income       1937 non-null   float64\n",
            " 7   May Income       1937 non-null   float64\n",
            " 8   Jun Income       1937 non-null   float64\n",
            " 9   Jan Expenditure  1937 non-null   float64\n",
            " 10  Feb Expenditure  1937 non-null   float64\n",
            " 11  Mar Expenditure  1937 non-null   float64\n",
            " 12  Apr Expenditure  1937 non-null   float64\n",
            " 13  May Expenditure  1937 non-null   float64\n",
            " 14  Jun Expenditure  1937 non-null   float64\n",
            "dtypes: float64(12), object(3)\n",
            "memory usage: 227.1+ KB\n"
          ]
        }
      ],
      "source": [
        "# check data dypes for each column\n",
        "df.info()"
      ]
    },
    {
      "cell_type": "markdown",
      "id": "eeee9a1d-f96b-428f-b053-d3bb993d46cd",
      "metadata": {
        "id": "eeee9a1d-f96b-428f-b053-d3bb993d46cd"
      },
      "source": [
        "# Excel workbook"
      ]
    },
    {
      "cell_type": "code",
      "execution_count": null,
      "id": "b864f82b",
      "metadata": {
        "id": "b864f82b"
      },
      "outputs": [],
      "source": [
        "# load a specific spreadsheet\n",
        "# be carefull, the excel file should be closed on your computer in order to access it\n",
        "\n",
        "# load Budget_raw.xlsx workbook\n",
        "filename = 'Budget_raw.xlsx'\n",
        "wb = load_workbook(filename= filename, #relative path\n",
        "                   #read_only=True, # optimised for reading, content cannot be edited\n",
        "                   data_only =True) # controls whether cells with formulae have either the formula (default) or the value stored the last time Excel read the sheet"
      ]
    },
    {
      "cell_type": "code",
      "execution_count": null,
      "id": "76200526",
      "metadata": {
        "id": "76200526"
      },
      "outputs": [],
      "source": [
        "# get sheetnames of the workbook\n",
        "wb.sheetnames"
      ]
    },
    {
      "cell_type": "raw",
      "id": "5c4ee9a7-a527-40df-a7c5-fbd8783d0f52",
      "metadata": {
        "id": "5c4ee9a7-a527-40df-a7c5-fbd8783d0f52"
      },
      "source": [
        "Metadata"
      ]
    },
    {
      "cell_type": "code",
      "execution_count": null,
      "id": "625867b7-dc01-4c50-aaf1-355ba56235f5",
      "metadata": {
        "id": "625867b7-dc01-4c50-aaf1-355ba56235f5"
      },
      "outputs": [],
      "source": [
        "# Metadata\n",
        "wb.properties"
      ]
    },
    {
      "cell_type": "code",
      "execution_count": null,
      "id": "6989f6fc-5b0f-4c4d-aa6e-4769d3ee310b",
      "metadata": {
        "id": "6989f6fc-5b0f-4c4d-aa6e-4769d3ee310b"
      },
      "outputs": [],
      "source": [
        "# add some metadata\n",
        "\n",
        "wb.properties.title  = 'Budget_Processed Excel Automation'\n",
        "wb.properties.creator  = 'Cristina Teleuca'\n",
        "wb.properties.description  = 'Excel Manipulation with Python openpyxl' \n",
        "wb.properties.keywords  = ['Excel', 'Automation', 'Python', 'openpyxl']\n",
        "\n",
        "wb.properties"
      ]
    },
    {
      "cell_type": "raw",
      "id": "3c80fd15-8bd1-4133-a993-0b7cb6cacd19",
      "metadata": {
        "id": "3c80fd15-8bd1-4133-a993-0b7cb6cacd19"
      },
      "source": [
        "Worksheet"
      ]
    },
    {
      "cell_type": "code",
      "execution_count": null,
      "id": "7eaa5af7",
      "metadata": {
        "id": "7eaa5af7"
      },
      "outputs": [],
      "source": [
        "# assign sheet for sheetname 'Data' the sheet we'll work with\n",
        "sheet = wb['Data']\n",
        "sheet.title"
      ]
    },
    {
      "cell_type": "code",
      "execution_count": null,
      "id": "2d0a9c82",
      "metadata": {
        "id": "2d0a9c82"
      },
      "outputs": [],
      "source": [
        "# get nb of rows of a sheet\n",
        "print(sheet.max_row)\n",
        "\n",
        "# get nb of columns of a sheet\n",
        "print(sheet.max_column)"
      ]
    },
    {
      "cell_type": "code",
      "execution_count": null,
      "id": "65ba7731",
      "metadata": {
        "id": "65ba7731"
      },
      "outputs": [],
      "source": [
        "# save the workbook into another excel \"Budget_processed.xlsx\" \n",
        "wb.save('Budget_processed.xlsx')\n",
        "# check if the new excel file was created\n",
        "os.listdir()"
      ]
    },
    {
      "cell_type": "markdown",
      "id": "8f1997df",
      "metadata": {
        "id": "8f1997df"
      },
      "source": [
        "# Excel exploration with openpyxl"
      ]
    },
    {
      "cell_type": "code",
      "execution_count": null,
      "id": "851dd70a",
      "metadata": {
        "id": "851dd70a"
      },
      "outputs": [],
      "source": [
        "# compute the range of the whole dataframe \n",
        "max_row, max_col = df.shape\n",
        "print('df shape: ', max_row, max_col) #df.shape method start at o indexing\n",
        "\n",
        "df_range = xl_range(0, # starting row\n",
        "                    0, # starting column\n",
        "                    max_row, # last row index\n",
        "                    max_col - 1) # last column -1 as the index starts a 0\n",
        "print('in excel the df cellrange is : ', df_range)"
      ]
    },
    {
      "cell_type": "code",
      "execution_count": null,
      "id": "ddf52aa7",
      "metadata": {
        "id": "ddf52aa7"
      },
      "outputs": [],
      "source": [
        "# Access all cells from A1 to 05\n",
        "for idx, row in enumerate(sheet['A1:O5']):\n",
        "    print(idx+1, [x.value for x in row])"
      ]
    },
    {
      "cell_type": "code",
      "execution_count": null,
      "id": "966ceb25",
      "metadata": {
        "id": "966ceb25"
      },
      "outputs": [],
      "source": [
        "# start indices\n",
        "start_point = xl_rowcol_to_cell(0,0) # coordinates of top lef of df\n",
        "start_col = xl_col_to_name(0)# # get the column letter for first column\n",
        "print(\"start point:\", start_point,     \n",
        "      \"start col:\", start_col)"
      ]
    },
    {
      "cell_type": "code",
      "execution_count": null,
      "id": "19cc3305",
      "metadata": {
        "id": "19cc3305"
      },
      "outputs": [],
      "source": [
        "# end indices\n",
        "end_point = xl_rowcol_to_cell(max_row, max_col-1) # # coordinates of bottom right of df\n",
        "end_col = xl_col_to_name(max_col-1) # get the column letter for the last column\n",
        "end_row = max_row + 1 # last row in excel (+1)\n",
        "print(\"end point:\", end_point, \n",
        "      \"end_row:\", end_row,      \n",
        "      \"end col:\", end_col)"
      ]
    },
    {
      "cell_type": "code",
      "execution_count": null,
      "id": "a5a9ae9f",
      "metadata": {
        "id": "a5a9ae9f"
      },
      "outputs": [],
      "source": [
        "# get the index nb of column O\n",
        "column_index_from_string('O')"
      ]
    },
    {
      "cell_type": "code",
      "execution_count": null,
      "id": "5be43be4",
      "metadata": {
        "id": "5be43be4"
      },
      "outputs": [],
      "source": [
        "# reverse\n",
        "get_column_letter(15)"
      ]
    },
    {
      "cell_type": "code",
      "execution_count": null,
      "id": "f67b0236",
      "metadata": {
        "id": "f67b0236"
      },
      "outputs": [],
      "source": [
        "# read all values from 1st row\n",
        "print('nb of rows: ' , sheet.max_row)\n",
        "print('nb of columns: ' , sheet.max_column)\n",
        "\n",
        "# iterate the 1 row values of the sheet\n",
        "for i in range(1, sheet.max_column+1): # add + 1, as the range function 2nd argument is not inclusive\n",
        "    ref = sheet.cell(row=1, column=i)\n",
        "    print(ref.column, ref.value)"
      ]
    },
    {
      "cell_type": "code",
      "execution_count": null,
      "id": "3d81869c",
      "metadata": {
        "tags": [],
        "id": "3d81869c"
      },
      "outputs": [],
      "source": [
        "# iterate the 1 Column values of the sheet of the sheet up tp 10th row\n",
        "for i in range(1, 10 + 1): # add + 1, as the range function 2nd argument is not inclusive\n",
        "    ref = sheet.cell(row=i, column=1)\n",
        "    print(ref.column, ref.value)"
      ]
    },
    {
      "cell_type": "code",
      "execution_count": null,
      "id": "66fb383a-8d1a-43a8-81a5-672146c3b386",
      "metadata": {
        "id": "66fb383a-8d1a-43a8-81a5-672146c3b386"
      },
      "outputs": [],
      "source": [
        "# iterate the 2nd Column values of the sheet of the sheet up tp 10th row\n",
        "for i in range(1, 10 + 1): # add + 1, as the range function 2nd argument is not inclusive\n",
        "    ref = sheet.cell(row=i, column=2)\n",
        "    print(ref.column, ref.value)"
      ]
    },
    {
      "cell_type": "code",
      "execution_count": null,
      "id": "5f2aaae6-85ec-435c-b132-f91636d5850a",
      "metadata": {
        "id": "5f2aaae6-85ec-435c-b132-f91636d5850a"
      },
      "outputs": [],
      "source": [
        "# iterate the last_column values of the sheet up tp 10th row\n",
        "last_column = sheet.max_column\n",
        "\n",
        "for i in range(1, 10 + 1): # add + 1, as the range function 2nd argument is not inclusive\n",
        "    ref = sheet.cell(row=i, column=last_column)\n",
        "    print(ref.column, ref.value)"
      ]
    },
    {
      "cell_type": "markdown",
      "id": "911b1a4b",
      "metadata": {
        "id": "911b1a4b"
      },
      "source": [
        "# Add columns"
      ]
    },
    {
      "cell_type": "markdown",
      "id": "3c3b0557",
      "metadata": {
        "id": "3c3b0557"
      },
      "source": [
        "## Income "
      ]
    },
    {
      "cell_type": "markdown",
      "id": "6a0b3c33",
      "metadata": {
        "id": "6a0b3c33"
      },
      "source": [
        "Total Income"
      ]
    },
    {
      "cell_type": "raw",
      "id": "f9843a0b-5c73-4362-b965-961e529b6166",
      "metadata": {
        "id": "f9843a0b-5c73-4362-b965-961e529b6166"
      },
      "source": [
        "We want to add a column that will sum up all income columns from Jan to June\n",
        "# 1. Identify columns that have the string Income in it\n",
        "# 2. Sum up Income columns row by row\n",
        "# 3. order columns"
      ]
    },
    {
      "cell_type": "code",
      "execution_count": null,
      "id": "08478a84",
      "metadata": {
        "id": "08478a84"
      },
      "outputs": [],
      "source": [
        "# how to find a substring in a string\n",
        "\n",
        "fullstring = \"StackAbuse\"\n",
        "substring = \"tack\"\n",
        "\n",
        "if substring in fullstring:\n",
        "    print(\"Found!\")\n",
        "else:\n",
        "    print(\"Not found!\")"
      ]
    },
    {
      "cell_type": "code",
      "execution_count": null,
      "id": "a78652a1",
      "metadata": {
        "id": "a78652a1"
      },
      "outputs": [],
      "source": [
        "# 1. Identify columns that have the string Income in it\n",
        "\n",
        "## create an empty lis where we'll store column names that heve the string \"Income\" in it\n",
        "income_col=[]\n",
        "## iterate through column indices\n",
        "for col in range(0, len(df.columns)):\n",
        "    if 'Income' in df.columns[col]: #  identify column index for column with Income\n",
        "        income_col.append(col) # if column is identify store its index in the income_col list\n",
        "\n",
        "print(income_col) # the list with column indices that have Income in columns\n",
        "\n",
        "# assign variables with the start column index and the end column index\n",
        "income_start= income_col[0]\n",
        "income_end= income_col[-1]\n",
        "print(income_start, income_end)"
      ]
    },
    {
      "cell_type": "code",
      "execution_count": null,
      "id": "6e85f173",
      "metadata": {
        "id": "6e85f173"
      },
      "outputs": [],
      "source": [
        "# check those columns at found indices \n",
        "df.iloc[:, income_start:income_end+1] # equal to df.iloc[all rows, from col 3 to col 9]"
      ]
    },
    {
      "cell_type": "code",
      "execution_count": null,
      "id": "e7a54401",
      "metadata": {
        "id": "e7a54401"
      },
      "outputs": [],
      "source": [
        "# 2.compute the total income and assign it in a new column in the df\n",
        "# and add a new column 'Total Income' that will store the some of columns\n",
        "\n",
        "df['Total Income'] = df.iloc[:, income_start:income_end].sum(axis=1) # axis=1 is  the column axis\n",
        "df.head() #the column was added at the the end"
      ]
    },
    {
      "cell_type": "code",
      "execution_count": null,
      "id": "2b0c6a19-a425-431f-b612-67594e9cf19b",
      "metadata": {
        "id": "2b0c6a19-a425-431f-b612-67594e9cf19b"
      },
      "outputs": [],
      "source": [
        "income_end"
      ]
    },
    {
      "cell_type": "code",
      "execution_count": null,
      "id": "687a6abf",
      "metadata": {
        "id": "687a6abf"
      },
      "outputs": [],
      "source": [
        "# order: we want to order columns so Total Income would follof the Income columns\n",
        "# cut and insert the column after all Income months columns\n",
        "\n",
        "df.insert(income_end + 1, # at what index to insesrt\n",
        "          'Total Income', # Label of the inserted column.\n",
        "          df.pop('Total Income')) # Return item and drop from frame\n",
        "df.head()"
      ]
    },
    {
      "cell_type": "raw",
      "id": "0a9723dc-f0e9-4f82-a9c5-bce05271dadd",
      "metadata": {
        "id": "0a9723dc-f0e9-4f82-a9c5-bce05271dadd"
      },
      "source": [
        "Let's have look where Income stands in the excel"
      ]
    },
    {
      "cell_type": "code",
      "execution_count": null,
      "id": "73e87268",
      "metadata": {
        "id": "73e87268"
      },
      "outputs": [],
      "source": [
        "# find column number of column Jan Income in Excel\n",
        "for i in range(1, sheet.max_column+1):# without + 1\n",
        "    ref = sheet.cell(row=1, column=i)\n",
        "    if ref.value == 'Jan Income':\n",
        "        print('in EXCEL the column nb for Jan Income is: ', ref.column)"
      ]
    },
    {
      "cell_type": "code",
      "execution_count": null,
      "id": "89722399",
      "metadata": {
        "id": "89722399"
      },
      "outputs": [],
      "source": [
        "# find column number that have Income months\n",
        "\n",
        "income_col = []\n",
        "for i in range(1, sheet.max_column+1):# without + 1\n",
        "    ref = sheet.cell(row=1, column=i)\n",
        "    if 'Income' in ref.value:\n",
        "        income_col.append(ref.column)\n",
        "\n",
        "print(income_col)"
      ]
    },
    {
      "cell_type": "code",
      "execution_count": null,
      "id": "3e4452c4",
      "metadata": {
        "id": "3e4452c4"
      },
      "outputs": [],
      "source": [
        "income_start= income_col[0] - 1\n",
        "print(income_start)\n",
        "income_end= income_col[-1] -1 \n",
        "print(income_end)\n",
        "print('')\n",
        "\n",
        "# find the letters corespondin to this columns\n",
        "print('income starts at column: ', xl_col_to_name(income_start),\n",
        "      'income end at column: ', xl_col_to_name(income_end))"
      ]
    },
    {
      "cell_type": "code",
      "execution_count": null,
      "id": "b08f561c-094d-4a92-9586-2a3c411697fb",
      "metadata": {
        "id": "b08f561c-094d-4a92-9586-2a3c411697fb"
      },
      "outputs": [],
      "source": [
        "income_col"
      ]
    },
    {
      "cell_type": "code",
      "execution_count": null,
      "id": "6ab6fdc3",
      "metadata": {
        "id": "6ab6fdc3"
      },
      "outputs": [],
      "source": [
        "# compute where to copy/past the total for expenditure\n",
        "total_inc_col = income_col[-1] + 1\n",
        "# we would like to insert the column Total Income at column 10\n",
        "print(total_inc_col)"
      ]
    },
    {
      "cell_type": "code",
      "execution_count": null,
      "id": "be86bd65",
      "metadata": {
        "id": "be86bd65"
      },
      "outputs": [],
      "source": [
        "# insert columns\n",
        "sheet.insert_cols(idx= total_inc_col, # column location\n",
        "                  amount=1) # how many columns to insert\n",
        "\n",
        "\n",
        "wb.save('Budget_processed.xlsx') "
      ]
    },
    {
      "cell_type": "code",
      "execution_count": null,
      "id": "75523c8c-63c4-40f3-8ea1-c5f5933cfa05",
      "metadata": {
        "id": "75523c8c-63c4-40f3-8ea1-c5f5933cfa05"
      },
      "outputs": [],
      "source": [
        "# in updated excel, we inserted an empty column (after June Income)\n",
        "\n",
        "for idx, row in enumerate(sheet['A1:L5']):\n",
        "    print(idx+1, [x.value for x in row])                               \n"
      ]
    },
    {
      "cell_type": "code",
      "execution_count": null,
      "id": "9dba5b92",
      "metadata": {
        "id": "9dba5b92"
      },
      "outputs": [],
      "source": [
        "# save the column 'Total Income' from df computed with pandas in list cellrange\n",
        "\n",
        "cellrange = df['Total Income']\n",
        "\n",
        "# the column index (in excel) where we want to write\n",
        "print(total_inc_col)\n",
        "\n",
        "# starting row 2\n",
        "row= 2\n",
        "\n",
        "# copy the elements from cellrange in excel\n",
        "for i in range(0, len(cellrange)):\n",
        "    sheet.cell(row=row, column = total_inc_col).value= cellrange[i]\n",
        "    row=row+1\n",
        "\n",
        "# save the modifications\n",
        "wb.save('Budget_processed.xlsx') "
      ]
    },
    {
      "cell_type": "code",
      "execution_count": null,
      "id": "5676bb52-09d2-4b77-8391-c35f1d9e0f4c",
      "metadata": {
        "id": "5676bb52-09d2-4b77-8391-c35f1d9e0f4c"
      },
      "outputs": [],
      "source": [
        "print(total_inc_col)\n",
        "# in updated excel, we wrote the cellrange datas in the column 10\n",
        "\n",
        "for idx, row in enumerate(sheet['A1:L5']):\n",
        "    print(idx+1, [x.value for x in row]) "
      ]
    },
    {
      "cell_type": "code",
      "execution_count": null,
      "id": "db229de0",
      "metadata": {
        "id": "db229de0"
      },
      "outputs": [],
      "source": [
        "# write column name for Total expenditure as a header\n",
        "# compute this location...\n",
        "total_inc_col_letter = get_column_letter(total_inc_col)\n",
        "total_inc_row = 1\n",
        "total_inc_cel_ref = str(total_inc_col_letter) + str(total_inc_row)\n",
        "total_inc_cel_ref"
      ]
    },
    {
      "cell_type": "code",
      "execution_count": null,
      "id": "e8fc0a1e",
      "metadata": {
        "id": "e8fc0a1e"
      },
      "outputs": [],
      "source": [
        "# write it in excel \n",
        "sheet[total_inc_cel_ref]= 'Total Income'\n",
        "wb.save('Budget_processed.xlsx') \n",
        "\n",
        "for idx, row in enumerate(sheet['A1:L3']):\n",
        "    print(idx+1, [x.value for x in row])"
      ]
    },
    {
      "cell_type": "code",
      "execution_count": null,
      "id": "06836c32-7039-43e7-99dd-e3269b06f9a7",
      "metadata": {
        "id": "06836c32-7039-43e7-99dd-e3269b06f9a7"
      },
      "outputs": [],
      "source": [
        "# display image\n",
        "img = mpimg.imread('images/img_1.PNG')\n",
        "plt.imshow(img)\n",
        "plt.rcParams['figure.figsize'] = [12, 10]\n",
        "plt.axis('off')\n",
        "plt.show()"
      ]
    },
    {
      "cell_type": "markdown",
      "id": "85bdf63a",
      "metadata": {
        "id": "85bdf63a"
      },
      "source": [
        "## Expenditure "
      ]
    },
    {
      "cell_type": "markdown",
      "id": "abce2e1d",
      "metadata": {
        "id": "abce2e1d"
      },
      "source": [
        "Total Expenditure"
      ]
    },
    {
      "cell_type": "code",
      "execution_count": null,
      "id": "18a96bc5",
      "metadata": {
        "id": "18a96bc5"
      },
      "outputs": [],
      "source": [
        "# first compute total income for all months in df\n",
        "\n",
        "# identify column index for column with Income\n",
        "expenditure_col=[]\n",
        "for col in range(0, len(df.columns)):\n",
        "    if 'Expenditure' in df.columns[col]:\n",
        "        expenditure_col.append(col)\n",
        "\n",
        "print(expenditure_col)\n",
        "\n",
        "expenditure_start= expenditure_col[0]\n",
        "expenditure_end= expenditure_col[-1]"
      ]
    },
    {
      "cell_type": "code",
      "execution_count": null,
      "id": "b18d7544",
      "metadata": {
        "id": "b18d7544"
      },
      "outputs": [],
      "source": [
        "#check those columns at found indices \n",
        "df.iloc[:, expenditure_start:expenditure_end+1]"
      ]
    },
    {
      "cell_type": "code",
      "execution_count": null,
      "id": "3c270f39",
      "metadata": {
        "id": "3c270f39"
      },
      "outputs": [],
      "source": [
        "# compute the total income and assign it in a new column in the df\n",
        "df['Total Expenditure'] = df.iloc[:, expenditure_start:expenditure_end].sum(axis=1)\n",
        "df.head() #the column was added at the the end"
      ]
    },
    {
      "cell_type": "code",
      "execution_count": null,
      "id": "e2b83cb2",
      "metadata": {
        "id": "e2b83cb2"
      },
      "outputs": [],
      "source": [
        "# find column number of column Jan Income\n",
        "for i in range(1, sheet.max_column+1):# without + 1\n",
        "    ref = sheet.cell(row=1, column=i)\n",
        "    if ref.value == 'Jan Expenditure':\n",
        "        print('the column nb for Jan Expenditure is: ', ref.column)"
      ]
    },
    {
      "cell_type": "code",
      "execution_count": null,
      "id": "05a12e00",
      "metadata": {
        "id": "05a12e00"
      },
      "outputs": [],
      "source": [
        "# find column number that have Income months\n",
        "\n",
        "expenditure_col = []\n",
        "for i in range(1, sheet.max_column+1):# without + 1\n",
        "    ref = sheet.cell(row=1, column=i)\n",
        "    if 'Expenditure' in ref.value:\n",
        "        expenditure_col.append(ref.column)\n",
        "\n",
        "print(expenditure_col)"
      ]
    },
    {
      "cell_type": "code",
      "execution_count": null,
      "id": "2eb0ee26",
      "metadata": {
        "id": "2eb0ee26"
      },
      "outputs": [],
      "source": [
        "expenditure_start= expenditure_col[0] - 1\n",
        "expenditure_end= expenditure_col[-1] -1 \n",
        "\n",
        "print('expenditure starts at column: ', xl_col_to_name(expenditure_start),\n",
        "      'expenditure end at column: ', xl_col_to_name(expenditure_end))"
      ]
    },
    {
      "cell_type": "code",
      "execution_count": null,
      "id": "93d255ba-462b-4428-ad1f-c31950de0632",
      "metadata": {
        "id": "93d255ba-462b-4428-ad1f-c31950de0632"
      },
      "outputs": [],
      "source": [
        "# display image\n",
        "img = mpimg.imread('images/img_1.PNG')\n",
        "plt.imshow(img)\n",
        "plt.rcParams['figure.figsize'] = [12, 10]\n",
        "plt.axis('off')\n",
        "plt.show()"
      ]
    },
    {
      "cell_type": "code",
      "execution_count": null,
      "id": "c122492c",
      "metadata": {
        "id": "c122492c"
      },
      "outputs": [],
      "source": [
        "# compute where to copy/past the total for expenditure\n",
        "total_exp_col = expenditure_col[-1] + 1\n",
        "total_exp_col"
      ]
    },
    {
      "cell_type": "code",
      "execution_count": null,
      "id": "3c4219df",
      "metadata": {
        "id": "3c4219df"
      },
      "outputs": [],
      "source": [
        "cellrange = df['Total Expenditure']\n",
        "row= 2\n",
        "for i in range(0, len(cellrange)):\n",
        "    sheet.cell(row=row, column = total_exp_col).value= cellrange[i]\n",
        "    row=row+1\n",
        "\n",
        "wb.save('Budget_processed.xlsx') "
      ]
    },
    {
      "cell_type": "code",
      "execution_count": null,
      "id": "f4c19256",
      "metadata": {
        "id": "f4c19256"
      },
      "outputs": [],
      "source": [
        "# write column name for Total expenditure\n",
        "total_exp_col_letter = get_column_letter(total_exp_col)\n",
        "total_exp_row = 1\n",
        "total_exp_cel_ref = str(total_exp_col_letter) + str(total_exp_row)\n",
        "total_exp_cel_ref"
      ]
    },
    {
      "cell_type": "code",
      "execution_count": null,
      "id": "edca15a8",
      "metadata": {
        "id": "edca15a8"
      },
      "outputs": [],
      "source": [
        "sheet[total_exp_cel_ref]= 'Total Expenditure'\n",
        "wb.save('Budget_processed.xlsx') "
      ]
    },
    {
      "cell_type": "code",
      "execution_count": null,
      "id": "7c37f3b8-06d6-47ea-b683-5b75051df474",
      "metadata": {
        "id": "7c37f3b8-06d6-47ea-b683-5b75051df474"
      },
      "outputs": [],
      "source": [
        "for idx, row in enumerate(sheet['H1:Q5']):\n",
        "    print(idx+1, [x.value for x in row])"
      ]
    },
    {
      "cell_type": "code",
      "execution_count": null,
      "id": "b81214a3-5c44-4376-99f6-a59cf052703b",
      "metadata": {
        "id": "b81214a3-5c44-4376-99f6-a59cf052703b"
      },
      "outputs": [],
      "source": [
        "# display image\n",
        "img = mpimg.imread('images/img_2.PNG')\n",
        "plt.imshow(img)\n",
        "plt.rcParams['figure.figsize'] = [12, 10]\n",
        "plt.axis('off')\n",
        "plt.show()"
      ]
    },
    {
      "cell_type": "markdown",
      "id": "010fa791",
      "metadata": {
        "id": "010fa791"
      },
      "source": [
        "# Net"
      ]
    },
    {
      "cell_type": "raw",
      "id": "68d44752-da76-4da9-b443-d336e9ff2fc5",
      "metadata": {
        "id": "68d44752-da76-4da9-b443-d336e9ff2fc5"
      },
      "source": [
        "We would like to add a new column \"Net\" at the end of the columns\n",
        "that would soubstract Total Exp from Total Exp"
      ]
    },
    {
      "cell_type": "code",
      "execution_count": null,
      "id": "f493ad31",
      "metadata": {
        "id": "f493ad31"
      },
      "outputs": [],
      "source": [
        "df.head()"
      ]
    },
    {
      "cell_type": "code",
      "execution_count": null,
      "id": "faf08ecf",
      "metadata": {
        "id": "faf08ecf"
      },
      "outputs": [],
      "source": [
        "# compute Net column in df\n",
        "df['Net']= df['Total Income'] - df['Total Expenditure']\n",
        "df.head()"
      ]
    },
    {
      "cell_type": "code",
      "execution_count": null,
      "id": "32dea0d1",
      "metadata": {
        "id": "32dea0d1"
      },
      "outputs": [],
      "source": [
        "# take values for column Net from df\n",
        "# and put them into a list cellrange\n",
        "\n",
        "cellrange = list(df['Net'])\n",
        "cellrange[:10]"
      ]
    },
    {
      "cell_type": "code",
      "execution_count": null,
      "id": "2e7921e2",
      "metadata": {
        "id": "2e7921e2"
      },
      "outputs": [],
      "source": [
        "# insert 'Net' iat index 0 (1st position)\n",
        "cellrange.insert(0, 'Net')\n",
        "cellrange[:10]"
      ]
    },
    {
      "cell_type": "code",
      "execution_count": null,
      "id": "bfa7b667",
      "metadata": {
        "id": "bfa7b667"
      },
      "outputs": [],
      "source": [
        "# column where to paste Net column\n",
        "net_col = df.shape[1]\n",
        "print(net_col)"
      ]
    },
    {
      "cell_type": "code",
      "execution_count": null,
      "id": "1a36ba44",
      "metadata": {
        "id": "1a36ba44"
      },
      "outputs": [],
      "source": [
        "print(net_col)\n",
        "\n",
        "# from row 1\n",
        "row= 1\n",
        "# write  cellrange in excel at column net_col\n",
        "\n",
        "for i in range(0, len(cellrange)):\n",
        "    sheet.cell(row=row, column = net_col).value= cellrange[i]\n",
        "    row=row+1\n",
        "\n",
        "# save\n",
        "wb.save('Budget_processed.xlsx') "
      ]
    },
    {
      "cell_type": "code",
      "execution_count": null,
      "id": "72d77075-cb8b-456b-9a39-ce381f4ae1fa",
      "metadata": {
        "id": "72d77075-cb8b-456b-9a39-ce381f4ae1fa"
      },
      "outputs": [],
      "source": [
        "# display image\n",
        "img = mpimg.imread('images/img_3.PNG')\n",
        "plt.imshow(img)\n",
        "plt.rcParams['figure.figsize'] = [12, 10]\n",
        "plt.axis('off')\n",
        "plt.show()"
      ]
    },
    {
      "cell_type": "code",
      "execution_count": null,
      "id": "ad52de6e-2ca0-4726-ada6-6bc8b1674279",
      "metadata": {
        "id": "ad52de6e-2ca0-4726-ada6-6bc8b1674279"
      },
      "outputs": [],
      "source": [
        "'''\n",
        "writer.save()\n",
        "workbook.close()\n",
        "\n",
        "'''"
      ]
    },
    {
      "cell_type": "markdown",
      "id": "c8cf4628",
      "metadata": {
        "id": "c8cf4628"
      },
      "source": [
        "# Overview"
      ]
    },
    {
      "cell_type": "raw",
      "id": "b10a0074-faa1-45b8-b798-dc717d762a77",
      "metadata": {
        "id": "b10a0074-faa1-45b8-b798-dc717d762a77"
      },
      "source": [
        "Now we'd like to work on the overview part"
      ]
    },
    {
      "cell_type": "code",
      "execution_count": null,
      "id": "6d13e061-8cbd-4721-9c13-3c5137380116",
      "metadata": {
        "id": "6d13e061-8cbd-4721-9c13-3c5137380116"
      },
      "outputs": [],
      "source": [
        "# overview part\n",
        "img = mpimg.imread('images/img_4.PNG')\n",
        "plt.imshow(img)\n",
        "plt.rcParams['figure.figsize'] = [12, 10]\n",
        "plt.axis('off')\n",
        "plt.show()"
      ]
    },
    {
      "cell_type": "raw",
      "id": "e87febd9-2d41-4d17-9efb-6355856623cc",
      "metadata": {
        "id": "e87febd9-2d41-4d17-9efb-6355856623cc"
      },
      "source": [
        "First, we'll create a new sheet \"OVerview\" where we'll work on Overview part data"
      ]
    },
    {
      "cell_type": "code",
      "execution_count": null,
      "id": "0de6cb42",
      "metadata": {
        "id": "0de6cb42"
      },
      "outputs": [],
      "source": [
        "# create sheet 'Overview'\n",
        "wb.create_sheet(title='Overview')\n",
        "\n",
        "overview= wb['Overview'] # create reference to the sheet# delete a sheet\n",
        "\n",
        "# check the workbook sheet\n",
        "print(wb.sheetnames)\n",
        "\n",
        "# save the new workbook \n",
        "wb.save('Budget_processed.xlsx')"
      ]
    },
    {
      "cell_type": "markdown",
      "id": "33276476",
      "metadata": {
        "id": "33276476"
      },
      "source": [
        "## Income & Expenditure names & Months "
      ]
    },
    {
      "cell_type": "raw",
      "id": "56705758",
      "metadata": {
        "id": "56705758"
      },
      "source": [
        "Months"
      ]
    },
    {
      "cell_type": "raw",
      "id": "40711ea1-0723-40ff-9c88-06622cf3b9c0",
      "metadata": {
        "id": "40711ea1-0723-40ff-9c88-06622cf3b9c0"
      },
      "source": [
        "Get all the months present in the excel"
      ]
    },
    {
      "cell_type": "code",
      "execution_count": null,
      "id": "cab44d0a",
      "metadata": {
        "id": "cab44d0a"
      },
      "outputs": [],
      "source": [
        "# identify column index for column with Income\n",
        "months=[]\n",
        "for month in df.columns:\n",
        "    if 'Income' in month:\n",
        "        months.append(month)\n",
        "print(months)"
      ]
    },
    {
      "cell_type": "raw",
      "id": "59843fcb-af65-4fc4-a4c9-ebd84e101d61",
      "metadata": {
        "id": "59843fcb-af65-4fc4-a4c9-ebd84e101d61"
      },
      "source": [
        "# remove 'Total Income' from the list\n",
        "months.remove('Total Income')\n",
        "months"
      ]
    },
    {
      "cell_type": "code",
      "execution_count": null,
      "id": "8e640e56",
      "metadata": {
        "id": "8e640e56"
      },
      "outputs": [],
      "source": [
        "# remove the substring ' Income' from the list items\n",
        "\n",
        "months = list(map(lambda x: x.replace(' Income',''), months))\n",
        "print('nb of months: ', len(months))\n",
        "\n",
        "# save in variable nb_months the nb of monthe\n",
        "nb_months = len(months)\n",
        "\n",
        "print('')\n",
        "print('will have the same months for INcome, and Expenditure as well')\n",
        "months\n"
      ]
    },
    {
      "cell_type": "raw",
      "id": "7473df3d",
      "metadata": {
        "id": "7473df3d"
      },
      "source": [
        "Income"
      ]
    },
    {
      "cell_type": "code",
      "execution_count": null,
      "id": "468fc843",
      "metadata": {
        "id": "468fc843"
      },
      "outputs": [],
      "source": [
        "# create a list where the string \"INCOME\" will be repeated 7 times\n",
        "# we multiply ['INCOME'] by the length of months (here 7) \n",
        "\n",
        "list_income= ['INCOME']* (nb_months)\n",
        "list_income"
      ]
    },
    {
      "cell_type": "code",
      "execution_count": null,
      "id": "d4d19d27",
      "metadata": {
        "id": "d4d19d27"
      },
      "outputs": [],
      "source": [
        "# we'll do a nested list \"list_inc_2\" that will contain both lists:\n",
        "# list_income AND months\n",
        "\n",
        "list_inc_2 = [list_income, months]\n",
        "print(list_inc_2)"
      ]
    },
    {
      "cell_type": "code",
      "execution_count": null,
      "id": "81ca5ae7-764d-479b-b993-bdae0fba7157",
      "metadata": {
        "id": "81ca5ae7-764d-479b-b993-bdae0fba7157"
      },
      "outputs": [],
      "source": []
    },
    {
      "cell_type": "raw",
      "id": "05890735",
      "metadata": {
        "id": "05890735"
      },
      "source": [
        "Expenditure"
      ]
    },
    {
      "cell_type": "raw",
      "id": "b767f2ae-9a22-46d6-baea-b4410123c6ba",
      "metadata": {
        "id": "b767f2ae-9a22-46d6-baea-b4410123c6ba"
      },
      "source": [
        "Let's do the same for Expenditure.."
      ]
    },
    {
      "cell_type": "code",
      "execution_count": null,
      "id": "af1e057e",
      "metadata": {
        "id": "af1e057e"
      },
      "outputs": [],
      "source": [
        "list_expenditure= ['Expenditure']*(nb_months)\n",
        "list_exp_2 = [list_expenditure, months]\n",
        "print(list_exp_2)"
      ]
    },
    {
      "cell_type": "raw",
      "id": "4f3174df-3bd1-489e-bc62-60214e3b74f2",
      "metadata": {
        "id": "4f3174df-3bd1-489e-bc62-60214e3b74f2"
      },
      "source": [
        "zip() function"
      ]
    },
    {
      "cell_type": "raw",
      "id": "fcdd1897-4341-4be6-a5cb-abf6e86bfcf4",
      "metadata": {
        "id": "fcdd1897-4341-4be6-a5cb-abf6e86bfcf4"
      },
      "source": [
        "The zip() function takes iterables (can be zero or more), aggregates them in a tuple, and returns it. (it's like combining items from both lists)"
      ]
    },
    {
      "cell_type": "code",
      "execution_count": null,
      "id": "cb75c72e-3b45-4934-afcd-8d08e247a81e",
      "metadata": {
        "id": "cb75c72e-3b45-4934-afcd-8d08e247a81e"
      },
      "outputs": [],
      "source": [
        "languages = ['Java', 'Python']\n",
        "versions = [14, 3]\n",
        "\n",
        "result = zip(languages, versions)\n",
        "print(list(result))"
      ]
    },
    {
      "cell_type": "code",
      "execution_count": null,
      "id": "475ce104-cdf3-4fbf-85c5-0a2981209002",
      "metadata": {
        "id": "475ce104-cdf3-4fbf-85c5-0a2981209002"
      },
      "outputs": [],
      "source": [
        "list(zip(list_inc_2, list_exp_2))"
      ]
    },
    {
      "cell_type": "code",
      "execution_count": null,
      "id": "9331ae22",
      "metadata": {
        "id": "9331ae22"
      },
      "outputs": [],
      "source": [
        "# let's do the same with list_inc_2, list_exp_2\n",
        "# but will modify a little bit, so in final we'll have lists and not tuples\n",
        "# and also we will flatten/ merge to obtain a single list by tuple\n",
        "# finally we will obtain a nested list inc_exp\n",
        "\n",
        "inc_exp = [a + b for a, b in zip(list_inc_2, list_exp_2)]\n",
        "inc_exp"
      ]
    },
    {
      "cell_type": "raw",
      "id": "0da40b58",
      "metadata": {
        "id": "0da40b58"
      },
      "source": [
        "Add the Inc, Exp names rows and months rows to overview"
      ]
    },
    {
      "cell_type": "code",
      "execution_count": null,
      "id": "acc9b244",
      "metadata": {
        "id": "acc9b244"
      },
      "outputs": [],
      "source": [
        "# compute dimensions of the nested list\n",
        "\n",
        "print(inc_exp)\n",
        "# how many itmes in nested list\n",
        "maxr = len(inc_exp)\n",
        "\n",
        "# how many subitmes in nested list\n",
        "maxc = len(inc_exp[0])\n",
        "\n",
        "print('')\n",
        "print(maxr , maxc)"
      ]
    },
    {
      "cell_type": "code",
      "execution_count": null,
      "id": "282a22fa",
      "metadata": {
        "id": "282a22fa"
      },
      "outputs": [],
      "source": [
        "# copy to excel\n",
        "for this_row in range (1, maxr + 1):\n",
        "    for this_column in range (1, maxc + 1):\n",
        "        #print(this_row)\n",
        "       # print(this_column)\n",
        "        cellsource = inc_exp[this_row-1][this_column-1]        \n",
        "        overview.cell(row = this_row+1, column = this_column+1).value = cellsource \n",
        "        # !!!! (should be 10)\n",
        "\n",
        "# see what was written\n",
        "for idx,row in enumerate(overview[\"A1:O3\"]):\n",
        "    print (idx+1, [x.value for x in row])"
      ]
    },
    {
      "cell_type": "code",
      "execution_count": null,
      "id": "fc20ce97-0988-47d0-ad37-36bf4189f723",
      "metadata": {
        "id": "fc20ce97-0988-47d0-ad37-36bf4189f723"
      },
      "outputs": [],
      "source": [
        "# we have added first to rows  of the Overview part\n",
        "# row nb 2, col B\n",
        "\n",
        "img = mpimg.imread('images/img_5.PNG')\n",
        "plt.imshow(img)\n",
        "plt.rcParams['figure.figsize'] = [12, 10]\n",
        "plt.axis('off')\n",
        "plt.show()"
      ]
    },
    {
      "cell_type": "code",
      "execution_count": null,
      "id": "d9524503",
      "metadata": {
        "id": "d9524503"
      },
      "outputs": [],
      "source": [
        "# save the new workbook \n",
        "wb.save('Budget_processed.xlsx')"
      ]
    },
    {
      "cell_type": "markdown",
      "id": "76bae854",
      "metadata": {
        "id": "76bae854"
      },
      "source": [
        "## Monthly totals by business"
      ]
    },
    {
      "cell_type": "code",
      "execution_count": null,
      "id": "ff180f61-6a31-4c04-95a3-b945f71bdce5",
      "metadata": {
        "id": "ff180f61-6a31-4c04-95a3-b945f71bdce5"
      },
      "outputs": [],
      "source": [
        "# compute... :\n",
        "\n",
        "# Groupby by Business category (yellow part)\n",
        "# Monthly Total (red part)\n",
        "# monthly evolution (blue part)\n",
        "\n",
        "\n"
      ]
    },
    {
      "cell_type": "code",
      "execution_count": null,
      "id": "1041bbb6-c5ee-4c91-a97b-bf4b32bd4f04",
      "metadata": {
        "id": "1041bbb6-c5ee-4c91-a97b-bf4b32bd4f04"
      },
      "outputs": [],
      "source": [
        "# total by busines type, split afterwards by INCOME and EXP\n",
        "\n",
        "img = mpimg.imread('images/img_6.PNG')\n",
        "plt.imshow(img)\n",
        "plt.rcParams['figure.figsize'] = [12, 10]\n",
        "plt.axis('off')\n",
        "plt.show()"
      ]
    },
    {
      "cell_type": "raw",
      "id": "2f5707a5-f715-4f11-b346-61294a664e4d",
      "metadata": {
        "id": "2f5707a5-f715-4f11-b346-61294a664e4d"
      },
      "source": [
        "Total by busines"
      ]
    },
    {
      "cell_type": "raw",
      "id": "8e7b870b-d479-4206-8b76-8e982909b99b",
      "metadata": {
        "id": "8e7b870b-d479-4206-8b76-8e982909b99b"
      },
      "source": [
        "Income"
      ]
    },
    {
      "cell_type": "code",
      "execution_count": null,
      "id": "fc1b74c5",
      "metadata": {
        "id": "fc1b74c5"
      },
      "outputs": [],
      "source": [
        "# identify column index for column with Income\n",
        "income_months=[]\n",
        "for month in df.columns:\n",
        "    if 'Income' in month:\n",
        "        income_months.append(month)\n",
        "        \n",
        "# remove 'Total Income' from the list\n",
        "income_months.remove('Total Income')\n",
        "print(income_months)"
      ]
    },
    {
      "cell_type": "code",
      "execution_count": null,
      "id": "b3a776c0",
      "metadata": {
        "id": "b3a776c0"
      },
      "outputs": [],
      "source": [
        "# comute totals by business group for income\n",
        "\n",
        "# first create a df= business_income where it will group by business for each month\n",
        "business_income = round(df.groupby(['Business'])[income_months].sum(), 2)\n",
        "business_income"
      ]
    },
    {
      "cell_type": "code",
      "execution_count": null,
      "id": "5fbbb8ee-5c4e-49b3-b956-30537652e585",
      "metadata": {
        "id": "5fbbb8ee-5c4e-49b3-b956-30537652e585"
      },
      "outputs": [],
      "source": [
        "# add a columns where total for all months for income will be comutes\n",
        "business_income['Total Income'] = round(business_income.sum(axis=1), 2)\n",
        "business_income"
      ]
    },
    {
      "cell_type": "raw",
      "id": "2824b8b0-b05c-4c30-813d-9ced2b0459f9",
      "metadata": {
        "id": "2824b8b0-b05c-4c30-813d-9ced2b0459f9"
      },
      "source": [
        "Expenditure"
      ]
    },
    {
      "cell_type": "code",
      "execution_count": null,
      "id": "d5874e3e",
      "metadata": {
        "id": "d5874e3e"
      },
      "outputs": [],
      "source": [
        "# identify column index for column with Income\n",
        "exp_months=[]\n",
        "for month in df.columns:\n",
        "    if 'Expenditure' in month:\n",
        "        exp_months.append(month)\n",
        "        \n",
        "# remove 'Total Income' from the list\n",
        "exp_months.remove('Total Expenditure')\n",
        "print(exp_months)"
      ]
    },
    {
      "cell_type": "code",
      "execution_count": null,
      "id": "2e2a1fd4",
      "metadata": {
        "id": "2e2a1fd4"
      },
      "outputs": [],
      "source": [
        "business_exp = round(df.groupby(['Business'])[exp_months].sum(), 2)\n",
        "business_exp['Total Expenditure'] = round(business_exp.sum(axis=1), 2)\n",
        "business_exp"
      ]
    },
    {
      "cell_type": "code",
      "execution_count": null,
      "id": "fe8459a3",
      "metadata": {
        "id": "fe8459a3"
      },
      "outputs": [],
      "source": [
        "# join the 2 df horizontally\n",
        "business_df = pd.concat([business_income, business_exp], axis=1)\n",
        "business_df"
      ]
    },
    {
      "cell_type": "code",
      "execution_count": null,
      "id": "bf3c6c95-1c09-4dd3-9ee7-23cd1a1f732d",
      "metadata": {
        "id": "bf3c6c95-1c09-4dd3-9ee7-23cd1a1f732d"
      },
      "outputs": [],
      "source": [
        "# we groupby by busines (the yellow part)\n",
        "# review scrrenshot !!!!\n",
        "img = mpimg.imread('images/img_6.PNG')\n",
        "plt.imshow(img)\n",
        "plt.rcParams['figure.figsize'] = [12, 10]\n",
        "plt.axis('off')\n",
        "plt.show()"
      ]
    },
    {
      "cell_type": "raw",
      "id": "5779ecbb-c205-41d7-b027-9c09ae3fccfe",
      "metadata": {
        "id": "5779ecbb-c205-41d7-b027-9c09ae3fccfe"
      },
      "source": [
        "Get the totals by columns of business_df"
      ]
    },
    {
      "cell_type": "code",
      "execution_count": null,
      "id": "7db9e434",
      "metadata": {
        "id": "7db9e434"
      },
      "outputs": [],
      "source": [
        "business_col = business_df.columns.to_list()\n",
        "#business_col.remove('Total Income')\n",
        "#business_col.remove('Total Expenditure')\n",
        "business_col"
      ]
    },
    {
      "cell_type": "code",
      "execution_count": null,
      "id": "981e0d32",
      "metadata": {
        "id": "981e0d32"
      },
      "outputs": [],
      "source": [
        "# get Total by Month (in column)\n",
        "\n",
        "monthly_total = round(business_df[business_col].sum(), 2)\n",
        "print(len(monthly_total))\n",
        "monthly_total"
      ]
    },
    {
      "cell_type": "code",
      "execution_count": null,
      "id": "a2d23538-badf-43d0-b495-07cd29bbb6bd",
      "metadata": {
        "id": "a2d23538-badf-43d0-b495-07cd29bbb6bd"
      },
      "outputs": [],
      "source": [
        "# total by columns for business_df (the red part)\n",
        "# review screenshot !!!\n",
        "\n",
        "img = mpimg.imread('images/img_6.PNG')\n",
        "plt.imshow(img)\n",
        "plt.rcParams['figure.figsize'] = [12, 10]\n",
        "plt.axis('off')\n",
        "plt.show()"
      ]
    },
    {
      "cell_type": "code",
      "execution_count": null,
      "id": "0fedf849",
      "metadata": {
        "id": "0fedf849"
      },
      "outputs": [],
      "source": [
        "ev = round(monthly_total.pct_change(), 5)\n",
        "ev['Total Income'] = None\n",
        "ev['Jan Expenditure'] = None\n",
        "ev['Total Expenditure'] = None\n",
        "ev"
      ]
    },
    {
      "cell_type": "code",
      "execution_count": null,
      "id": "c4b619e4-e1a2-443a-ae78-8e12eecd1f89",
      "metadata": {
        "id": "c4b619e4-e1a2-443a-ae78-8e12eecd1f89"
      },
      "outputs": [],
      "source": [
        "# evolution from month to month, that afterwords will be formated as a %\n",
        "# the blue part\n",
        "\n",
        "# review screenshot !!!\n",
        "img = mpimg.imread('images/img_6.PNG')\n",
        "plt.imshow(img)\n",
        "plt.rcParams['figure.figsize'] = [12, 10]\n",
        "plt.axis('off')\n",
        "plt.show()"
      ]
    },
    {
      "cell_type": "code",
      "execution_count": null,
      "id": "f1aba2a1-28ce-454d-9bf9-f8373f0d1bbb",
      "metadata": {
        "id": "f1aba2a1-28ce-454d-9bf9-f8373f0d1bbb"
      },
      "outputs": [],
      "source": [
        "# Till now we computed:\n",
        "\n",
        "# business_df\n",
        "print(business_df.shape, business_df.iloc[:, :5])\n",
        "print('')\n",
        "\n",
        "# monthly_total\n",
        "print(len(monthly_total), monthly_total[:5])\n",
        "print('')\n",
        "\n",
        "# monthly evolution\n",
        "print(len(ev), ev[:5])"
      ]
    },
    {
      "cell_type": "raw",
      "id": "c67e6be8-f5fb-4021-abd6-c5bb41722b81",
      "metadata": {
        "id": "c67e6be8-f5fb-4021-abd6-c5bb41722b81"
      },
      "source": [
        "We would like to write them all in our excel, sheet overview"
      ]
    },
    {
      "cell_type": "code",
      "execution_count": null,
      "id": "89df2900-6a7b-4aa1-ae19-bdc4c1701a83",
      "metadata": {
        "id": "89df2900-6a7b-4aa1-ae19-bdc4c1701a83"
      },
      "outputs": [],
      "source": [
        "# in our excel in the sheet Overview we have\n",
        "\n",
        "img = mpimg.imread('images/img_5.PNG')\n",
        "plt.imshow(img)\n",
        "plt.rcParams['figure.figsize'] = [12, 10]\n",
        "plt.axis('off')\n",
        "plt.show()"
      ]
    },
    {
      "cell_type": "markdown",
      "id": "7c565e0e",
      "metadata": {
        "id": "7c565e0e"
      },
      "source": [
        "### Copy new data to excel overview"
      ]
    },
    {
      "cell_type": "code",
      "execution_count": null,
      "id": "fd23adee-9cb4-4221-ad76-3ebff9ba009c",
      "metadata": {
        "id": "fd23adee-9cb4-4221-ad76-3ebff9ba009c"
      },
      "outputs": [],
      "source": [
        "def copyRange(startCol, startRow, endCol, endRow, sheet):\n",
        "    rangeSelected = []\n",
        "    # Loops through selected Rows\n",
        "    for i in range(\n",
        "      startRow,endRow + 1,1):\n",
        "        # Appends the row to a RowSelected list\n",
        "        rowSelected = []\n",
        "        for j in range(startCol,endCol+1,1):\n",
        "            rowSelected.append(sheet.cell(row = i, column = j).value)\n",
        "        # Adds the RowSelected List and nests inside the rangeSelected\n",
        "        rangeSelected.append(rowSelected)\n",
        "\n",
        "    return rangeSelected"
      ]
    },
    {
      "cell_type": "code",
      "execution_count": null,
      "id": "c4f60a9a-1d9a-4b08-affa-ac0e8e2c14f2",
      "metadata": {
        "id": "c4f60a9a-1d9a-4b08-affa-ac0e8e2c14f2"
      },
      "outputs": [],
      "source": [
        "# Paste data from copyRange into template sheet\n",
        "def pasteRange(startCol, startRow, endCol, endRow, sheetReceiving, copiedData):\n",
        "    countRow = 0\n",
        "    for i in range(startRow,endRow+1,1):\n",
        "        countCol = 0\n",
        "        for j in range(startCol,endCol+1,1):\n",
        "            \n",
        "            sheetReceiving.cell(row = i, column = j).value = copiedData[countRow][countCol]\n",
        "            countCol += 1\n",
        "        countRow += 1"
      ]
    },
    {
      "cell_type": "raw",
      "id": "e708bc15",
      "metadata": {
        "id": "e708bc15"
      },
      "source": [
        "cell notation with xl_rowcol_to_cell\n",
        "\n",
        "(0, 0)      # Row-column notation.\n",
        "('A1')      # The same cell in A1 notation.\n",
        "\n",
        "(6, 2)      # Row-column notation.\n",
        "('C7')      # The same cell in A1 notation"
      ]
    },
    {
      "cell_type": "code",
      "execution_count": null,
      "id": "019f95ac-1daa-470f-8268-4b12de343289",
      "metadata": {
        "id": "019f95ac-1daa-470f-8268-4b12de343289"
      },
      "outputs": [],
      "source": [
        "# cell notation with xl_rowcol_to_cell\n",
        "\n",
        "print(xl_rowcol_to_cell(6,2)) # always add + 1\n",
        "print(xl_rowcol_to_cell(0,0))\n",
        "print(xl_rowcol_to_cell(9,3))"
      ]
    },
    {
      "cell_type": "code",
      "execution_count": null,
      "id": "e9cae3c5-ba91-458f-a4a1-a0ab084ef4eb",
      "metadata": {
        "id": "e9cae3c5-ba91-458f-a4a1-a0ab084ef4eb"
      },
      "outputs": [],
      "source": [
        "print(business_df.shape)\n",
        "\n",
        "# get only the values of the business_df (omit indices)\n",
        "business_values = business_df.values\n",
        "print(len(business_values))\n",
        "print(len(business_values[0]))"
      ]
    },
    {
      "cell_type": "raw",
      "id": "4e3a3384-daf7-4a5e-88cc-906184ee4b0b",
      "metadata": {
        "id": "4e3a3384-daf7-4a5e-88cc-906184ee4b0b"
      },
      "source": [
        "We want to paste in the excel, sheet overview with function \n",
        "pasteRange()\n",
        "\n",
        "But first, we need to compute the range where to pasted\n",
        "\n"
      ]
    },
    {
      "cell_type": "code",
      "execution_count": null,
      "id": "12076063-5a60-468d-b99f-6b066664b693",
      "metadata": {
        "id": "12076063-5a60-468d-b99f-6b066664b693"
      },
      "outputs": [],
      "source": [
        "# write a function that will compute the accurate nb of rows by omitting blanks\n",
        "def get_maximum_rows_blank(*, sheet_object):\n",
        "    rows = 0\n",
        "    for max_row, row in enumerate(sheet_object, 1):\n",
        "        if  not all(col.value is None for col in row):\n",
        "            rows += 1\n",
        "        \n",
        "    return rows\n",
        "\n",
        "# call the new function\n",
        "get_maximum_rows_blank(sheet_object = overview) "
      ]
    },
    {
      "cell_type": "code",
      "execution_count": null,
      "id": "bf447b3c-48f7-4c0b-9a77-a8f1af043e70",
      "metadata": {
        "id": "bf447b3c-48f7-4c0b-9a77-a8f1af043e70"
      },
      "outputs": [],
      "source": [
        "# write a function that will compute the accurate nb of rows including the blanks, up to the last non blanks\n",
        "def get_maximum_rows(*, sheet_object):\n",
        "    df_range= 'A1:' + str(get_column_letter(sheet_object.max_column)) + str(sheet_object.max_row)\n",
        "    rows = 0\n",
        "    for idx, row in enumerate(sheet_object[df_range]): # values_only=True meanse we want to access the values\n",
        "        if not all(col.value is None for col in row):\n",
        "            rows += 1\n",
        "            last_row = idx+1\n",
        "    return last_row\n",
        "\n",
        "get_maximum_rows(sheet_object = overview) "
      ]
    },
    {
      "cell_type": "code",
      "execution_count": null,
      "id": "483c02a4-a6e0-4bb5-bf97-570c51dd8eb6",
      "metadata": {
        "id": "483c02a4-a6e0-4bb5-bf97-570c51dd8eb6"
      },
      "outputs": [],
      "source": [
        "def get_maximum_cols(sheet):\n",
        "    for i in range(2, 20000):\n",
        "        if sheet.cell(row=1, column= i).value == None:\n",
        "            max_col = i\n",
        "            break\n",
        "    return max_col-1"
      ]
    },
    {
      "cell_type": "code",
      "execution_count": null,
      "id": "6a6c8bc1-b59f-4514-a000-e89f0fd5ae5d",
      "metadata": {
        "id": "6a6c8bc1-b59f-4514-a000-e89f0fd5ae5d"
      },
      "outputs": [],
      "source": [
        "# so will use the last non blank row with funct get_maximum_rows, which give us 3\n",
        "# we know that we want to add business_df values under this row\n",
        "\n",
        "img = mpimg.imread('images/img_5.PNG')\n",
        "plt.imshow(img)\n",
        "plt.rcParams['figure.figsize'] = [12, 10]\n",
        "plt.axis('off')\n",
        "plt.show()"
      ]
    },
    {
      "cell_type": "code",
      "execution_count": null,
      "id": "9d3b2772-dd74-48a0-86cc-041b42c88ade",
      "metadata": {
        "id": "9d3b2772-dd74-48a0-86cc-041b42c88ade"
      },
      "outputs": [],
      "source": [
        "# compute the coordianted for the range where to paste\n",
        "\n",
        "start_row = get_maximum_rows(sheet_object = overview)\n",
        "print(start_row)\n",
        "start_col = 1\n",
        "print(start_col)\n",
        "end_row = get_maximum_rows(sheet_object = overview) + business_df.shape[0] -1\n",
        "print(end_row)\n",
        "end_col = business_df.shape[1] \n",
        "print(end_col)"
      ]
    },
    {
      "cell_type": "code",
      "execution_count": null,
      "id": "d704ca22-0979-4ed8-8f88-c449b444abf5",
      "metadata": {
        "id": "d704ca22-0979-4ed8-8f88-c449b444abf5"
      },
      "outputs": [],
      "source": [
        "# the range where we want to paste the data B4:O7\n",
        "\n",
        "# check if we computed correctly the range whe we want to paste business_df values\n",
        "xl_range(start_row , # starting row # 4\n",
        "         start_col, # start_col B\n",
        "         end_row , # end_row 0\n",
        "         end_col) # end_col"
      ]
    },
    {
      "cell_type": "code",
      "execution_count": null,
      "id": "3dcdca69-f2db-4a0c-911d-30c30ef03401",
      "metadata": {
        "id": "3dcdca69-f2db-4a0c-911d-30c30ef03401"
      },
      "outputs": [],
      "source": [
        "# be carefull the paste range has to have the same dimensions as the selected range\n",
        "\n",
        "pasteRange(startCol = start_col+1,\n",
        "           startRow = start_row + 1, \n",
        "           endCol= end_col+1, \n",
        "           endRow = end_row +1, \n",
        "           sheetReceiving= overview,\n",
        "           copiedData = business_values)"
      ]
    },
    {
      "cell_type": "code",
      "execution_count": null,
      "id": "3f3d0ef4-7e42-4fc4-ae9b-451a9c1c0c3e",
      "metadata": {
        "id": "3f3d0ef4-7e42-4fc4-ae9b-451a9c1c0c3e"
      },
      "outputs": [],
      "source": [
        "# save the new workbook \n",
        "wb.save('Budget_processed.xlsx')"
      ]
    },
    {
      "cell_type": "raw",
      "id": "51047575",
      "metadata": {
        "id": "51047575"
      },
      "source": [
        "Insert Monthly total row"
      ]
    },
    {
      "cell_type": "code",
      "execution_count": null,
      "id": "b0853186",
      "metadata": {
        "id": "b0853186"
      },
      "outputs": [],
      "source": [
        "# insert 2 rowsat row 4 (after row INCOME/EXPEND and row with month)\n",
        "\n",
        "overview.insert_rows(idx=4, # row location\n",
        "                  amount=2) # how many rows to insert\n",
        "wb.save('Budget_processed.xlsx')  "
      ]
    },
    {
      "cell_type": "code",
      "execution_count": null,
      "id": "f67cca4b-a24f-42d6-a3e7-35e0158d1b6c",
      "metadata": {
        "id": "f67cca4b-a24f-42d6-a3e7-35e0158d1b6c"
      },
      "outputs": [],
      "source": [
        "# see what was written\n",
        "for idx,row in enumerate(overview[\"A1:O7\"]):\n",
        "    print (idx+1, [x.value for x in row])"
      ]
    },
    {
      "cell_type": "raw",
      "id": "a16e5c7e-fa10-4945-92c5-3f0b26bdc37a",
      "metadata": {
        "id": "a16e5c7e-fa10-4945-92c5-3f0b26bdc37a"
      },
      "source": [
        "Write monthly_total in excel"
      ]
    },
    {
      "cell_type": "code",
      "execution_count": null,
      "id": "2b6fb708",
      "metadata": {
        "id": "2b6fb708"
      },
      "outputs": [],
      "source": [
        "# copy monthly total row at 4th row\n",
        "\n",
        "cellrange= monthly_total \n",
        "target_row= 4\n",
        "for i in range(0, len(cellrange)): \n",
        "    overview.cell(row=target_row, column = i+2).value= cellrange[i]\n",
        "    # + 1 because we have data shifted by 1 column in excel\n",
        "\n",
        "# see what was written\n",
        "for idx,row in enumerate(overview[\"A1:O7\"]):\n",
        "    print (idx+1, [x.value for x in row])    \n",
        "\n",
        "wb.save('Budget_processed.xlsx')  "
      ]
    },
    {
      "cell_type": "markdown",
      "id": "b3417767",
      "metadata": {
        "id": "b3417767"
      },
      "source": [
        "Insert monthly evolution"
      ]
    },
    {
      "cell_type": "raw",
      "id": "4c1f379e-e911-416f-8ea6-c5dd5c4314cf",
      "metadata": {
        "id": "4c1f379e-e911-416f-8ea6-c5dd5c4314cf"
      },
      "source": [
        "Evolution"
      ]
    },
    {
      "cell_type": "code",
      "execution_count": null,
      "id": "16a4a157",
      "metadata": {
        "id": "16a4a157"
      },
      "outputs": [],
      "source": [
        "# copy monthly evolution total row at 4th row\n",
        "\n",
        "cellrange= ev\n",
        "target_row= 5\n",
        "for i in range(0, len(cellrange)): \n",
        "    overview.cell(row=target_row, column = i+2).value= cellrange[i]\n",
        "    # + 2 because we have data shifted by 1 column in excel\n",
        "\n",
        "# see what was written\n",
        "for idx,row in enumerate(overview[\"A1:O7\"]):\n",
        "    print (idx+1, [x.value for x in row])\n",
        "    \n",
        "wb.save('Budget_processed.xlsx')  "
      ]
    },
    {
      "cell_type": "raw",
      "id": "15223dac-5a0a-4476-a8a2-dd9a4bc8271a",
      "metadata": {
        "id": "15223dac-5a0a-4476-a8a2-dd9a4bc8271a"
      },
      "source": [
        "Add list : \n",
        "[ Month, MonthlyTotal, M2M evol, \n",
        "  B2B, B2C_1, B2C_2, Fleet]\n",
        "\n",
        "in the 1st column ['A4:A10]"
      ]
    },
    {
      "cell_type": "code",
      "execution_count": null,
      "id": "46c2815d-8456-4954-a5fa-351ac1ffd7dd",
      "metadata": {
        "id": "46c2815d-8456-4954-a5fa-351ac1ffd7dd"
      },
      "outputs": [],
      "source": [
        "# to obtain this list...\n",
        "# we neetd to contatenate the strings Month, MonthlyTotal, M2M evol\n",
        "# B2B, B2C_1, B2C_2, Fleet from business_df\n",
        "\n",
        "l1 = ['Month', 'MonthlyTotal', 'M2M evol']\n",
        "l2 = list(business_df.index)\n",
        "col_1 = l1 + l2\n",
        "col_1"
      ]
    },
    {
      "cell_type": "code",
      "execution_count": null,
      "id": "a1c57394-0ea6-4f7c-a825-bcefe61e782f",
      "metadata": {
        "id": "a1c57394-0ea6-4f7c-a825-bcefe61e782f"
      },
      "outputs": [],
      "source": [
        "# write it to the excel\n",
        "\n",
        "starting_row = 3\n",
        "\n",
        "for r in col_1:\n",
        "    overview.cell(row=starting_row, column=1).value = r\n",
        "    # 3.3 increment the counter\n",
        "    starting_row= starting_row + 1\n",
        "    \n",
        "# see what was written\n",
        "for idx,row in enumerate(overview[\"A1:O7\"]):\n",
        "    print (idx+1, [x.value for x in row])\n",
        "\n",
        "# !!!! Don't forget to save the modification\n",
        "wb.save('Budget_processed.xlsx')"
      ]
    },
    {
      "cell_type": "code",
      "execution_count": null,
      "id": "d7ebeee1-f6e3-4b5d-be83-3ee5a9f0d35d",
      "metadata": {
        "id": "d7ebeee1-f6e3-4b5d-be83-3ee5a9f0d35d"
      },
      "outputs": [],
      "source": [
        "# review screenshot !!\n",
        "img = mpimg.imread('images/img_7.PNG')\n",
        "plt.imshow(img)\n",
        "plt.rcParams['figure.figsize'] = [12, 10]\n",
        "plt.axis('off')\n",
        "plt.show()"
      ]
    },
    {
      "cell_type": "markdown",
      "id": "f4a5a4e2",
      "metadata": {
        "id": "f4a5a4e2"
      },
      "source": [
        "## Previous Month "
      ]
    },
    {
      "cell_type": "code",
      "execution_count": null,
      "id": "a8484a32-bdff-4ad2-a4c0-475f9f6386fd",
      "metadata": {
        "id": "a8484a32-bdff-4ad2-a4c0-475f9f6386fd"
      },
      "outputs": [],
      "source": [
        "# Previous month lime color\n",
        "# review screenshot !!\n",
        "img = mpimg.imread('images/img_6.PNG')\n",
        "plt.imshow(img)\n",
        "plt.rcParams['figure.figsize'] = [12, 10]\n",
        "plt.axis('off')\n",
        "plt.show()"
      ]
    },
    {
      "cell_type": "code",
      "execution_count": null,
      "id": "b56f0f48",
      "metadata": {
        "id": "b56f0f48"
      },
      "outputs": [],
      "source": [
        "print(months)\n",
        "previous_month = months[-3]\n",
        "previous_month\n",
        "#months.index(previous_month)"
      ]
    },
    {
      "cell_type": "code",
      "execution_count": null,
      "id": "492ddfc0",
      "metadata": {
        "id": "492ddfc0"
      },
      "outputs": [],
      "source": [
        "business_df.columns"
      ]
    },
    {
      "cell_type": "code",
      "execution_count": null,
      "id": "58a51085",
      "metadata": {
        "id": "58a51085"
      },
      "outputs": [],
      "source": [
        "# compute the range uptil the previous month for INCOME\n",
        "\n",
        "inc_idx= []\n",
        "range_end = []\n",
        "\n",
        "# in the incomu columns\n",
        "for idx, col in enumerate(business_df.columns):\n",
        "    if 'Income' in col:\n",
        "        inc_idx.append(idx)\n",
        "        if previous_month in col:\n",
        "              range_end= idx \n",
        "                \n",
        "print(min(inc_idx)) \n",
        "print(range_end)\n",
        "\n",
        "range_prev_inc = [min(inc_idx), range_end]\n",
        "print(range_prev_inc) # uptil May"
      ]
    },
    {
      "cell_type": "code",
      "execution_count": null,
      "id": "9d05e3f9",
      "metadata": {
        "id": "9d05e3f9"
      },
      "outputs": [],
      "source": [
        "# what we get up to May\n",
        "business_df.iloc[:, min(inc_idx):range_end+1] # +1 as in range the interval is open"
      ]
    },
    {
      "cell_type": "code",
      "execution_count": null,
      "id": "d9a8f380",
      "metadata": {
        "id": "d9a8f380"
      },
      "outputs": [],
      "source": [
        "# first sum all columns\n",
        "# 2nd sum all rows\n",
        "\n",
        "previous_income = business_df.iloc[:, min(inc_idx):range_end+1].sum(axis=1).sum()\n",
        "previous_income"
      ]
    },
    {
      "cell_type": "code",
      "execution_count": null,
      "id": "4b9e38a3",
      "metadata": {
        "id": "4b9e38a3"
      },
      "outputs": [],
      "source": [
        "# copy the value in excel\n",
        "# first we need to identify the coordinates where to copy the valye\n",
        "# we know that this cell will be above Total Columns"
      ]
    },
    {
      "cell_type": "code",
      "execution_count": null,
      "id": "d3b3514a",
      "metadata": {
        "id": "d3b3514a"
      },
      "outputs": [],
      "source": [
        "# columns nb where we have totals\n",
        "\n",
        "total_col = []\n",
        "# find column number of column that = Total\n",
        "for i in range(1, overview.max_column+1):# without + 1\n",
        "    ref = overview.cell(row=3, column=i)\n",
        "    if ref.value == 'Total':\n",
        "        total_col.append(ref.column)\n",
        "        print('the column nb for Total is: ', ref.column)\n",
        "        \n",
        "print(total_col)"
      ]
    },
    {
      "cell_type": "code",
      "execution_count": null,
      "id": "0944c3de",
      "metadata": {
        "id": "0944c3de"
      },
      "outputs": [],
      "source": [
        "print('the column where to add Previous Total for INCOME', get_column_letter(total_col[0]))\n",
        "row = 1 # row nb where to paste previous income value\n",
        "ref = str(get_column_letter(total_col[0])) + str(row)\n",
        "\n",
        "\n",
        "print('the cell reference where to add Previous Total for INCOME', ref)"
      ]
    },
    {
      "cell_type": "code",
      "execution_count": null,
      "id": "7369e3a9",
      "metadata": {
        "id": "7369e3a9"
      },
      "outputs": [],
      "source": [
        "# write it in Excel \n",
        "overview[ref] = round(previous_income,2)\n",
        "overview[ref].value"
      ]
    },
    {
      "cell_type": "code",
      "execution_count": null,
      "id": "95fa4d5f",
      "metadata": {
        "id": "95fa4d5f"
      },
      "outputs": [],
      "source": [
        "# string Prevous month\n",
        "ref = str(get_column_letter(total_col[0]-1)) + str(row)\n",
        "print(ref)\n",
        "overview[ref] = 'Prior'\n",
        "overview[ref].value"
      ]
    },
    {
      "cell_type": "code",
      "execution_count": null,
      "id": "5caf1aea-34e2-41a8-a157-124b349b4cbf",
      "metadata": {
        "id": "5caf1aea-34e2-41a8-a157-124b349b4cbf"
      },
      "outputs": [],
      "source": [
        "# see what was written\n",
        "for idx,row in enumerate(overview[\"A1:O2\"]):\n",
        "    print (idx+1, [x.value for x in row])\n"
      ]
    },
    {
      "cell_type": "code",
      "execution_count": null,
      "id": "7cf49d36",
      "metadata": {
        "id": "7cf49d36"
      },
      "outputs": [],
      "source": [
        "# save \n",
        "wb.save('Budget_processed.xlsx')  "
      ]
    },
    {
      "cell_type": "raw",
      "id": "8aa48644-a9f1-4ce8-9429-26f5f007d5ca",
      "metadata": {
        "id": "8aa48644-a9f1-4ce8-9429-26f5f007d5ca"
      },
      "source": [
        "now the same for expenditure previous month"
      ]
    },
    {
      "cell_type": "code",
      "execution_count": null,
      "id": "4b0a9d00-eb3b-4399-9ba1-fa2cc736117f",
      "metadata": {
        "id": "4b0a9d00-eb3b-4399-9ba1-fa2cc736117f"
      },
      "outputs": [],
      "source": [
        "\n",
        "\n",
        "# string Prevous month\n",
        "ref = str(get_column_letter(total_col[1]-1)) + str(row)\n",
        "ref\n",
        "#overview[ref] = 'Prior'"
      ]
    },
    {
      "cell_type": "code",
      "execution_count": null,
      "id": "2f54e0bc-f474-4417-9ae3-eb0f49e700f7",
      "metadata": {
        "id": "2f54e0bc-f474-4417-9ae3-eb0f49e700f7"
      },
      "outputs": [],
      "source": [
        "# compute the range uptil the previous month for expenditure\n",
        "\n",
        "inc_idx= []\n",
        "range_end = []\n",
        "\n",
        "# in the exp columns\n",
        "for idx, col in enumerate(business_df.columns):\n",
        "    if 'Expenditure' in col:\n",
        "        inc_idx.append(idx)\n",
        "        if previous_month in col:\n",
        "              range_end= idx \n",
        "                \n",
        "range_prev_exp = [min(inc_idx), range_end]\n",
        "\n",
        "# compute all prior exp\n",
        "previous_exp = business_df.iloc[:, min(inc_idx):range_end+1].sum(axis=1).sum()\n",
        "\n",
        "# cell ref\n",
        "row = 1 # row nb where to paste previous income value\n",
        "ref = str(get_column_letter(total_col[1])) + str(row)\n",
        "\n",
        "# write it in Excel value\n",
        "overview[ref] = round(previous_exp,2)\n",
        "\n",
        "\n",
        "# string Prevous month\n",
        "ref = str(get_column_letter(total_col[1]-1)) + str(row)\n",
        "overview[ref] = 'Prior'"
      ]
    },
    {
      "cell_type": "code",
      "execution_count": null,
      "id": "30cada7f-3bf9-4a35-95ad-95ba48c3c3b5",
      "metadata": {
        "id": "30cada7f-3bf9-4a35-95ad-95ba48c3c3b5"
      },
      "outputs": [],
      "source": [
        "# see what was written\n",
        "for idx,row in enumerate(overview[\"A1:O2\"]):\n",
        "    print (idx+1, [x.value for x in row])"
      ]
    },
    {
      "cell_type": "code",
      "execution_count": null,
      "id": "0b3e8533",
      "metadata": {
        "id": "0b3e8533"
      },
      "outputs": [],
      "source": [
        "wb.save('Budget_processed.xlsx')  "
      ]
    },
    {
      "cell_type": "code",
      "execution_count": null,
      "id": "d38afa3b-8150-421f-8c1d-86889136c3f3",
      "metadata": {
        "id": "d38afa3b-8150-421f-8c1d-86889136c3f3"
      },
      "outputs": [],
      "source": [
        "# Previous month \n",
        "# review screenshot !!\n",
        "img = mpimg.imread('images/img_8.PNG')\n",
        "plt.imshow(img)\n",
        "plt.rcParams['figure.figsize'] = [12, 10]\n",
        "plt.axis('off')\n",
        "plt.show()"
      ]
    },
    {
      "cell_type": "markdown",
      "id": "4819f3ca",
      "metadata": {
        "id": "4819f3ca"
      },
      "source": [
        "## Copy / Insert/ Paste overview "
      ]
    },
    {
      "cell_type": "code",
      "execution_count": null,
      "id": "e80de590",
      "metadata": {
        "id": "e80de590"
      },
      "outputs": [],
      "source": [
        "# we want to insert the data frame from overview sheet to Data sheet\n",
        "\n",
        "# Steps\n",
        "# Insert rows on Data sheet\n",
        "# Copy celrange from overview sheet\n",
        "# Paste copied cellrane to Datasheeet\n",
        "# delete overview sheet that we wont need anymore"
      ]
    },
    {
      "cell_type": "code",
      "execution_count": null,
      "id": "fd04a73e",
      "metadata": {
        "id": "fd04a73e"
      },
      "outputs": [],
      "source": [
        "# back to our sheet called Data\n",
        "sheet.title"
      ]
    },
    {
      "cell_type": "code",
      "execution_count": null,
      "id": "800bfc0d",
      "metadata": {
        "id": "800bfc0d"
      },
      "outputs": [],
      "source": [
        "# insert 12 rows, starting at row 1\n",
        "\n",
        "# insert rows\n",
        "\n",
        "sheet.insert_rows(idx=1, # row location\n",
        "                  amount=12) # how many rows to insert\n",
        "wb.save('Budget_processed.xlsx')                "
      ]
    },
    {
      "cell_type": "code",
      "execution_count": null,
      "id": "b1ffac0f",
      "metadata": {
        "id": "b1ffac0f"
      },
      "outputs": [],
      "source": [
        "# inserted rows in Data sheet\n",
        "\n",
        "img = mpimg.imread('images/img_9.PNG')\n",
        "plt.imshow(img)\n",
        "plt.rcParams['figure.figsize'] = [12, 10]\n",
        "plt.axis('off')\n",
        "plt.show()"
      ]
    },
    {
      "cell_type": "code",
      "execution_count": null,
      "id": "237fdc2d-7227-4d18-a1eb-c6b65307b3b4",
      "metadata": {
        "id": "237fdc2d-7227-4d18-a1eb-c6b65307b3b4"
      },
      "outputs": [],
      "source": [
        "# copy the overview df\n",
        "\n",
        "selectedRange = copyRange(startCol =1,\n",
        "                          startRow= 1,\n",
        "                          endCol= business_df.shape[1]+1 ,\n",
        "                          endRow = get_maximum_rows_blank(sheet_object = overview),\n",
        "                          sheet = overview)\n",
        "\n",
        "print(len(selectedRange))\n",
        "for row in selectedRange:\n",
        "    print(row)"
      ]
    },
    {
      "cell_type": "code",
      "execution_count": null,
      "id": "65655025",
      "metadata": {
        "id": "65655025"
      },
      "outputs": [],
      "source": [
        "pasteRange(startCol = 1,\n",
        "           startRow = 2, \n",
        "           endCol= business_df.shape[1]+1, \n",
        "           endRow = get_maximum_rows_blank(sheet_object = overview),\n",
        "           sheetReceiving= sheet,\n",
        "           copiedData = selectedRange)\n",
        "\n",
        "# see what was written\n",
        "for idx,row in enumerate(overview[\"A1:O14\"]):\n",
        "    print (idx+1, [x.value for x in row])\n",
        "\n",
        "   "
      ]
    },
    {
      "cell_type": "code",
      "execution_count": null,
      "id": "2ac19531-feb1-43b5-aa52-85f5253593bb",
      "metadata": {
        "id": "2ac19531-feb1-43b5-aa52-85f5253593bb"
      },
      "outputs": [],
      "source": [
        "# past rows in Data sheet\n",
        "\n",
        "img = mpimg.imread('images/img_10.PNG')\n",
        "plt.imshow(img)\n",
        "plt.rcParams['figure.figsize'] = [12, 10]\n",
        "plt.axis('off')\n",
        "plt.show()"
      ]
    },
    {
      "cell_type": "code",
      "execution_count": null,
      "id": "673495e0-0a7a-4fbc-ad40-8a866698befe",
      "metadata": {
        "id": "673495e0-0a7a-4fbc-ad40-8a866698befe"
      },
      "outputs": [],
      "source": [
        "wb.save('Budget_processed.xlsx') "
      ]
    },
    {
      "cell_type": "code",
      "execution_count": null,
      "id": "6115ffe3-6f57-4b48-b648-265e13439658",
      "metadata": {
        "id": "6115ffe3-6f57-4b48-b648-265e13439658"
      },
      "outputs": [],
      "source": [
        "# remove autofilers\n",
        "\n",
        "sheet.auto_filter.ref = None\n",
        "for i in range(2, sheet.max_row + 1):\n",
        "    sheet.row_dimensions[i].hidden = False\n",
        "\n",
        "wb.save('Budget_processed.xlsx') "
      ]
    },
    {
      "cell_type": "code",
      "execution_count": null,
      "id": "cd08cd64-edeb-45bb-be91-3ebaa0d676b2",
      "metadata": {
        "id": "cd08cd64-edeb-45bb-be91-3ebaa0d676b2"
      },
      "outputs": [],
      "source": [
        "# after removing the autofilers\n",
        "\n",
        "img = mpimg.imread('images/img_11.PNG')\n",
        "plt.imshow(img)\n",
        "plt.rcParams['figure.figsize'] = [12, 10]\n",
        "plt.axis('off')\n",
        "plt.show()"
      ]
    },
    {
      "cell_type": "code",
      "execution_count": null,
      "id": "6809e228",
      "metadata": {
        "id": "6809e228"
      },
      "outputs": [],
      "source": [
        "# remove overview sheet\n",
        "wb.remove(overview) \n",
        "\n",
        "# remove 'Department' sheet\n",
        "wb.remove(wb[wb.sheetnames[1]]) \n",
        "\n",
        "print(wb.sheetnames)\n",
        "\n",
        "\n",
        "# save the new workbook \n",
        "wb.save('Budget_processed.xlsx')"
      ]
    },
    {
      "cell_type": "code",
      "execution_count": null,
      "id": "50b51c80-8748-4a62-9e6a-57ad7a9b75c4",
      "metadata": {
        "id": "50b51c80-8748-4a62-9e6a-57ad7a9b75c4"
      },
      "outputs": [],
      "source": [
        "# close  workbokk\n",
        "wb.close()"
      ]
    },
    {
      "cell_type": "code",
      "execution_count": null,
      "id": "36d9cded-7990-4110-bd46-8d307292f305",
      "metadata": {
        "id": "36d9cded-7990-4110-bd46-8d307292f305"
      },
      "outputs": [],
      "source": []
    },
    {
      "cell_type": "code",
      "execution_count": null,
      "id": "78e32ff1-9aed-4673-a39a-3aa0ef2c725a",
      "metadata": {
        "id": "78e32ff1-9aed-4673-a39a-3aa0ef2c725a"
      },
      "outputs": [],
      "source": []
    }
  ],
  "metadata": {
    "kernelspec": {
      "display_name": "Python 3 (ipykernel)",
      "language": "python",
      "name": "python3"
    },
    "language_info": {
      "codemirror_mode": {
        "name": "ipython",
        "version": 3
      },
      "file_extension": ".py",
      "mimetype": "text/x-python",
      "name": "python",
      "nbconvert_exporter": "python",
      "pygments_lexer": "ipython3",
      "version": "3.9.7"
    },
    "toc-autonumbering": true,
    "colab": {
      "provenance": [],
      "toc_visible": true,
      "include_colab_link": true
    }
  },
  "nbformat": 4,
  "nbformat_minor": 5
}